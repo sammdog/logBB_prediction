{
  "cells": [
    {
      "cell_type": "markdown",
      "metadata": {
        "id": "view-in-github",
        "colab_type": "text"
      },
      "source": [
        "<a href=\"https://colab.research.google.com/github/sammdog/logBB_prediction/blob/main/_%D0%B3%D0%B5%D0%BD%D0%B5%D1%80%D0%B0%D1%86%D0%B8%D1%8F_%D0%B8_%D0%BE%D1%82%D0%B1%D0%BE%D1%80_%D0%BF%D1%80%D0%B8%D0%B7%D0%BD%D0%B0%D0%BA%D0%BE%D0%B2_%2B_linear_%2B_knn%2Bforest%2Bansamble%2Blgbmgradient%2Bnnregr.ipynb\" target=\"_parent\"><img src=\"https://colab.research.google.com/assets/colab-badge.svg\" alt=\"Open In Colab\"/></a>"
      ]
    },
    {
      "cell_type": "markdown",
      "metadata": {
        "id": "qIMH7WVYkeNG"
      },
      "source": [
        "# **Генерация и отбор признаков**"
      ]
    },
    {
      "cell_type": "code",
      "execution_count": null,
      "metadata": {
        "colab": {
          "base_uri": "https://localhost:8080/"
        },
        "id": "FQIVbzcrmuOl",
        "outputId": "c3fe4d8a-a163-456e-d6aa-396a204474be"
      },
      "outputs": [
        {
          "output_type": "stream",
          "name": "stdout",
          "text": [
            "Collecting rdkit\n",
            "  Downloading rdkit-2023.9.5-cp310-cp310-manylinux_2_17_x86_64.manylinux2014_x86_64.whl (34.4 MB)\n",
            "\u001b[2K     \u001b[90m━━━━━━━━━━━━━━━━━━━━━━━━━━━━━━━━━━━━━━━━\u001b[0m \u001b[32m34.4/34.4 MB\u001b[0m \u001b[31m1.8 MB/s\u001b[0m eta \u001b[36m0:00:00\u001b[0m\n",
            "\u001b[?25hRequirement already satisfied: numpy in /usr/local/lib/python3.10/dist-packages (from rdkit) (1.25.2)\n",
            "Requirement already satisfied: Pillow in /usr/local/lib/python3.10/dist-packages (from rdkit) (9.4.0)\n",
            "Installing collected packages: rdkit\n",
            "Successfully installed rdkit-2023.9.5\n"
          ]
        }
      ],
      "source": [
        "!pip install rdkit"
      ]
    },
    {
      "cell_type": "code",
      "execution_count": null,
      "metadata": {
        "id": "OomP_jK4lsce"
      },
      "outputs": [],
      "source": [
        "import warnings\n",
        "warnings.filterwarnings(\"ignore\")"
      ]
    },
    {
      "cell_type": "code",
      "execution_count": null,
      "metadata": {
        "id": "rz0MvtL9ml91"
      },
      "outputs": [],
      "source": [
        "import pandas as pd\n",
        "import numpy as np\n",
        "\n",
        "from collections import defaultdict\n",
        "from rdkit import Chem\n",
        "from rdkit.Chem import Crippen, Descriptors, GraphDescriptors, Lipinski, QED, rdMolDescriptors\n",
        "from tqdm import tqdm"
      ]
    },
    {
      "cell_type": "code",
      "execution_count": null,
      "metadata": {
        "colab": {
          "base_uri": "https://localhost:8080/",
          "height": 383
        },
        "id": "ZNuqGyjbml-z",
        "outputId": "ddf0f8d6-74e8-4c90-cf0a-6da7cd315a05"
      },
      "outputs": [
        {
          "output_type": "execute_result",
          "data": {
            "text/plain": [
              "     logBB                                             SMILES  #HBA  #ROTB  \\\n",
              "176   1.19                 CN(C)CCCN1C2=CC=CC=C2SC2=CC=CC=C21   3.0    4.0   \n",
              "458   1.20              CCC1=CC=CC(N=C(C)NC2=CC=CC(CC)=C2)=C1   1.0    4.0   \n",
              "518   1.25  OC1=CC=C2C(OC3=CC=C(OCCN4CCCCC4)C=C3)=C(C3=CC=...   4.0    7.0   \n",
              "146   1.25                  CN(C)CCOC(C1=CC=CC=C1)C1=CC=CC=C1   2.0    6.0   \n",
              "363   1.25                  CC(NC(C)(C)C)C(=O)C1=CC=CC(Cl)=C1   2.0    3.0   \n",
              "406   1.26   COC1=CC=C(C2=NN(C)C(C3=CC=CC(CN(C)C)=C3)=N2)C=C1   4.0    5.0   \n",
              "598   1.26                   CN(C)COC(C1=CC=CC=C1)C1=CC=CC=C1   2.0    5.0   \n",
              "338   1.26  COC1=CC2=C(C=C1CNC1CCCNC1C1=CC=CC=C1)N=C(C1=CC...   4.0    6.0   \n",
              "599   1.30              CNCCCC12CCC(C3=CC=CC=C31)C1=CC=CC=C12   1.0    4.0   \n",
              "440   1.30               CC(CN1C2=CC=CC=C2SC2=CC=CC=C21)N(C)C   3.0    3.0   \n",
              "\n",
              "     #ALERTS  MlogP     #MR  #NHOH  #AromaticCarbocycles  \\\n",
              "176      0.0   4.24   87.18    0.0                   2.0   \n",
              "458      2.0   4.97   88.03    1.0                   2.0   \n",
              "518      0.0   7.01  133.31    1.0                   4.0   \n",
              "146      0.0   3.35   79.23    0.0                   2.0   \n",
              "363      1.0   3.30   68.13    1.0                   1.0   \n",
              "406      0.0   3.22   95.82    0.0                   2.0   \n",
              "598      1.0   3.31   74.37    0.0                   2.0   \n",
              "338      0.0   5.55  128.66    2.0                   3.0   \n",
              "599      1.0   4.21   87.90    1.0                   2.0   \n",
              "440      0.0   4.24   87.16    0.0                   2.0   \n",
              "\n",
              "     #AromaticHeterocycles  #Heteroatoms  Morgan3  MaxPartialCharge  \\\n",
              "176                    0.0           3.0     2.00              0.06   \n",
              "458                    0.0           2.0     2.30              0.10   \n",
              "518                    0.0           5.0     2.29              0.14   \n",
              "146                    0.0           2.0     1.74              0.11   \n",
              "363                    0.0           3.0     2.50              0.18   \n",
              "406                    1.0           5.0     2.46              0.18   \n",
              "598                    0.0           2.0     1.67              0.11   \n",
              "338                    1.0           5.0     2.61              0.12   \n",
              "599                    0.0           1.0     2.24              0.02   \n",
              "440                    0.0           3.0     1.95              0.06   \n",
              "\n",
              "     MinPartialCharge  BalabanJ          Ipc  HallKierAlpha  Kappa3  \n",
              "176             -0.34      1.91     51348.90          -1.45    2.69  \n",
              "458             -0.34      2.13     38082.35          -2.09    3.95  \n",
              "518             -0.51      1.36  81471223.14          -3.57    5.15  \n",
              "146             -0.37      2.14     26276.55          -1.64    4.19  \n",
              "363             -0.30      2.78      2302.60          -0.86    3.95  \n",
              "406             -0.50      1.93    363326.24          -2.66    3.46  \n",
              "598             -0.35      2.24     16001.46          -1.64    3.42  \n",
              "338             -0.50      1.39  27892130.07          -2.73    4.35  \n",
              "599             -0.32      1.88    130037.02          -1.60    1.80  \n",
              "440             -0.34      2.03     47893.83          -1.45    2.43  "
            ],
            "text/html": [
              "\n",
              "  <div id=\"df-fe735335-2439-4a20-9053-2d581f0f86e5\" class=\"colab-df-container\">\n",
              "    <div>\n",
              "<style scoped>\n",
              "    .dataframe tbody tr th:only-of-type {\n",
              "        vertical-align: middle;\n",
              "    }\n",
              "\n",
              "    .dataframe tbody tr th {\n",
              "        vertical-align: top;\n",
              "    }\n",
              "\n",
              "    .dataframe thead th {\n",
              "        text-align: right;\n",
              "    }\n",
              "</style>\n",
              "<table border=\"1\" class=\"dataframe\">\n",
              "  <thead>\n",
              "    <tr style=\"text-align: right;\">\n",
              "      <th></th>\n",
              "      <th>logBB</th>\n",
              "      <th>SMILES</th>\n",
              "      <th>#HBA</th>\n",
              "      <th>#ROTB</th>\n",
              "      <th>#ALERTS</th>\n",
              "      <th>MlogP</th>\n",
              "      <th>#MR</th>\n",
              "      <th>#NHOH</th>\n",
              "      <th>#AromaticCarbocycles</th>\n",
              "      <th>#AromaticHeterocycles</th>\n",
              "      <th>#Heteroatoms</th>\n",
              "      <th>Morgan3</th>\n",
              "      <th>MaxPartialCharge</th>\n",
              "      <th>MinPartialCharge</th>\n",
              "      <th>BalabanJ</th>\n",
              "      <th>Ipc</th>\n",
              "      <th>HallKierAlpha</th>\n",
              "      <th>Kappa3</th>\n",
              "    </tr>\n",
              "  </thead>\n",
              "  <tbody>\n",
              "    <tr>\n",
              "      <th>176</th>\n",
              "      <td>1.19</td>\n",
              "      <td>CN(C)CCCN1C2=CC=CC=C2SC2=CC=CC=C21</td>\n",
              "      <td>3.0</td>\n",
              "      <td>4.0</td>\n",
              "      <td>0.0</td>\n",
              "      <td>4.24</td>\n",
              "      <td>87.18</td>\n",
              "      <td>0.0</td>\n",
              "      <td>2.0</td>\n",
              "      <td>0.0</td>\n",
              "      <td>3.0</td>\n",
              "      <td>2.00</td>\n",
              "      <td>0.06</td>\n",
              "      <td>-0.34</td>\n",
              "      <td>1.91</td>\n",
              "      <td>51348.90</td>\n",
              "      <td>-1.45</td>\n",
              "      <td>2.69</td>\n",
              "    </tr>\n",
              "    <tr>\n",
              "      <th>458</th>\n",
              "      <td>1.20</td>\n",
              "      <td>CCC1=CC=CC(N=C(C)NC2=CC=CC(CC)=C2)=C1</td>\n",
              "      <td>1.0</td>\n",
              "      <td>4.0</td>\n",
              "      <td>2.0</td>\n",
              "      <td>4.97</td>\n",
              "      <td>88.03</td>\n",
              "      <td>1.0</td>\n",
              "      <td>2.0</td>\n",
              "      <td>0.0</td>\n",
              "      <td>2.0</td>\n",
              "      <td>2.30</td>\n",
              "      <td>0.10</td>\n",
              "      <td>-0.34</td>\n",
              "      <td>2.13</td>\n",
              "      <td>38082.35</td>\n",
              "      <td>-2.09</td>\n",
              "      <td>3.95</td>\n",
              "    </tr>\n",
              "    <tr>\n",
              "      <th>518</th>\n",
              "      <td>1.25</td>\n",
              "      <td>OC1=CC=C2C(OC3=CC=C(OCCN4CCCCC4)C=C3)=C(C3=CC=...</td>\n",
              "      <td>4.0</td>\n",
              "      <td>7.0</td>\n",
              "      <td>0.0</td>\n",
              "      <td>7.01</td>\n",
              "      <td>133.31</td>\n",
              "      <td>1.0</td>\n",
              "      <td>4.0</td>\n",
              "      <td>0.0</td>\n",
              "      <td>5.0</td>\n",
              "      <td>2.29</td>\n",
              "      <td>0.14</td>\n",
              "      <td>-0.51</td>\n",
              "      <td>1.36</td>\n",
              "      <td>81471223.14</td>\n",
              "      <td>-3.57</td>\n",
              "      <td>5.15</td>\n",
              "    </tr>\n",
              "    <tr>\n",
              "      <th>146</th>\n",
              "      <td>1.25</td>\n",
              "      <td>CN(C)CCOC(C1=CC=CC=C1)C1=CC=CC=C1</td>\n",
              "      <td>2.0</td>\n",
              "      <td>6.0</td>\n",
              "      <td>0.0</td>\n",
              "      <td>3.35</td>\n",
              "      <td>79.23</td>\n",
              "      <td>0.0</td>\n",
              "      <td>2.0</td>\n",
              "      <td>0.0</td>\n",
              "      <td>2.0</td>\n",
              "      <td>1.74</td>\n",
              "      <td>0.11</td>\n",
              "      <td>-0.37</td>\n",
              "      <td>2.14</td>\n",
              "      <td>26276.55</td>\n",
              "      <td>-1.64</td>\n",
              "      <td>4.19</td>\n",
              "    </tr>\n",
              "    <tr>\n",
              "      <th>363</th>\n",
              "      <td>1.25</td>\n",
              "      <td>CC(NC(C)(C)C)C(=O)C1=CC=CC(Cl)=C1</td>\n",
              "      <td>2.0</td>\n",
              "      <td>3.0</td>\n",
              "      <td>1.0</td>\n",
              "      <td>3.30</td>\n",
              "      <td>68.13</td>\n",
              "      <td>1.0</td>\n",
              "      <td>1.0</td>\n",
              "      <td>0.0</td>\n",
              "      <td>3.0</td>\n",
              "      <td>2.50</td>\n",
              "      <td>0.18</td>\n",
              "      <td>-0.30</td>\n",
              "      <td>2.78</td>\n",
              "      <td>2302.60</td>\n",
              "      <td>-0.86</td>\n",
              "      <td>3.95</td>\n",
              "    </tr>\n",
              "    <tr>\n",
              "      <th>406</th>\n",
              "      <td>1.26</td>\n",
              "      <td>COC1=CC=C(C2=NN(C)C(C3=CC=CC(CN(C)C)=C3)=N2)C=C1</td>\n",
              "      <td>4.0</td>\n",
              "      <td>5.0</td>\n",
              "      <td>0.0</td>\n",
              "      <td>3.22</td>\n",
              "      <td>95.82</td>\n",
              "      <td>0.0</td>\n",
              "      <td>2.0</td>\n",
              "      <td>1.0</td>\n",
              "      <td>5.0</td>\n",
              "      <td>2.46</td>\n",
              "      <td>0.18</td>\n",
              "      <td>-0.50</td>\n",
              "      <td>1.93</td>\n",
              "      <td>363326.24</td>\n",
              "      <td>-2.66</td>\n",
              "      <td>3.46</td>\n",
              "    </tr>\n",
              "    <tr>\n",
              "      <th>598</th>\n",
              "      <td>1.26</td>\n",
              "      <td>CN(C)COC(C1=CC=CC=C1)C1=CC=CC=C1</td>\n",
              "      <td>2.0</td>\n",
              "      <td>5.0</td>\n",
              "      <td>1.0</td>\n",
              "      <td>3.31</td>\n",
              "      <td>74.37</td>\n",
              "      <td>0.0</td>\n",
              "      <td>2.0</td>\n",
              "      <td>0.0</td>\n",
              "      <td>2.0</td>\n",
              "      <td>1.67</td>\n",
              "      <td>0.11</td>\n",
              "      <td>-0.35</td>\n",
              "      <td>2.24</td>\n",
              "      <td>16001.46</td>\n",
              "      <td>-1.64</td>\n",
              "      <td>3.42</td>\n",
              "    </tr>\n",
              "    <tr>\n",
              "      <th>338</th>\n",
              "      <td>1.26</td>\n",
              "      <td>COC1=CC2=C(C=C1CNC1CCCNC1C1=CC=CC=C1)N=C(C1=CC...</td>\n",
              "      <td>4.0</td>\n",
              "      <td>6.0</td>\n",
              "      <td>0.0</td>\n",
              "      <td>5.55</td>\n",
              "      <td>128.66</td>\n",
              "      <td>2.0</td>\n",
              "      <td>3.0</td>\n",
              "      <td>1.0</td>\n",
              "      <td>5.0</td>\n",
              "      <td>2.61</td>\n",
              "      <td>0.12</td>\n",
              "      <td>-0.50</td>\n",
              "      <td>1.39</td>\n",
              "      <td>27892130.07</td>\n",
              "      <td>-2.73</td>\n",
              "      <td>4.35</td>\n",
              "    </tr>\n",
              "    <tr>\n",
              "      <th>599</th>\n",
              "      <td>1.30</td>\n",
              "      <td>CNCCCC12CCC(C3=CC=CC=C31)C1=CC=CC=C12</td>\n",
              "      <td>1.0</td>\n",
              "      <td>4.0</td>\n",
              "      <td>1.0</td>\n",
              "      <td>4.21</td>\n",
              "      <td>87.90</td>\n",
              "      <td>1.0</td>\n",
              "      <td>2.0</td>\n",
              "      <td>0.0</td>\n",
              "      <td>1.0</td>\n",
              "      <td>2.24</td>\n",
              "      <td>0.02</td>\n",
              "      <td>-0.32</td>\n",
              "      <td>1.88</td>\n",
              "      <td>130037.02</td>\n",
              "      <td>-1.60</td>\n",
              "      <td>1.80</td>\n",
              "    </tr>\n",
              "    <tr>\n",
              "      <th>440</th>\n",
              "      <td>1.30</td>\n",
              "      <td>CC(CN1C2=CC=CC=C2SC2=CC=CC=C21)N(C)C</td>\n",
              "      <td>3.0</td>\n",
              "      <td>3.0</td>\n",
              "      <td>0.0</td>\n",
              "      <td>4.24</td>\n",
              "      <td>87.16</td>\n",
              "      <td>0.0</td>\n",
              "      <td>2.0</td>\n",
              "      <td>0.0</td>\n",
              "      <td>3.0</td>\n",
              "      <td>1.95</td>\n",
              "      <td>0.06</td>\n",
              "      <td>-0.34</td>\n",
              "      <td>2.03</td>\n",
              "      <td>47893.83</td>\n",
              "      <td>-1.45</td>\n",
              "      <td>2.43</td>\n",
              "    </tr>\n",
              "  </tbody>\n",
              "</table>\n",
              "</div>\n",
              "    <div class=\"colab-df-buttons\">\n",
              "\n",
              "  <div class=\"colab-df-container\">\n",
              "    <button class=\"colab-df-convert\" onclick=\"convertToInteractive('df-fe735335-2439-4a20-9053-2d581f0f86e5')\"\n",
              "            title=\"Convert this dataframe to an interactive table.\"\n",
              "            style=\"display:none;\">\n",
              "\n",
              "  <svg xmlns=\"http://www.w3.org/2000/svg\" height=\"24px\" viewBox=\"0 -960 960 960\">\n",
              "    <path d=\"M120-120v-720h720v720H120Zm60-500h600v-160H180v160Zm220 220h160v-160H400v160Zm0 220h160v-160H400v160ZM180-400h160v-160H180v160Zm440 0h160v-160H620v160ZM180-180h160v-160H180v160Zm440 0h160v-160H620v160Z\"/>\n",
              "  </svg>\n",
              "    </button>\n",
              "\n",
              "  <style>\n",
              "    .colab-df-container {\n",
              "      display:flex;\n",
              "      gap: 12px;\n",
              "    }\n",
              "\n",
              "    .colab-df-convert {\n",
              "      background-color: #E8F0FE;\n",
              "      border: none;\n",
              "      border-radius: 50%;\n",
              "      cursor: pointer;\n",
              "      display: none;\n",
              "      fill: #1967D2;\n",
              "      height: 32px;\n",
              "      padding: 0 0 0 0;\n",
              "      width: 32px;\n",
              "    }\n",
              "\n",
              "    .colab-df-convert:hover {\n",
              "      background-color: #E2EBFA;\n",
              "      box-shadow: 0px 1px 2px rgba(60, 64, 67, 0.3), 0px 1px 3px 1px rgba(60, 64, 67, 0.15);\n",
              "      fill: #174EA6;\n",
              "    }\n",
              "\n",
              "    .colab-df-buttons div {\n",
              "      margin-bottom: 4px;\n",
              "    }\n",
              "\n",
              "    [theme=dark] .colab-df-convert {\n",
              "      background-color: #3B4455;\n",
              "      fill: #D2E3FC;\n",
              "    }\n",
              "\n",
              "    [theme=dark] .colab-df-convert:hover {\n",
              "      background-color: #434B5C;\n",
              "      box-shadow: 0px 1px 3px 1px rgba(0, 0, 0, 0.15);\n",
              "      filter: drop-shadow(0px 1px 2px rgba(0, 0, 0, 0.3));\n",
              "      fill: #FFFFFF;\n",
              "    }\n",
              "  </style>\n",
              "\n",
              "    <script>\n",
              "      const buttonEl =\n",
              "        document.querySelector('#df-fe735335-2439-4a20-9053-2d581f0f86e5 button.colab-df-convert');\n",
              "      buttonEl.style.display =\n",
              "        google.colab.kernel.accessAllowed ? 'block' : 'none';\n",
              "\n",
              "      async function convertToInteractive(key) {\n",
              "        const element = document.querySelector('#df-fe735335-2439-4a20-9053-2d581f0f86e5');\n",
              "        const dataTable =\n",
              "          await google.colab.kernel.invokeFunction('convertToInteractive',\n",
              "                                                    [key], {});\n",
              "        if (!dataTable) return;\n",
              "\n",
              "        const docLinkHtml = 'Like what you see? Visit the ' +\n",
              "          '<a target=\"_blank\" href=https://colab.research.google.com/notebooks/data_table.ipynb>data table notebook</a>'\n",
              "          + ' to learn more about interactive tables.';\n",
              "        element.innerHTML = '';\n",
              "        dataTable['output_type'] = 'display_data';\n",
              "        await google.colab.output.renderOutput(dataTable, element);\n",
              "        const docLink = document.createElement('div');\n",
              "        docLink.innerHTML = docLinkHtml;\n",
              "        element.appendChild(docLink);\n",
              "      }\n",
              "    </script>\n",
              "  </div>\n",
              "\n",
              "\n",
              "<div id=\"df-49ee52df-e37c-44e3-9327-73f4b2565a0c\">\n",
              "  <button class=\"colab-df-quickchart\" onclick=\"quickchart('df-49ee52df-e37c-44e3-9327-73f4b2565a0c')\"\n",
              "            title=\"Suggest charts\"\n",
              "            style=\"display:none;\">\n",
              "\n",
              "<svg xmlns=\"http://www.w3.org/2000/svg\" height=\"24px\"viewBox=\"0 0 24 24\"\n",
              "     width=\"24px\">\n",
              "    <g>\n",
              "        <path d=\"M19 3H5c-1.1 0-2 .9-2 2v14c0 1.1.9 2 2 2h14c1.1 0 2-.9 2-2V5c0-1.1-.9-2-2-2zM9 17H7v-7h2v7zm4 0h-2V7h2v10zm4 0h-2v-4h2v4z\"/>\n",
              "    </g>\n",
              "</svg>\n",
              "  </button>\n",
              "\n",
              "<style>\n",
              "  .colab-df-quickchart {\n",
              "      --bg-color: #E8F0FE;\n",
              "      --fill-color: #1967D2;\n",
              "      --hover-bg-color: #E2EBFA;\n",
              "      --hover-fill-color: #174EA6;\n",
              "      --disabled-fill-color: #AAA;\n",
              "      --disabled-bg-color: #DDD;\n",
              "  }\n",
              "\n",
              "  [theme=dark] .colab-df-quickchart {\n",
              "      --bg-color: #3B4455;\n",
              "      --fill-color: #D2E3FC;\n",
              "      --hover-bg-color: #434B5C;\n",
              "      --hover-fill-color: #FFFFFF;\n",
              "      --disabled-bg-color: #3B4455;\n",
              "      --disabled-fill-color: #666;\n",
              "  }\n",
              "\n",
              "  .colab-df-quickchart {\n",
              "    background-color: var(--bg-color);\n",
              "    border: none;\n",
              "    border-radius: 50%;\n",
              "    cursor: pointer;\n",
              "    display: none;\n",
              "    fill: var(--fill-color);\n",
              "    height: 32px;\n",
              "    padding: 0;\n",
              "    width: 32px;\n",
              "  }\n",
              "\n",
              "  .colab-df-quickchart:hover {\n",
              "    background-color: var(--hover-bg-color);\n",
              "    box-shadow: 0 1px 2px rgba(60, 64, 67, 0.3), 0 1px 3px 1px rgba(60, 64, 67, 0.15);\n",
              "    fill: var(--button-hover-fill-color);\n",
              "  }\n",
              "\n",
              "  .colab-df-quickchart-complete:disabled,\n",
              "  .colab-df-quickchart-complete:disabled:hover {\n",
              "    background-color: var(--disabled-bg-color);\n",
              "    fill: var(--disabled-fill-color);\n",
              "    box-shadow: none;\n",
              "  }\n",
              "\n",
              "  .colab-df-spinner {\n",
              "    border: 2px solid var(--fill-color);\n",
              "    border-color: transparent;\n",
              "    border-bottom-color: var(--fill-color);\n",
              "    animation:\n",
              "      spin 1s steps(1) infinite;\n",
              "  }\n",
              "\n",
              "  @keyframes spin {\n",
              "    0% {\n",
              "      border-color: transparent;\n",
              "      border-bottom-color: var(--fill-color);\n",
              "      border-left-color: var(--fill-color);\n",
              "    }\n",
              "    20% {\n",
              "      border-color: transparent;\n",
              "      border-left-color: var(--fill-color);\n",
              "      border-top-color: var(--fill-color);\n",
              "    }\n",
              "    30% {\n",
              "      border-color: transparent;\n",
              "      border-left-color: var(--fill-color);\n",
              "      border-top-color: var(--fill-color);\n",
              "      border-right-color: var(--fill-color);\n",
              "    }\n",
              "    40% {\n",
              "      border-color: transparent;\n",
              "      border-right-color: var(--fill-color);\n",
              "      border-top-color: var(--fill-color);\n",
              "    }\n",
              "    60% {\n",
              "      border-color: transparent;\n",
              "      border-right-color: var(--fill-color);\n",
              "    }\n",
              "    80% {\n",
              "      border-color: transparent;\n",
              "      border-right-color: var(--fill-color);\n",
              "      border-bottom-color: var(--fill-color);\n",
              "    }\n",
              "    90% {\n",
              "      border-color: transparent;\n",
              "      border-bottom-color: var(--fill-color);\n",
              "    }\n",
              "  }\n",
              "</style>\n",
              "\n",
              "  <script>\n",
              "    async function quickchart(key) {\n",
              "      const quickchartButtonEl =\n",
              "        document.querySelector('#' + key + ' button');\n",
              "      quickchartButtonEl.disabled = true;  // To prevent multiple clicks.\n",
              "      quickchartButtonEl.classList.add('colab-df-spinner');\n",
              "      try {\n",
              "        const charts = await google.colab.kernel.invokeFunction(\n",
              "            'suggestCharts', [key], {});\n",
              "      } catch (error) {\n",
              "        console.error('Error during call to suggestCharts:', error);\n",
              "      }\n",
              "      quickchartButtonEl.classList.remove('colab-df-spinner');\n",
              "      quickchartButtonEl.classList.add('colab-df-quickchart-complete');\n",
              "    }\n",
              "    (() => {\n",
              "      let quickchartButtonEl =\n",
              "        document.querySelector('#df-49ee52df-e37c-44e3-9327-73f4b2565a0c button');\n",
              "      quickchartButtonEl.style.display =\n",
              "        google.colab.kernel.accessAllowed ? 'block' : 'none';\n",
              "    })();\n",
              "  </script>\n",
              "</div>\n",
              "    </div>\n",
              "  </div>\n"
            ],
            "application/vnd.google.colaboratory.intrinsic+json": {
              "type": "dataframe",
              "summary": "{\n  \"name\": \"df\",\n  \"rows\": 10,\n  \"fields\": [\n    {\n      \"column\": \"logBB\",\n      \"properties\": {\n        \"dtype\": \"number\",\n        \"std\": 0.03552776691859797,\n        \"min\": 1.19,\n        \"max\": 1.3,\n        \"num_unique_values\": 5,\n        \"samples\": [\n          1.2,\n          1.3,\n          1.25\n        ],\n        \"semantic_type\": \"\",\n        \"description\": \"\"\n      }\n    },\n    {\n      \"column\": \"SMILES\",\n      \"properties\": {\n        \"dtype\": \"string\",\n        \"num_unique_values\": 10,\n        \"samples\": [\n          \"CNCCCC12CCC(C3=CC=CC=C31)C1=CC=CC=C12\",\n          \"CCC1=CC=CC(N=C(C)NC2=CC=CC(CC)=C2)=C1\",\n          \"COC1=CC=C(C2=NN(C)C(C3=CC=CC(CN(C)C)=C3)=N2)C=C1\"\n        ],\n        \"semantic_type\": \"\",\n        \"description\": \"\"\n      }\n    },\n    {\n      \"column\": \"#HBA\",\n      \"properties\": {\n        \"dtype\": \"number\",\n        \"std\": 1.1737877907772674,\n        \"min\": 1.0,\n        \"max\": 4.0,\n        \"num_unique_values\": 4,\n        \"samples\": [\n          1.0,\n          2.0,\n          3.0\n        ],\n        \"semantic_type\": \"\",\n        \"description\": \"\"\n      }\n    },\n    {\n      \"column\": \"#ROTB\",\n      \"properties\": {\n        \"dtype\": \"number\",\n        \"std\": 1.3374935098492586,\n        \"min\": 3.0,\n        \"max\": 7.0,\n        \"num_unique_values\": 5,\n        \"samples\": [\n          7.0,\n          5.0,\n          6.0\n        ],\n        \"semantic_type\": \"\",\n        \"description\": \"\"\n      }\n    },\n    {\n      \"column\": \"#ALERTS\",\n      \"properties\": {\n        \"dtype\": \"number\",\n        \"std\": 0.7071067811865476,\n        \"min\": 0.0,\n        \"max\": 2.0,\n        \"num_unique_values\": 3,\n        \"samples\": [\n          0.0,\n          2.0,\n          1.0\n        ],\n        \"semantic_type\": \"\",\n        \"description\": \"\"\n      }\n    },\n    {\n      \"column\": \"MlogP\",\n      \"properties\": {\n        \"dtype\": \"number\",\n        \"std\": 1.2203733490662236,\n        \"min\": 3.22,\n        \"max\": 7.01,\n        \"num_unique_values\": 9,\n        \"samples\": [\n          5.55,\n          4.97,\n          3.22\n        ],\n        \"semantic_type\": \"\",\n        \"description\": \"\"\n      }\n    },\n    {\n      \"column\": \"#MR\",\n      \"properties\": {\n        \"dtype\": \"number\",\n        \"std\": 21.546784472656498,\n        \"min\": 68.13,\n        \"max\": 133.31,\n        \"num_unique_values\": 10,\n        \"samples\": [\n          87.9,\n          88.03,\n          95.82\n        ],\n        \"semantic_type\": \"\",\n        \"description\": \"\"\n      }\n    },\n    {\n      \"column\": \"#NHOH\",\n      \"properties\": {\n        \"dtype\": \"number\",\n        \"std\": 0.6992058987801011,\n        \"min\": 0.0,\n        \"max\": 2.0,\n        \"num_unique_values\": 3,\n        \"samples\": [\n          0.0,\n          1.0,\n          2.0\n        ],\n        \"semantic_type\": \"\",\n        \"description\": \"\"\n      }\n    },\n    {\n      \"column\": \"#AromaticCarbocycles\",\n      \"properties\": {\n        \"dtype\": \"number\",\n        \"std\": 0.7888106377466155,\n        \"min\": 1.0,\n        \"max\": 4.0,\n        \"num_unique_values\": 4,\n        \"samples\": [\n          4.0,\n          3.0,\n          2.0\n        ],\n        \"semantic_type\": \"\",\n        \"description\": \"\"\n      }\n    },\n    {\n      \"column\": \"#AromaticHeterocycles\",\n      \"properties\": {\n        \"dtype\": \"number\",\n        \"std\": 0.42163702135578396,\n        \"min\": 0.0,\n        \"max\": 1.0,\n        \"num_unique_values\": 2,\n        \"samples\": [\n          1.0,\n          0.0\n        ],\n        \"semantic_type\": \"\",\n        \"description\": \"\"\n      }\n    },\n    {\n      \"column\": \"#Heteroatoms\",\n      \"properties\": {\n        \"dtype\": \"number\",\n        \"std\": 1.449137674618944,\n        \"min\": 1.0,\n        \"max\": 5.0,\n        \"num_unique_values\": 4,\n        \"samples\": [\n          2.0,\n          1.0\n        ],\n        \"semantic_type\": \"\",\n        \"description\": \"\"\n      }\n    },\n    {\n      \"column\": \"Morgan3\",\n      \"properties\": {\n        \"dtype\": \"number\",\n        \"std\": 0.32225593693350146,\n        \"min\": 1.67,\n        \"max\": 2.61,\n        \"num_unique_values\": 10,\n        \"samples\": [\n          2.24,\n          2.3\n        ],\n        \"semantic_type\": \"\",\n        \"description\": \"\"\n      }\n    },\n    {\n      \"column\": \"MaxPartialCharge\",\n      \"properties\": {\n        \"dtype\": \"number\",\n        \"std\": 0.051596726855704926,\n        \"min\": 0.02,\n        \"max\": 0.18,\n        \"num_unique_values\": 7,\n        \"samples\": [\n          0.06,\n          0.1\n        ],\n        \"semantic_type\": \"\",\n        \"description\": \"\"\n      }\n    },\n    {\n      \"column\": \"MinPartialCharge\",\n      \"properties\": {\n        \"dtype\": \"number\",\n        \"std\": 0.08233400809440099,\n        \"min\": -0.51,\n        \"max\": -0.3,\n        \"num_unique_values\": 7,\n        \"samples\": [\n          -0.34,\n          -0.51\n        ],\n        \"semantic_type\": \"\",\n        \"description\": \"\"\n      }\n    },\n    {\n      \"column\": \"BalabanJ\",\n      \"properties\": {\n        \"dtype\": \"number\",\n        \"std\": 0.40934771961689925,\n        \"min\": 1.36,\n        \"max\": 2.78,\n        \"num_unique_values\": 10,\n        \"samples\": [\n          1.88,\n          2.13\n        ],\n        \"semantic_type\": \"\",\n        \"description\": \"\"\n      }\n    },\n    {\n      \"column\": \"Ipc\",\n      \"properties\": {\n        \"dtype\": \"number\",\n        \"std\": 26256930.368243776,\n        \"min\": 2302.6,\n        \"max\": 81471223.14,\n        \"num_unique_values\": 10,\n        \"samples\": [\n          130037.02,\n          38082.35\n        ],\n        \"semantic_type\": \"\",\n        \"description\": \"\"\n      }\n    },\n    {\n      \"column\": \"HallKierAlpha\",\n      \"properties\": {\n        \"dtype\": \"number\",\n        \"std\": 0.7997006384336024,\n        \"min\": -3.57,\n        \"max\": -0.86,\n        \"num_unique_values\": 8,\n        \"samples\": [\n          -2.09,\n          -2.66\n        ],\n        \"semantic_type\": \"\",\n        \"description\": \"\"\n      }\n    },\n    {\n      \"column\": \"Kappa3\",\n      \"properties\": {\n        \"dtype\": \"number\",\n        \"std\": 1.0005492935827245,\n        \"min\": 1.8,\n        \"max\": 5.15,\n        \"num_unique_values\": 9,\n        \"samples\": [\n          1.8,\n          3.95\n        ],\n        \"semantic_type\": \"\",\n        \"description\": \"\"\n      }\n    }\n  ]\n}"
            }
          },
          "metadata": {},
          "execution_count": 16
        }
      ],
      "source": [
        "sdf = pd.read_csv('regression_1711_cleaned.csv')\n",
        "sdf.rename(columns={'SMILES_uncharge': 'SMILES'}, inplace=True)\n",
        "#df = pd.read_csv('Class_labels (1).csv')\n",
        "#df.rename(columns={'SMILES_uncharge': 'SMILES'}, inplace=True)\n",
        "#sdf['class']=df['Class']\n",
        "#df=sdf.drop('logBB',axis=1)\n",
        "pd.set_option('display.max_rows', None)\n",
        "df = sdf.sort_values('logBB')\n",
        "df.tail(10)#['SMILES']"
      ]
    },
    {
      "cell_type": "markdown",
      "metadata": {
        "id": "aU1pAIaqfHI5"
      },
      "source": [
        " ### **▶ Фингерпринты** (отображение функциональных групп, представленных в молекуле)\n",
        "\n",
        "\n",
        "\n",
        "\n",
        "\n",
        "\n",
        "\n",
        "\n",
        "\n"
      ]
    },
    {
      "cell_type": "markdown",
      "metadata": {
        "id": "VMJ452aIiawe"
      },
      "source": [
        "![fingerprints.jpg](data:image/jpeg;base64,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)"
      ]
    },
    {
      "cell_type": "markdown",
      "metadata": {
        "id": "j16uPqmCi-34"
      },
      "source": [
        "❗ **Фингерпринты** - двоичные строки или битовые векторы, где каждый бит или набор битов представляет наличие или отсутствие определенных подструктур или молекулярных особенностей в соединении\n",
        "\n"
      ]
    },
    {
      "cell_type": "markdown",
      "metadata": {
        "id": "5VIy66gUo8tj"
      },
      "source": [
        "### **Avalon fingerprints**"
      ]
    },
    {
      "cell_type": "code",
      "execution_count": null,
      "metadata": {
        "id": "kx8lLV5HrD2F"
      },
      "outputs": [],
      "source": [
        "from rdkit.Avalon import pyAvalonTools"
      ]
    },
    {
      "cell_type": "code",
      "execution_count": null,
      "metadata": {
        "id": "ZhomjE98qyrc"
      },
      "outputs": [],
      "source": [
        "def generate_AVfpts(data):\n",
        "    Avalon_fpts = []\n",
        "    mols = [Chem.MolFromSmiles(x) for x in data if x is not None]\n",
        "    '''Число бит можно регулировать. Обычно используется 512 или 1024'''\n",
        "    for mol in tqdm(mols):\n",
        "        avfpts = pyAvalonTools.GetAvalonFP(mol, nBits=512)\n",
        "        Avalon_fpts.append(avfpts)\n",
        "    return np.array(Avalon_fpts)"
      ]
    },
    {
      "cell_type": "code",
      "execution_count": null,
      "metadata": {
        "colab": {
          "base_uri": "https://localhost:8080/"
        },
        "id": "cNgUOSMLqqo0",
        "outputId": "efd7e398-e9b0-47bb-e14b-d83f9399862a"
      },
      "outputs": [
        {
          "output_type": "stream",
          "name": "stderr",
          "text": [
            "100%|██████████| 1190/1190 [00:00<00:00, 1244.72it/s]\n"
          ]
        }
      ],
      "source": [
        "Avalon_fpts = generate_AVfpts(df['SMILES'])"
      ]
    },
    {
      "cell_type": "code",
      "execution_count": null,
      "metadata": {
        "colab": {
          "base_uri": "https://localhost:8080/"
        },
        "id": "2j3h0gYyq2kN",
        "outputId": "3381ce9b-6d46-4702-9f7a-9c7b037ada96"
      },
      "outputs": [
        {
          "output_type": "execute_result",
          "data": {
            "text/plain": [
              "(1190, 512)"
            ]
          },
          "metadata": {},
          "execution_count": 8
        }
      ],
      "source": [
        "Avalon_fpts.shape"
      ]
    },
    {
      "cell_type": "code",
      "execution_count": null,
      "metadata": {
        "colab": {
          "base_uri": "https://localhost:8080/",
          "height": 256
        },
        "id": "MXQqNt1gq7NF",
        "outputId": "c9e90571-5d2b-4173-fa4d-9f2a1feeddca"
      },
      "outputs": [
        {
          "output_type": "execute_result",
          "data": {
            "text/plain": [
              "                                              SMILES  #HBA  #ROTB  #ALERTS  \\\n",
              "0  CC1=C(CCN2CCC(C3=NOC4=CC(F)=CC=C34)CC2)C(=O)N2...   6.0    4.0      0.0   \n",
              "1           CC1=CC=CC2=C1OC1=CC=CC=C1C1(O)CCN(C)CC21   3.0    0.0      0.0   \n",
              "2                 NC(=O)N1C2=CC=CC=C2C=CC2=CC=CC=C21   1.0    0.0      0.0   \n",
              "3  O=C1NC2=CC=CC=C2N1CCCN1CCC(N2C(=O)NC3=CC(Cl)=C...   3.0    5.0      0.0   \n",
              "4                 CN1CCN2C3=CC=CC=C3CC3=CC=CC=C3C2C1   2.0    0.0      0.0   \n",
              "\n",
              "   MlogP     #MR  #NHOH  #AromaticCarbocycles  #AromaticHeterocycles  \\\n",
              "0   3.08  113.51    1.0                   1.0                    2.0   \n",
              "1   3.41   86.45    1.0                   2.0                    0.0   \n",
              "2   3.39   73.53    2.0                   2.0                    0.0   \n",
              "3   3.35  119.46    2.0                   2.0                    2.0   \n",
              "4   3.08   83.27    0.0                   2.0                    0.0   \n",
              "\n",
              "   #Heteroatoms  ...  A_503  A_504  A_505  A_506  A_507  A_508  A_509  A_510  \\\n",
              "0           8.0  ...    1.0    1.0    1.0    1.0    0.0    1.0    1.0    0.0   \n",
              "1           3.0  ...    1.0    1.0    0.0    0.0    0.0    0.0    1.0    0.0   \n",
              "2           3.0  ...    1.0    0.0    0.0    1.0    0.0    1.0    1.0    0.0   \n",
              "3           8.0  ...    0.0    0.0    0.0    0.0    0.0    1.0    0.0    0.0   \n",
              "4           2.0  ...    1.0    1.0    0.0    0.0    0.0    1.0    1.0    0.0   \n",
              "\n",
              "   A_511  A_512  \n",
              "0    1.0    1.0  \n",
              "1    0.0    0.0  \n",
              "2    0.0    0.0  \n",
              "3    0.0    1.0  \n",
              "4    1.0    0.0  \n",
              "\n",
              "[5 rows x 530 columns]"
            ],
            "text/html": [
              "\n",
              "  <div id=\"df-0e48ebc8-5db2-44a0-acec-f7421a031ec2\" class=\"colab-df-container\">\n",
              "    <div>\n",
              "<style scoped>\n",
              "    .dataframe tbody tr th:only-of-type {\n",
              "        vertical-align: middle;\n",
              "    }\n",
              "\n",
              "    .dataframe tbody tr th {\n",
              "        vertical-align: top;\n",
              "    }\n",
              "\n",
              "    .dataframe thead th {\n",
              "        text-align: right;\n",
              "    }\n",
              "</style>\n",
              "<table border=\"1\" class=\"dataframe\">\n",
              "  <thead>\n",
              "    <tr style=\"text-align: right;\">\n",
              "      <th></th>\n",
              "      <th>SMILES</th>\n",
              "      <th>#HBA</th>\n",
              "      <th>#ROTB</th>\n",
              "      <th>#ALERTS</th>\n",
              "      <th>MlogP</th>\n",
              "      <th>#MR</th>\n",
              "      <th>#NHOH</th>\n",
              "      <th>#AromaticCarbocycles</th>\n",
              "      <th>#AromaticHeterocycles</th>\n",
              "      <th>#Heteroatoms</th>\n",
              "      <th>...</th>\n",
              "      <th>A_503</th>\n",
              "      <th>A_504</th>\n",
              "      <th>A_505</th>\n",
              "      <th>A_506</th>\n",
              "      <th>A_507</th>\n",
              "      <th>A_508</th>\n",
              "      <th>A_509</th>\n",
              "      <th>A_510</th>\n",
              "      <th>A_511</th>\n",
              "      <th>A_512</th>\n",
              "    </tr>\n",
              "  </thead>\n",
              "  <tbody>\n",
              "    <tr>\n",
              "      <th>0</th>\n",
              "      <td>CC1=C(CCN2CCC(C3=NOC4=CC(F)=CC=C34)CC2)C(=O)N2...</td>\n",
              "      <td>6.0</td>\n",
              "      <td>4.0</td>\n",
              "      <td>0.0</td>\n",
              "      <td>3.08</td>\n",
              "      <td>113.51</td>\n",
              "      <td>1.0</td>\n",
              "      <td>1.0</td>\n",
              "      <td>2.0</td>\n",
              "      <td>8.0</td>\n",
              "      <td>...</td>\n",
              "      <td>1.0</td>\n",
              "      <td>1.0</td>\n",
              "      <td>1.0</td>\n",
              "      <td>1.0</td>\n",
              "      <td>0.0</td>\n",
              "      <td>1.0</td>\n",
              "      <td>1.0</td>\n",
              "      <td>0.0</td>\n",
              "      <td>1.0</td>\n",
              "      <td>1.0</td>\n",
              "    </tr>\n",
              "    <tr>\n",
              "      <th>1</th>\n",
              "      <td>CC1=CC=CC2=C1OC1=CC=CC=C1C1(O)CCN(C)CC21</td>\n",
              "      <td>3.0</td>\n",
              "      <td>0.0</td>\n",
              "      <td>0.0</td>\n",
              "      <td>3.41</td>\n",
              "      <td>86.45</td>\n",
              "      <td>1.0</td>\n",
              "      <td>2.0</td>\n",
              "      <td>0.0</td>\n",
              "      <td>3.0</td>\n",
              "      <td>...</td>\n",
              "      <td>1.0</td>\n",
              "      <td>1.0</td>\n",
              "      <td>0.0</td>\n",
              "      <td>0.0</td>\n",
              "      <td>0.0</td>\n",
              "      <td>0.0</td>\n",
              "      <td>1.0</td>\n",
              "      <td>0.0</td>\n",
              "      <td>0.0</td>\n",
              "      <td>0.0</td>\n",
              "    </tr>\n",
              "    <tr>\n",
              "      <th>2</th>\n",
              "      <td>NC(=O)N1C2=CC=CC=C2C=CC2=CC=CC=C21</td>\n",
              "      <td>1.0</td>\n",
              "      <td>0.0</td>\n",
              "      <td>0.0</td>\n",
              "      <td>3.39</td>\n",
              "      <td>73.53</td>\n",
              "      <td>2.0</td>\n",
              "      <td>2.0</td>\n",
              "      <td>0.0</td>\n",
              "      <td>3.0</td>\n",
              "      <td>...</td>\n",
              "      <td>1.0</td>\n",
              "      <td>0.0</td>\n",
              "      <td>0.0</td>\n",
              "      <td>1.0</td>\n",
              "      <td>0.0</td>\n",
              "      <td>1.0</td>\n",
              "      <td>1.0</td>\n",
              "      <td>0.0</td>\n",
              "      <td>0.0</td>\n",
              "      <td>0.0</td>\n",
              "    </tr>\n",
              "    <tr>\n",
              "      <th>3</th>\n",
              "      <td>O=C1NC2=CC=CC=C2N1CCCN1CCC(N2C(=O)NC3=CC(Cl)=C...</td>\n",
              "      <td>3.0</td>\n",
              "      <td>5.0</td>\n",
              "      <td>0.0</td>\n",
              "      <td>3.35</td>\n",
              "      <td>119.46</td>\n",
              "      <td>2.0</td>\n",
              "      <td>2.0</td>\n",
              "      <td>2.0</td>\n",
              "      <td>8.0</td>\n",
              "      <td>...</td>\n",
              "      <td>0.0</td>\n",
              "      <td>0.0</td>\n",
              "      <td>0.0</td>\n",
              "      <td>0.0</td>\n",
              "      <td>0.0</td>\n",
              "      <td>1.0</td>\n",
              "      <td>0.0</td>\n",
              "      <td>0.0</td>\n",
              "      <td>0.0</td>\n",
              "      <td>1.0</td>\n",
              "    </tr>\n",
              "    <tr>\n",
              "      <th>4</th>\n",
              "      <td>CN1CCN2C3=CC=CC=C3CC3=CC=CC=C3C2C1</td>\n",
              "      <td>2.0</td>\n",
              "      <td>0.0</td>\n",
              "      <td>0.0</td>\n",
              "      <td>3.08</td>\n",
              "      <td>83.27</td>\n",
              "      <td>0.0</td>\n",
              "      <td>2.0</td>\n",
              "      <td>0.0</td>\n",
              "      <td>2.0</td>\n",
              "      <td>...</td>\n",
              "      <td>1.0</td>\n",
              "      <td>1.0</td>\n",
              "      <td>0.0</td>\n",
              "      <td>0.0</td>\n",
              "      <td>0.0</td>\n",
              "      <td>1.0</td>\n",
              "      <td>1.0</td>\n",
              "      <td>0.0</td>\n",
              "      <td>1.0</td>\n",
              "      <td>0.0</td>\n",
              "    </tr>\n",
              "  </tbody>\n",
              "</table>\n",
              "<p>5 rows × 530 columns</p>\n",
              "</div>\n",
              "    <div class=\"colab-df-buttons\">\n",
              "\n",
              "  <div class=\"colab-df-container\">\n",
              "    <button class=\"colab-df-convert\" onclick=\"convertToInteractive('df-0e48ebc8-5db2-44a0-acec-f7421a031ec2')\"\n",
              "            title=\"Convert this dataframe to an interactive table.\"\n",
              "            style=\"display:none;\">\n",
              "\n",
              "  <svg xmlns=\"http://www.w3.org/2000/svg\" height=\"24px\" viewBox=\"0 -960 960 960\">\n",
              "    <path d=\"M120-120v-720h720v720H120Zm60-500h600v-160H180v160Zm220 220h160v-160H400v160Zm0 220h160v-160H400v160ZM180-400h160v-160H180v160Zm440 0h160v-160H620v160ZM180-180h160v-160H180v160Zm440 0h160v-160H620v160Z\"/>\n",
              "  </svg>\n",
              "    </button>\n",
              "\n",
              "  <style>\n",
              "    .colab-df-container {\n",
              "      display:flex;\n",
              "      gap: 12px;\n",
              "    }\n",
              "\n",
              "    .colab-df-convert {\n",
              "      background-color: #E8F0FE;\n",
              "      border: none;\n",
              "      border-radius: 50%;\n",
              "      cursor: pointer;\n",
              "      display: none;\n",
              "      fill: #1967D2;\n",
              "      height: 32px;\n",
              "      padding: 0 0 0 0;\n",
              "      width: 32px;\n",
              "    }\n",
              "\n",
              "    .colab-df-convert:hover {\n",
              "      background-color: #E2EBFA;\n",
              "      box-shadow: 0px 1px 2px rgba(60, 64, 67, 0.3), 0px 1px 3px 1px rgba(60, 64, 67, 0.15);\n",
              "      fill: #174EA6;\n",
              "    }\n",
              "\n",
              "    .colab-df-buttons div {\n",
              "      margin-bottom: 4px;\n",
              "    }\n",
              "\n",
              "    [theme=dark] .colab-df-convert {\n",
              "      background-color: #3B4455;\n",
              "      fill: #D2E3FC;\n",
              "    }\n",
              "\n",
              "    [theme=dark] .colab-df-convert:hover {\n",
              "      background-color: #434B5C;\n",
              "      box-shadow: 0px 1px 3px 1px rgba(0, 0, 0, 0.15);\n",
              "      filter: drop-shadow(0px 1px 2px rgba(0, 0, 0, 0.3));\n",
              "      fill: #FFFFFF;\n",
              "    }\n",
              "  </style>\n",
              "\n",
              "    <script>\n",
              "      const buttonEl =\n",
              "        document.querySelector('#df-0e48ebc8-5db2-44a0-acec-f7421a031ec2 button.colab-df-convert');\n",
              "      buttonEl.style.display =\n",
              "        google.colab.kernel.accessAllowed ? 'block' : 'none';\n",
              "\n",
              "      async function convertToInteractive(key) {\n",
              "        const element = document.querySelector('#df-0e48ebc8-5db2-44a0-acec-f7421a031ec2');\n",
              "        const dataTable =\n",
              "          await google.colab.kernel.invokeFunction('convertToInteractive',\n",
              "                                                    [key], {});\n",
              "        if (!dataTable) return;\n",
              "\n",
              "        const docLinkHtml = 'Like what you see? Visit the ' +\n",
              "          '<a target=\"_blank\" href=https://colab.research.google.com/notebooks/data_table.ipynb>data table notebook</a>'\n",
              "          + ' to learn more about interactive tables.';\n",
              "        element.innerHTML = '';\n",
              "        dataTable['output_type'] = 'display_data';\n",
              "        await google.colab.output.renderOutput(dataTable, element);\n",
              "        const docLink = document.createElement('div');\n",
              "        docLink.innerHTML = docLinkHtml;\n",
              "        element.appendChild(docLink);\n",
              "      }\n",
              "    </script>\n",
              "  </div>\n",
              "\n",
              "\n",
              "<div id=\"df-9f583b23-784b-4c75-8c0e-2d208ee16150\">\n",
              "  <button class=\"colab-df-quickchart\" onclick=\"quickchart('df-9f583b23-784b-4c75-8c0e-2d208ee16150')\"\n",
              "            title=\"Suggest charts\"\n",
              "            style=\"display:none;\">\n",
              "\n",
              "<svg xmlns=\"http://www.w3.org/2000/svg\" height=\"24px\"viewBox=\"0 0 24 24\"\n",
              "     width=\"24px\">\n",
              "    <g>\n",
              "        <path d=\"M19 3H5c-1.1 0-2 .9-2 2v14c0 1.1.9 2 2 2h14c1.1 0 2-.9 2-2V5c0-1.1-.9-2-2-2zM9 17H7v-7h2v7zm4 0h-2V7h2v10zm4 0h-2v-4h2v4z\"/>\n",
              "    </g>\n",
              "</svg>\n",
              "  </button>\n",
              "\n",
              "<style>\n",
              "  .colab-df-quickchart {\n",
              "      --bg-color: #E8F0FE;\n",
              "      --fill-color: #1967D2;\n",
              "      --hover-bg-color: #E2EBFA;\n",
              "      --hover-fill-color: #174EA6;\n",
              "      --disabled-fill-color: #AAA;\n",
              "      --disabled-bg-color: #DDD;\n",
              "  }\n",
              "\n",
              "  [theme=dark] .colab-df-quickchart {\n",
              "      --bg-color: #3B4455;\n",
              "      --fill-color: #D2E3FC;\n",
              "      --hover-bg-color: #434B5C;\n",
              "      --hover-fill-color: #FFFFFF;\n",
              "      --disabled-bg-color: #3B4455;\n",
              "      --disabled-fill-color: #666;\n",
              "  }\n",
              "\n",
              "  .colab-df-quickchart {\n",
              "    background-color: var(--bg-color);\n",
              "    border: none;\n",
              "    border-radius: 50%;\n",
              "    cursor: pointer;\n",
              "    display: none;\n",
              "    fill: var(--fill-color);\n",
              "    height: 32px;\n",
              "    padding: 0;\n",
              "    width: 32px;\n",
              "  }\n",
              "\n",
              "  .colab-df-quickchart:hover {\n",
              "    background-color: var(--hover-bg-color);\n",
              "    box-shadow: 0 1px 2px rgba(60, 64, 67, 0.3), 0 1px 3px 1px rgba(60, 64, 67, 0.15);\n",
              "    fill: var(--button-hover-fill-color);\n",
              "  }\n",
              "\n",
              "  .colab-df-quickchart-complete:disabled,\n",
              "  .colab-df-quickchart-complete:disabled:hover {\n",
              "    background-color: var(--disabled-bg-color);\n",
              "    fill: var(--disabled-fill-color);\n",
              "    box-shadow: none;\n",
              "  }\n",
              "\n",
              "  .colab-df-spinner {\n",
              "    border: 2px solid var(--fill-color);\n",
              "    border-color: transparent;\n",
              "    border-bottom-color: var(--fill-color);\n",
              "    animation:\n",
              "      spin 1s steps(1) infinite;\n",
              "  }\n",
              "\n",
              "  @keyframes spin {\n",
              "    0% {\n",
              "      border-color: transparent;\n",
              "      border-bottom-color: var(--fill-color);\n",
              "      border-left-color: var(--fill-color);\n",
              "    }\n",
              "    20% {\n",
              "      border-color: transparent;\n",
              "      border-left-color: var(--fill-color);\n",
              "      border-top-color: var(--fill-color);\n",
              "    }\n",
              "    30% {\n",
              "      border-color: transparent;\n",
              "      border-left-color: var(--fill-color);\n",
              "      border-top-color: var(--fill-color);\n",
              "      border-right-color: var(--fill-color);\n",
              "    }\n",
              "    40% {\n",
              "      border-color: transparent;\n",
              "      border-right-color: var(--fill-color);\n",
              "      border-top-color: var(--fill-color);\n",
              "    }\n",
              "    60% {\n",
              "      border-color: transparent;\n",
              "      border-right-color: var(--fill-color);\n",
              "    }\n",
              "    80% {\n",
              "      border-color: transparent;\n",
              "      border-right-color: var(--fill-color);\n",
              "      border-bottom-color: var(--fill-color);\n",
              "    }\n",
              "    90% {\n",
              "      border-color: transparent;\n",
              "      border-bottom-color: var(--fill-color);\n",
              "    }\n",
              "  }\n",
              "</style>\n",
              "\n",
              "  <script>\n",
              "    async function quickchart(key) {\n",
              "      const quickchartButtonEl =\n",
              "        document.querySelector('#' + key + ' button');\n",
              "      quickchartButtonEl.disabled = true;  // To prevent multiple clicks.\n",
              "      quickchartButtonEl.classList.add('colab-df-spinner');\n",
              "      try {\n",
              "        const charts = await google.colab.kernel.invokeFunction(\n",
              "            'suggestCharts', [key], {});\n",
              "      } catch (error) {\n",
              "        console.error('Error during call to suggestCharts:', error);\n",
              "      }\n",
              "      quickchartButtonEl.classList.remove('colab-df-spinner');\n",
              "      quickchartButtonEl.classList.add('colab-df-quickchart-complete');\n",
              "    }\n",
              "    (() => {\n",
              "      let quickchartButtonEl =\n",
              "        document.querySelector('#df-9f583b23-784b-4c75-8c0e-2d208ee16150 button');\n",
              "      quickchartButtonEl.style.display =\n",
              "        google.colab.kernel.accessAllowed ? 'block' : 'none';\n",
              "    })();\n",
              "  </script>\n",
              "</div>\n",
              "    </div>\n",
              "  </div>\n"
            ],
            "application/vnd.google.colaboratory.intrinsic+json": {
              "type": "dataframe",
              "variable_name": "df"
            }
          },
          "metadata": {},
          "execution_count": 9
        }
      ],
      "source": [
        "for i, row in df.iterrows():\n",
        "    for j in range(Avalon_fpts.shape[1]):\n",
        "        df.at[i, f'A_{j+1}'] = Avalon_fpts[i][j]\n",
        "\n",
        "df.head()"
      ]
    },
    {
      "cell_type": "markdown",
      "metadata": {
        "id": "4cxRSfHCw94Y"
      },
      "source": [
        "### **PubChem**"
      ]
    },
    {
      "cell_type": "markdown",
      "metadata": {
        "id": "AWVlXDolSuVc"
      },
      "source": [
        "Основаны на данных, хранящихся в базе PubChem. Содержат как количественные физико-химические дескрипторы, так и фингерпринты"
      ]
    },
    {
      "cell_type": "markdown",
      "metadata": {
        "id": "ap9FXiZXSr9d"
      },
      "source": [
        "![image.png](data:image/png;base64,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)"
      ]
    },
    {
      "cell_type": "code",
      "execution_count": null,
      "metadata": {
        "colab": {
          "base_uri": "https://localhost:8080/"
        },
        "id": "JeMPTzFO1-u1",
        "outputId": "09e11328-6979-4d50-bc0c-44a516552788"
      },
      "outputs": [
        {
          "output_type": "stream",
          "name": "stdout",
          "text": [
            "Collecting pubchempy\n",
            "  Downloading PubChemPy-1.0.4.tar.gz (29 kB)\n",
            "  Preparing metadata (setup.py) ... \u001b[?25l\u001b[?25hdone\n",
            "Building wheels for collected packages: pubchempy\n",
            "  Building wheel for pubchempy (setup.py) ... \u001b[?25l\u001b[?25hdone\n",
            "  Created wheel for pubchempy: filename=PubChemPy-1.0.4-py3-none-any.whl size=13819 sha256=d7db052adaf923e574f05c659c9d0c94d853f0ace785114b580677a3904c1d66\n",
            "  Stored in directory: /root/.cache/pip/wheels/90/7c/45/18a0671e3c3316966ef7ed9ad2b3f3300a7e41d3421a44e799\n",
            "Successfully built pubchempy\n",
            "Installing collected packages: pubchempy\n",
            "Successfully installed pubchempy-1.0.4\n"
          ]
        }
      ],
      "source": [
        "!pip install pubchempy"
      ]
    },
    {
      "cell_type": "code",
      "execution_count": null,
      "metadata": {
        "id": "I_1qNSdW2Oau"
      },
      "outputs": [],
      "source": [
        "from pubchempy import *"
      ]
    },
    {
      "cell_type": "code",
      "execution_count": null,
      "metadata": {
        "id": "74XBwg20xDI-"
      },
      "outputs": [],
      "source": [
        "def generate_pubchem(data):\n",
        "    rows_to_del = []\n",
        "    pubchem_features = []\n",
        "    idx = 0\n",
        "    for smi in tqdm(list(data)):\n",
        "        try:\n",
        "            cid = get_cids(smi, 'smiles')[0]\n",
        "            if cid == 0:\n",
        "                rows_to_del.append(idx)\n",
        "            else:\n",
        "                features_dict = Compound.from_cid(cid).to_dict()\n",
        "                descriptors = [features_dict['atom_stereo_count'], features_dict['bond_stereo_count'],\n",
        "                               features_dict['complexity'], features_dict['covalent_unit_count'],\n",
        "                               features_dict['isotope_atom_count']\n",
        "                              ]\n",
        "                fingerprints = [int(fp) for fp in list(features_dict['cactvs_fingerprint'])]\n",
        "                pubchem_features.append(descriptors + fingerprints)\n",
        "        except:\n",
        "            rows_to_del.append(idx)\n",
        "        idx = idx + 1\n",
        "    return np.array(pubchem_features), rows_to_del"
      ]
    },
    {
      "cell_type": "code",
      "execution_count": null,
      "metadata": {
        "colab": {
          "base_uri": "https://localhost:8080/"
        },
        "id": "A0N3S33PxMFt",
        "outputId": "9508ac96-edda-4aa3-811c-476481995d1b"
      },
      "outputs": [
        {
          "output_type": "stream",
          "name": "stderr",
          "text": [
            "100%|██████████| 1190/1190 [12:24<00:00,  1.60it/s]\n"
          ]
        }
      ],
      "source": [
        "pubchem_features, rows_to_del = generate_pubchem(df['SMILES'])"
      ]
    },
    {
      "cell_type": "code",
      "execution_count": null,
      "metadata": {
        "id": "WjyF5OgHx6Ql"
      },
      "outputs": [],
      "source": [
        "for i in rows_to_del:\n",
        "    df = df.drop(labels=[i], axis=0)"
      ]
    },
    {
      "cell_type": "code",
      "execution_count": null,
      "metadata": {
        "colab": {
          "base_uri": "https://localhost:8080/"
        },
        "id": "rm3wfY0Ex-7N",
        "outputId": "21370410-b2bb-43b1-9927-39c9fb1145db"
      },
      "outputs": [
        {
          "output_type": "execute_result",
          "data": {
            "text/plain": [
              "(1066, 886)"
            ]
          },
          "metadata": {},
          "execution_count": 181
        }
      ],
      "source": [
        "pubchem_features.shape"
      ]
    },
    {
      "cell_type": "code",
      "execution_count": null,
      "metadata": {
        "colab": {
          "base_uri": "https://localhost:8080/",
          "height": 256
        },
        "id": "ZizekBO7yVkV",
        "outputId": "15ab70cf-ea2c-421b-a94c-338ace789184"
      },
      "outputs": [
        {
          "output_type": "execute_result",
          "data": {
            "text/plain": [
              "                                              SMILES  #HBA  #ROTB  #ALERTS  \\\n",
              "0  CC1=C(CCN2CCC(C3=NOC4=CC(F)=CC=C34)CC2)C(=O)N2...   6.0    4.0      0.0   \n",
              "1           CC1=CC=CC2=C1OC1=CC=CC=C1C1(O)CCN(C)CC21   3.0    0.0      0.0   \n",
              "2                 NC(=O)N1C2=CC=CC=C2C=CC2=CC=CC=C21   1.0    0.0      0.0   \n",
              "3  O=C1NC2=CC=CC=C2N1CCCN1CCC(N2C(=O)NC3=CC(Cl)=C...   3.0    5.0      0.0   \n",
              "4                 CN1CCN2C3=CC=CC=C3CC3=CC=CC=C3C2C1   2.0    0.0      0.0   \n",
              "\n",
              "   MlogP     #MR  #NHOH  #AromaticCarbocycles  #AromaticHeterocycles  \\\n",
              "0   3.08  113.51    1.0                   1.0                    2.0   \n",
              "1   3.41   86.45    1.0                   2.0                    0.0   \n",
              "2   3.39   73.53    2.0                   2.0                    0.0   \n",
              "3   3.35  119.46    2.0                   2.0                    2.0   \n",
              "4   3.08   83.27    0.0                   2.0                    0.0   \n",
              "\n",
              "   #Heteroatoms  ...  PUBCHEM_877  PUBCHEM_878  PUBCHEM_879  PUBCHEM_880  \\\n",
              "0           8.0  ...          0.0          0.0          0.0          0.0   \n",
              "1           3.0  ...          0.0          0.0          0.0          0.0   \n",
              "2           3.0  ...          0.0          0.0          0.0          0.0   \n",
              "3           8.0  ...          0.0          0.0          0.0          0.0   \n",
              "4           2.0  ...          0.0          0.0          0.0          0.0   \n",
              "\n",
              "   PUBCHEM_881  PUBCHEM_882  PUBCHEM_883  PUBCHEM_884  PUBCHEM_885  \\\n",
              "0          0.0          0.0          0.0          0.0          0.0   \n",
              "1          0.0          0.0          0.0          0.0          0.0   \n",
              "2          0.0          0.0          0.0          0.0          0.0   \n",
              "3          0.0          0.0          0.0          0.0          0.0   \n",
              "4          0.0          0.0          0.0          0.0          0.0   \n",
              "\n",
              "   PUBCHEM_886  \n",
              "0          0.0  \n",
              "1          0.0  \n",
              "2          0.0  \n",
              "3          0.0  \n",
              "4          0.0  \n",
              "\n",
              "[5 rows x 903 columns]"
            ],
            "text/html": [
              "\n",
              "  <div id=\"df-46f1a930-d9bb-4c40-a5d4-9acdf9911542\" class=\"colab-df-container\">\n",
              "    <div>\n",
              "<style scoped>\n",
              "    .dataframe tbody tr th:only-of-type {\n",
              "        vertical-align: middle;\n",
              "    }\n",
              "\n",
              "    .dataframe tbody tr th {\n",
              "        vertical-align: top;\n",
              "    }\n",
              "\n",
              "    .dataframe thead th {\n",
              "        text-align: right;\n",
              "    }\n",
              "</style>\n",
              "<table border=\"1\" class=\"dataframe\">\n",
              "  <thead>\n",
              "    <tr style=\"text-align: right;\">\n",
              "      <th></th>\n",
              "      <th>SMILES</th>\n",
              "      <th>#HBA</th>\n",
              "      <th>#ROTB</th>\n",
              "      <th>#ALERTS</th>\n",
              "      <th>MlogP</th>\n",
              "      <th>#MR</th>\n",
              "      <th>#NHOH</th>\n",
              "      <th>#AromaticCarbocycles</th>\n",
              "      <th>#AromaticHeterocycles</th>\n",
              "      <th>#Heteroatoms</th>\n",
              "      <th>...</th>\n",
              "      <th>PUBCHEM_877</th>\n",
              "      <th>PUBCHEM_878</th>\n",
              "      <th>PUBCHEM_879</th>\n",
              "      <th>PUBCHEM_880</th>\n",
              "      <th>PUBCHEM_881</th>\n",
              "      <th>PUBCHEM_882</th>\n",
              "      <th>PUBCHEM_883</th>\n",
              "      <th>PUBCHEM_884</th>\n",
              "      <th>PUBCHEM_885</th>\n",
              "      <th>PUBCHEM_886</th>\n",
              "    </tr>\n",
              "  </thead>\n",
              "  <tbody>\n",
              "    <tr>\n",
              "      <th>0</th>\n",
              "      <td>CC1=C(CCN2CCC(C3=NOC4=CC(F)=CC=C34)CC2)C(=O)N2...</td>\n",
              "      <td>6.0</td>\n",
              "      <td>4.0</td>\n",
              "      <td>0.0</td>\n",
              "      <td>3.08</td>\n",
              "      <td>113.51</td>\n",
              "      <td>1.0</td>\n",
              "      <td>1.0</td>\n",
              "      <td>2.0</td>\n",
              "      <td>8.0</td>\n",
              "      <td>...</td>\n",
              "      <td>0.0</td>\n",
              "      <td>0.0</td>\n",
              "      <td>0.0</td>\n",
              "      <td>0.0</td>\n",
              "      <td>0.0</td>\n",
              "      <td>0.0</td>\n",
              "      <td>0.0</td>\n",
              "      <td>0.0</td>\n",
              "      <td>0.0</td>\n",
              "      <td>0.0</td>\n",
              "    </tr>\n",
              "    <tr>\n",
              "      <th>1</th>\n",
              "      <td>CC1=CC=CC2=C1OC1=CC=CC=C1C1(O)CCN(C)CC21</td>\n",
              "      <td>3.0</td>\n",
              "      <td>0.0</td>\n",
              "      <td>0.0</td>\n",
              "      <td>3.41</td>\n",
              "      <td>86.45</td>\n",
              "      <td>1.0</td>\n",
              "      <td>2.0</td>\n",
              "      <td>0.0</td>\n",
              "      <td>3.0</td>\n",
              "      <td>...</td>\n",
              "      <td>0.0</td>\n",
              "      <td>0.0</td>\n",
              "      <td>0.0</td>\n",
              "      <td>0.0</td>\n",
              "      <td>0.0</td>\n",
              "      <td>0.0</td>\n",
              "      <td>0.0</td>\n",
              "      <td>0.0</td>\n",
              "      <td>0.0</td>\n",
              "      <td>0.0</td>\n",
              "    </tr>\n",
              "    <tr>\n",
              "      <th>2</th>\n",
              "      <td>NC(=O)N1C2=CC=CC=C2C=CC2=CC=CC=C21</td>\n",
              "      <td>1.0</td>\n",
              "      <td>0.0</td>\n",
              "      <td>0.0</td>\n",
              "      <td>3.39</td>\n",
              "      <td>73.53</td>\n",
              "      <td>2.0</td>\n",
              "      <td>2.0</td>\n",
              "      <td>0.0</td>\n",
              "      <td>3.0</td>\n",
              "      <td>...</td>\n",
              "      <td>0.0</td>\n",
              "      <td>0.0</td>\n",
              "      <td>0.0</td>\n",
              "      <td>0.0</td>\n",
              "      <td>0.0</td>\n",
              "      <td>0.0</td>\n",
              "      <td>0.0</td>\n",
              "      <td>0.0</td>\n",
              "      <td>0.0</td>\n",
              "      <td>0.0</td>\n",
              "    </tr>\n",
              "    <tr>\n",
              "      <th>3</th>\n",
              "      <td>O=C1NC2=CC=CC=C2N1CCCN1CCC(N2C(=O)NC3=CC(Cl)=C...</td>\n",
              "      <td>3.0</td>\n",
              "      <td>5.0</td>\n",
              "      <td>0.0</td>\n",
              "      <td>3.35</td>\n",
              "      <td>119.46</td>\n",
              "      <td>2.0</td>\n",
              "      <td>2.0</td>\n",
              "      <td>2.0</td>\n",
              "      <td>8.0</td>\n",
              "      <td>...</td>\n",
              "      <td>0.0</td>\n",
              "      <td>0.0</td>\n",
              "      <td>0.0</td>\n",
              "      <td>0.0</td>\n",
              "      <td>0.0</td>\n",
              "      <td>0.0</td>\n",
              "      <td>0.0</td>\n",
              "      <td>0.0</td>\n",
              "      <td>0.0</td>\n",
              "      <td>0.0</td>\n",
              "    </tr>\n",
              "    <tr>\n",
              "      <th>4</th>\n",
              "      <td>CN1CCN2C3=CC=CC=C3CC3=CC=CC=C3C2C1</td>\n",
              "      <td>2.0</td>\n",
              "      <td>0.0</td>\n",
              "      <td>0.0</td>\n",
              "      <td>3.08</td>\n",
              "      <td>83.27</td>\n",
              "      <td>0.0</td>\n",
              "      <td>2.0</td>\n",
              "      <td>0.0</td>\n",
              "      <td>2.0</td>\n",
              "      <td>...</td>\n",
              "      <td>0.0</td>\n",
              "      <td>0.0</td>\n",
              "      <td>0.0</td>\n",
              "      <td>0.0</td>\n",
              "      <td>0.0</td>\n",
              "      <td>0.0</td>\n",
              "      <td>0.0</td>\n",
              "      <td>0.0</td>\n",
              "      <td>0.0</td>\n",
              "      <td>0.0</td>\n",
              "    </tr>\n",
              "  </tbody>\n",
              "</table>\n",
              "<p>5 rows × 903 columns</p>\n",
              "</div>\n",
              "    <div class=\"colab-df-buttons\">\n",
              "\n",
              "  <div class=\"colab-df-container\">\n",
              "    <button class=\"colab-df-convert\" onclick=\"convertToInteractive('df-46f1a930-d9bb-4c40-a5d4-9acdf9911542')\"\n",
              "            title=\"Convert this dataframe to an interactive table.\"\n",
              "            style=\"display:none;\">\n",
              "\n",
              "  <svg xmlns=\"http://www.w3.org/2000/svg\" height=\"24px\" viewBox=\"0 -960 960 960\">\n",
              "    <path d=\"M120-120v-720h720v720H120Zm60-500h600v-160H180v160Zm220 220h160v-160H400v160Zm0 220h160v-160H400v160ZM180-400h160v-160H180v160Zm440 0h160v-160H620v160ZM180-180h160v-160H180v160Zm440 0h160v-160H620v160Z\"/>\n",
              "  </svg>\n",
              "    </button>\n",
              "\n",
              "  <style>\n",
              "    .colab-df-container {\n",
              "      display:flex;\n",
              "      gap: 12px;\n",
              "    }\n",
              "\n",
              "    .colab-df-convert {\n",
              "      background-color: #E8F0FE;\n",
              "      border: none;\n",
              "      border-radius: 50%;\n",
              "      cursor: pointer;\n",
              "      display: none;\n",
              "      fill: #1967D2;\n",
              "      height: 32px;\n",
              "      padding: 0 0 0 0;\n",
              "      width: 32px;\n",
              "    }\n",
              "\n",
              "    .colab-df-convert:hover {\n",
              "      background-color: #E2EBFA;\n",
              "      box-shadow: 0px 1px 2px rgba(60, 64, 67, 0.3), 0px 1px 3px 1px rgba(60, 64, 67, 0.15);\n",
              "      fill: #174EA6;\n",
              "    }\n",
              "\n",
              "    .colab-df-buttons div {\n",
              "      margin-bottom: 4px;\n",
              "    }\n",
              "\n",
              "    [theme=dark] .colab-df-convert {\n",
              "      background-color: #3B4455;\n",
              "      fill: #D2E3FC;\n",
              "    }\n",
              "\n",
              "    [theme=dark] .colab-df-convert:hover {\n",
              "      background-color: #434B5C;\n",
              "      box-shadow: 0px 1px 3px 1px rgba(0, 0, 0, 0.15);\n",
              "      filter: drop-shadow(0px 1px 2px rgba(0, 0, 0, 0.3));\n",
              "      fill: #FFFFFF;\n",
              "    }\n",
              "  </style>\n",
              "\n",
              "    <script>\n",
              "      const buttonEl =\n",
              "        document.querySelector('#df-46f1a930-d9bb-4c40-a5d4-9acdf9911542 button.colab-df-convert');\n",
              "      buttonEl.style.display =\n",
              "        google.colab.kernel.accessAllowed ? 'block' : 'none';\n",
              "\n",
              "      async function convertToInteractive(key) {\n",
              "        const element = document.querySelector('#df-46f1a930-d9bb-4c40-a5d4-9acdf9911542');\n",
              "        const dataTable =\n",
              "          await google.colab.kernel.invokeFunction('convertToInteractive',\n",
              "                                                    [key], {});\n",
              "        if (!dataTable) return;\n",
              "\n",
              "        const docLinkHtml = 'Like what you see? Visit the ' +\n",
              "          '<a target=\"_blank\" href=https://colab.research.google.com/notebooks/data_table.ipynb>data table notebook</a>'\n",
              "          + ' to learn more about interactive tables.';\n",
              "        element.innerHTML = '';\n",
              "        dataTable['output_type'] = 'display_data';\n",
              "        await google.colab.output.renderOutput(dataTable, element);\n",
              "        const docLink = document.createElement('div');\n",
              "        docLink.innerHTML = docLinkHtml;\n",
              "        element.appendChild(docLink);\n",
              "      }\n",
              "    </script>\n",
              "  </div>\n",
              "\n",
              "\n",
              "<div id=\"df-340514ce-3438-4632-bb39-dce1be66a250\">\n",
              "  <button class=\"colab-df-quickchart\" onclick=\"quickchart('df-340514ce-3438-4632-bb39-dce1be66a250')\"\n",
              "            title=\"Suggest charts\"\n",
              "            style=\"display:none;\">\n",
              "\n",
              "<svg xmlns=\"http://www.w3.org/2000/svg\" height=\"24px\"viewBox=\"0 0 24 24\"\n",
              "     width=\"24px\">\n",
              "    <g>\n",
              "        <path d=\"M19 3H5c-1.1 0-2 .9-2 2v14c0 1.1.9 2 2 2h14c1.1 0 2-.9 2-2V5c0-1.1-.9-2-2-2zM9 17H7v-7h2v7zm4 0h-2V7h2v10zm4 0h-2v-4h2v4z\"/>\n",
              "    </g>\n",
              "</svg>\n",
              "  </button>\n",
              "\n",
              "<style>\n",
              "  .colab-df-quickchart {\n",
              "      --bg-color: #E8F0FE;\n",
              "      --fill-color: #1967D2;\n",
              "      --hover-bg-color: #E2EBFA;\n",
              "      --hover-fill-color: #174EA6;\n",
              "      --disabled-fill-color: #AAA;\n",
              "      --disabled-bg-color: #DDD;\n",
              "  }\n",
              "\n",
              "  [theme=dark] .colab-df-quickchart {\n",
              "      --bg-color: #3B4455;\n",
              "      --fill-color: #D2E3FC;\n",
              "      --hover-bg-color: #434B5C;\n",
              "      --hover-fill-color: #FFFFFF;\n",
              "      --disabled-bg-color: #3B4455;\n",
              "      --disabled-fill-color: #666;\n",
              "  }\n",
              "\n",
              "  .colab-df-quickchart {\n",
              "    background-color: var(--bg-color);\n",
              "    border: none;\n",
              "    border-radius: 50%;\n",
              "    cursor: pointer;\n",
              "    display: none;\n",
              "    fill: var(--fill-color);\n",
              "    height: 32px;\n",
              "    padding: 0;\n",
              "    width: 32px;\n",
              "  }\n",
              "\n",
              "  .colab-df-quickchart:hover {\n",
              "    background-color: var(--hover-bg-color);\n",
              "    box-shadow: 0 1px 2px rgba(60, 64, 67, 0.3), 0 1px 3px 1px rgba(60, 64, 67, 0.15);\n",
              "    fill: var(--button-hover-fill-color);\n",
              "  }\n",
              "\n",
              "  .colab-df-quickchart-complete:disabled,\n",
              "  .colab-df-quickchart-complete:disabled:hover {\n",
              "    background-color: var(--disabled-bg-color);\n",
              "    fill: var(--disabled-fill-color);\n",
              "    box-shadow: none;\n",
              "  }\n",
              "\n",
              "  .colab-df-spinner {\n",
              "    border: 2px solid var(--fill-color);\n",
              "    border-color: transparent;\n",
              "    border-bottom-color: var(--fill-color);\n",
              "    animation:\n",
              "      spin 1s steps(1) infinite;\n",
              "  }\n",
              "\n",
              "  @keyframes spin {\n",
              "    0% {\n",
              "      border-color: transparent;\n",
              "      border-bottom-color: var(--fill-color);\n",
              "      border-left-color: var(--fill-color);\n",
              "    }\n",
              "    20% {\n",
              "      border-color: transparent;\n",
              "      border-left-color: var(--fill-color);\n",
              "      border-top-color: var(--fill-color);\n",
              "    }\n",
              "    30% {\n",
              "      border-color: transparent;\n",
              "      border-left-color: var(--fill-color);\n",
              "      border-top-color: var(--fill-color);\n",
              "      border-right-color: var(--fill-color);\n",
              "    }\n",
              "    40% {\n",
              "      border-color: transparent;\n",
              "      border-right-color: var(--fill-color);\n",
              "      border-top-color: var(--fill-color);\n",
              "    }\n",
              "    60% {\n",
              "      border-color: transparent;\n",
              "      border-right-color: var(--fill-color);\n",
              "    }\n",
              "    80% {\n",
              "      border-color: transparent;\n",
              "      border-right-color: var(--fill-color);\n",
              "      border-bottom-color: var(--fill-color);\n",
              "    }\n",
              "    90% {\n",
              "      border-color: transparent;\n",
              "      border-bottom-color: var(--fill-color);\n",
              "    }\n",
              "  }\n",
              "</style>\n",
              "\n",
              "  <script>\n",
              "    async function quickchart(key) {\n",
              "      const quickchartButtonEl =\n",
              "        document.querySelector('#' + key + ' button');\n",
              "      quickchartButtonEl.disabled = true;  // To prevent multiple clicks.\n",
              "      quickchartButtonEl.classList.add('colab-df-spinner');\n",
              "      try {\n",
              "        const charts = await google.colab.kernel.invokeFunction(\n",
              "            'suggestCharts', [key], {});\n",
              "      } catch (error) {\n",
              "        console.error('Error during call to suggestCharts:', error);\n",
              "      }\n",
              "      quickchartButtonEl.classList.remove('colab-df-spinner');\n",
              "      quickchartButtonEl.classList.add('colab-df-quickchart-complete');\n",
              "    }\n",
              "    (() => {\n",
              "      let quickchartButtonEl =\n",
              "        document.querySelector('#df-340514ce-3438-4632-bb39-dce1be66a250 button');\n",
              "      quickchartButtonEl.style.display =\n",
              "        google.colab.kernel.accessAllowed ? 'block' : 'none';\n",
              "    })();\n",
              "  </script>\n",
              "</div>\n",
              "    </div>\n",
              "  </div>\n"
            ],
            "application/vnd.google.colaboratory.intrinsic+json": {
              "type": "dataframe",
              "variable_name": "df"
            }
          },
          "metadata": {},
          "execution_count": 182
        }
      ],
      "source": [
        "number = 0\n",
        "for i, row in df.iterrows():\n",
        "    for j in range(pubchem_features.shape[1]):\n",
        "        df.at[number, f'PUBCHEM_{j+1}'] = pubchem_features[number][j]\n",
        "    number = number + 1\n",
        "df.head()"
      ]
    },
    {
      "cell_type": "code",
      "execution_count": null,
      "metadata": {
        "id": "e8zao6QZUcOk"
      },
      "outputs": [],
      "source": [
        "df.reset_index(drop=True, inplace=True) # обновим индексы строк\n"
      ]
    },
    {
      "cell_type": "code",
      "execution_count": null,
      "metadata": {
        "id": "N9j41_CRUMAv"
      },
      "outputs": [],
      "source": [
        "df.info()"
      ]
    },
    {
      "cell_type": "markdown",
      "metadata": {
        "id": "LWwJnaS0Uzi8"
      },
      "source": [
        "❗**Для каких-то молекул информации о дескрипторах из PubChem может не быть, и мы их удаляем. Также функция cid могла по ошибке выдать id другого компонента, и у нас появляются лишнее строки, где значения ранее  посчитанных дескрипторов и SMILES пропущены. Такие строки тоже удаляем**"
      ]
    },
    {
      "cell_type": "code",
      "execution_count": null,
      "metadata": {
        "id": "LPGsozAKUgZL"
      },
      "outputs": [],
      "source": [
        "df.tail(215)"
      ]
    },
    {
      "cell_type": "markdown",
      "metadata": {
        "id": "spxYyqr9xu0p"
      },
      "source": []
    },
    {
      "cell_type": "markdown",
      "metadata": {
        "id": "5wa6xCwExu3V"
      },
      "source": []
    },
    {
      "cell_type": "code",
      "execution_count": null,
      "metadata": {
        "colab": {
          "base_uri": "https://localhost:8080/",
          "height": 256
        },
        "id": "_pQXvmXCYTq-",
        "outputId": "15c3bbd5-8555-4717-ed93-f1e2c8174588"
      },
      "outputs": [
        {
          "output_type": "execute_result",
          "data": {
            "text/plain": [
              "                                                SMILES  #HBA  #ROTB  #ALERTS  \\\n",
              "953  N#CC1=CC=C2CN(CCC3CCC(NC(=O)C4=CC=NC5=CC=CC=C4...   4.0    5.0      0.0   \n",
              "954                                  C1=CC=C2CNCCC2=C1   1.0    0.0      0.0   \n",
              "955                       C#CCN(C)[C@H](C)CC1=CC=CC=C1   1.0    4.0      1.0   \n",
              "956  COC1=C2O[C@H]3C(=O)C=C[C@H]4[C@H]5CC(C=C1)C2[C...   4.0    1.0      0.0   \n",
              "957  COC1=CC=C2NN=C(NC3CCN(CC4=CC=C5OCOC5=C4)CC3)C2=C1   6.0    5.0      0.0   \n",
              "\n",
              "     MlogP     #MR  #NHOH  #AromaticCarbocycles  #AromaticHeterocycles  \\\n",
              "953   4.84  129.71    1.0                   2.0                    1.0   \n",
              "954   1.33   41.85    1.0                   1.0                    0.0   \n",
              "955   2.18   61.07    0.0                   1.0                    0.0   \n",
              "956   1.89   80.75    0.0                   0.0                    0.0   \n",
              "957   3.38  107.13    2.0                   2.0                    1.0   \n",
              "\n",
              "     #Heteroatoms  ...  PUBCHEM_877  PUBCHEM_878  PUBCHEM_879  PUBCHEM_880  \\\n",
              "953           5.0  ...          0.0          0.0          0.0          0.0   \n",
              "954           1.0  ...          0.0          0.0          0.0          0.0   \n",
              "955           1.0  ...          0.0          0.0          0.0          0.0   \n",
              "956           4.0  ...          0.0          0.0          0.0          0.0   \n",
              "957           7.0  ...          0.0          0.0          0.0          0.0   \n",
              "\n",
              "     PUBCHEM_881  PUBCHEM_882  PUBCHEM_883  PUBCHEM_884  PUBCHEM_885  \\\n",
              "953          0.0          0.0          0.0          0.0          0.0   \n",
              "954          0.0          0.0          0.0          0.0          0.0   \n",
              "955          0.0          0.0          0.0          0.0          0.0   \n",
              "956          0.0          0.0          0.0          0.0          0.0   \n",
              "957          0.0          0.0          0.0          0.0          0.0   \n",
              "\n",
              "     PUBCHEM_886  \n",
              "953          0.0  \n",
              "954          0.0  \n",
              "955          0.0  \n",
              "956          0.0  \n",
              "957          0.0  \n",
              "\n",
              "[5 rows x 903 columns]"
            ],
            "text/html": [
              "\n",
              "  <div id=\"df-ce6e98fa-f817-4e73-9b39-6288fab901e6\" class=\"colab-df-container\">\n",
              "    <div>\n",
              "<style scoped>\n",
              "    .dataframe tbody tr th:only-of-type {\n",
              "        vertical-align: middle;\n",
              "    }\n",
              "\n",
              "    .dataframe tbody tr th {\n",
              "        vertical-align: top;\n",
              "    }\n",
              "\n",
              "    .dataframe thead th {\n",
              "        text-align: right;\n",
              "    }\n",
              "</style>\n",
              "<table border=\"1\" class=\"dataframe\">\n",
              "  <thead>\n",
              "    <tr style=\"text-align: right;\">\n",
              "      <th></th>\n",
              "      <th>SMILES</th>\n",
              "      <th>#HBA</th>\n",
              "      <th>#ROTB</th>\n",
              "      <th>#ALERTS</th>\n",
              "      <th>MlogP</th>\n",
              "      <th>#MR</th>\n",
              "      <th>#NHOH</th>\n",
              "      <th>#AromaticCarbocycles</th>\n",
              "      <th>#AromaticHeterocycles</th>\n",
              "      <th>#Heteroatoms</th>\n",
              "      <th>...</th>\n",
              "      <th>PUBCHEM_877</th>\n",
              "      <th>PUBCHEM_878</th>\n",
              "      <th>PUBCHEM_879</th>\n",
              "      <th>PUBCHEM_880</th>\n",
              "      <th>PUBCHEM_881</th>\n",
              "      <th>PUBCHEM_882</th>\n",
              "      <th>PUBCHEM_883</th>\n",
              "      <th>PUBCHEM_884</th>\n",
              "      <th>PUBCHEM_885</th>\n",
              "      <th>PUBCHEM_886</th>\n",
              "    </tr>\n",
              "  </thead>\n",
              "  <tbody>\n",
              "    <tr>\n",
              "      <th>953</th>\n",
              "      <td>N#CC1=CC=C2CN(CCC3CCC(NC(=O)C4=CC=NC5=CC=CC=C4...</td>\n",
              "      <td>4.0</td>\n",
              "      <td>5.0</td>\n",
              "      <td>0.0</td>\n",
              "      <td>4.84</td>\n",
              "      <td>129.71</td>\n",
              "      <td>1.0</td>\n",
              "      <td>2.0</td>\n",
              "      <td>1.0</td>\n",
              "      <td>5.0</td>\n",
              "      <td>...</td>\n",
              "      <td>0.0</td>\n",
              "      <td>0.0</td>\n",
              "      <td>0.0</td>\n",
              "      <td>0.0</td>\n",
              "      <td>0.0</td>\n",
              "      <td>0.0</td>\n",
              "      <td>0.0</td>\n",
              "      <td>0.0</td>\n",
              "      <td>0.0</td>\n",
              "      <td>0.0</td>\n",
              "    </tr>\n",
              "    <tr>\n",
              "      <th>954</th>\n",
              "      <td>C1=CC=C2CNCCC2=C1</td>\n",
              "      <td>1.0</td>\n",
              "      <td>0.0</td>\n",
              "      <td>0.0</td>\n",
              "      <td>1.33</td>\n",
              "      <td>41.85</td>\n",
              "      <td>1.0</td>\n",
              "      <td>1.0</td>\n",
              "      <td>0.0</td>\n",
              "      <td>1.0</td>\n",
              "      <td>...</td>\n",
              "      <td>0.0</td>\n",
              "      <td>0.0</td>\n",
              "      <td>0.0</td>\n",
              "      <td>0.0</td>\n",
              "      <td>0.0</td>\n",
              "      <td>0.0</td>\n",
              "      <td>0.0</td>\n",
              "      <td>0.0</td>\n",
              "      <td>0.0</td>\n",
              "      <td>0.0</td>\n",
              "    </tr>\n",
              "    <tr>\n",
              "      <th>955</th>\n",
              "      <td>C#CCN(C)[C@H](C)CC1=CC=CC=C1</td>\n",
              "      <td>1.0</td>\n",
              "      <td>4.0</td>\n",
              "      <td>1.0</td>\n",
              "      <td>2.18</td>\n",
              "      <td>61.07</td>\n",
              "      <td>0.0</td>\n",
              "      <td>1.0</td>\n",
              "      <td>0.0</td>\n",
              "      <td>1.0</td>\n",
              "      <td>...</td>\n",
              "      <td>0.0</td>\n",
              "      <td>0.0</td>\n",
              "      <td>0.0</td>\n",
              "      <td>0.0</td>\n",
              "      <td>0.0</td>\n",
              "      <td>0.0</td>\n",
              "      <td>0.0</td>\n",
              "      <td>0.0</td>\n",
              "      <td>0.0</td>\n",
              "      <td>0.0</td>\n",
              "    </tr>\n",
              "    <tr>\n",
              "      <th>956</th>\n",
              "      <td>COC1=C2O[C@H]3C(=O)C=C[C@H]4[C@H]5CC(C=C1)C2[C...</td>\n",
              "      <td>4.0</td>\n",
              "      <td>1.0</td>\n",
              "      <td>0.0</td>\n",
              "      <td>1.89</td>\n",
              "      <td>80.75</td>\n",
              "      <td>0.0</td>\n",
              "      <td>0.0</td>\n",
              "      <td>0.0</td>\n",
              "      <td>4.0</td>\n",
              "      <td>...</td>\n",
              "      <td>0.0</td>\n",
              "      <td>0.0</td>\n",
              "      <td>0.0</td>\n",
              "      <td>0.0</td>\n",
              "      <td>0.0</td>\n",
              "      <td>0.0</td>\n",
              "      <td>0.0</td>\n",
              "      <td>0.0</td>\n",
              "      <td>0.0</td>\n",
              "      <td>0.0</td>\n",
              "    </tr>\n",
              "    <tr>\n",
              "      <th>957</th>\n",
              "      <td>COC1=CC=C2NN=C(NC3CCN(CC4=CC=C5OCOC5=C4)CC3)C2=C1</td>\n",
              "      <td>6.0</td>\n",
              "      <td>5.0</td>\n",
              "      <td>0.0</td>\n",
              "      <td>3.38</td>\n",
              "      <td>107.13</td>\n",
              "      <td>2.0</td>\n",
              "      <td>2.0</td>\n",
              "      <td>1.0</td>\n",
              "      <td>7.0</td>\n",
              "      <td>...</td>\n",
              "      <td>0.0</td>\n",
              "      <td>0.0</td>\n",
              "      <td>0.0</td>\n",
              "      <td>0.0</td>\n",
              "      <td>0.0</td>\n",
              "      <td>0.0</td>\n",
              "      <td>0.0</td>\n",
              "      <td>0.0</td>\n",
              "      <td>0.0</td>\n",
              "      <td>0.0</td>\n",
              "    </tr>\n",
              "  </tbody>\n",
              "</table>\n",
              "<p>5 rows × 903 columns</p>\n",
              "</div>\n",
              "    <div class=\"colab-df-buttons\">\n",
              "\n",
              "  <div class=\"colab-df-container\">\n",
              "    <button class=\"colab-df-convert\" onclick=\"convertToInteractive('df-ce6e98fa-f817-4e73-9b39-6288fab901e6')\"\n",
              "            title=\"Convert this dataframe to an interactive table.\"\n",
              "            style=\"display:none;\">\n",
              "\n",
              "  <svg xmlns=\"http://www.w3.org/2000/svg\" height=\"24px\" viewBox=\"0 -960 960 960\">\n",
              "    <path d=\"M120-120v-720h720v720H120Zm60-500h600v-160H180v160Zm220 220h160v-160H400v160Zm0 220h160v-160H400v160ZM180-400h160v-160H180v160Zm440 0h160v-160H620v160ZM180-180h160v-160H180v160Zm440 0h160v-160H620v160Z\"/>\n",
              "  </svg>\n",
              "    </button>\n",
              "\n",
              "  <style>\n",
              "    .colab-df-container {\n",
              "      display:flex;\n",
              "      gap: 12px;\n",
              "    }\n",
              "\n",
              "    .colab-df-convert {\n",
              "      background-color: #E8F0FE;\n",
              "      border: none;\n",
              "      border-radius: 50%;\n",
              "      cursor: pointer;\n",
              "      display: none;\n",
              "      fill: #1967D2;\n",
              "      height: 32px;\n",
              "      padding: 0 0 0 0;\n",
              "      width: 32px;\n",
              "    }\n",
              "\n",
              "    .colab-df-convert:hover {\n",
              "      background-color: #E2EBFA;\n",
              "      box-shadow: 0px 1px 2px rgba(60, 64, 67, 0.3), 0px 1px 3px 1px rgba(60, 64, 67, 0.15);\n",
              "      fill: #174EA6;\n",
              "    }\n",
              "\n",
              "    .colab-df-buttons div {\n",
              "      margin-bottom: 4px;\n",
              "    }\n",
              "\n",
              "    [theme=dark] .colab-df-convert {\n",
              "      background-color: #3B4455;\n",
              "      fill: #D2E3FC;\n",
              "    }\n",
              "\n",
              "    [theme=dark] .colab-df-convert:hover {\n",
              "      background-color: #434B5C;\n",
              "      box-shadow: 0px 1px 3px 1px rgba(0, 0, 0, 0.15);\n",
              "      filter: drop-shadow(0px 1px 2px rgba(0, 0, 0, 0.3));\n",
              "      fill: #FFFFFF;\n",
              "    }\n",
              "  </style>\n",
              "\n",
              "    <script>\n",
              "      const buttonEl =\n",
              "        document.querySelector('#df-ce6e98fa-f817-4e73-9b39-6288fab901e6 button.colab-df-convert');\n",
              "      buttonEl.style.display =\n",
              "        google.colab.kernel.accessAllowed ? 'block' : 'none';\n",
              "\n",
              "      async function convertToInteractive(key) {\n",
              "        const element = document.querySelector('#df-ce6e98fa-f817-4e73-9b39-6288fab901e6');\n",
              "        const dataTable =\n",
              "          await google.colab.kernel.invokeFunction('convertToInteractive',\n",
              "                                                    [key], {});\n",
              "        if (!dataTable) return;\n",
              "\n",
              "        const docLinkHtml = 'Like what you see? Visit the ' +\n",
              "          '<a target=\"_blank\" href=https://colab.research.google.com/notebooks/data_table.ipynb>data table notebook</a>'\n",
              "          + ' to learn more about interactive tables.';\n",
              "        element.innerHTML = '';\n",
              "        dataTable['output_type'] = 'display_data';\n",
              "        await google.colab.output.renderOutput(dataTable, element);\n",
              "        const docLink = document.createElement('div');\n",
              "        docLink.innerHTML = docLinkHtml;\n",
              "        element.appendChild(docLink);\n",
              "      }\n",
              "    </script>\n",
              "  </div>\n",
              "\n",
              "\n",
              "<div id=\"df-94a2d348-fa12-4103-89c8-33109b731ac4\">\n",
              "  <button class=\"colab-df-quickchart\" onclick=\"quickchart('df-94a2d348-fa12-4103-89c8-33109b731ac4')\"\n",
              "            title=\"Suggest charts\"\n",
              "            style=\"display:none;\">\n",
              "\n",
              "<svg xmlns=\"http://www.w3.org/2000/svg\" height=\"24px\"viewBox=\"0 0 24 24\"\n",
              "     width=\"24px\">\n",
              "    <g>\n",
              "        <path d=\"M19 3H5c-1.1 0-2 .9-2 2v14c0 1.1.9 2 2 2h14c1.1 0 2-.9 2-2V5c0-1.1-.9-2-2-2zM9 17H7v-7h2v7zm4 0h-2V7h2v10zm4 0h-2v-4h2v4z\"/>\n",
              "    </g>\n",
              "</svg>\n",
              "  </button>\n",
              "\n",
              "<style>\n",
              "  .colab-df-quickchart {\n",
              "      --bg-color: #E8F0FE;\n",
              "      --fill-color: #1967D2;\n",
              "      --hover-bg-color: #E2EBFA;\n",
              "      --hover-fill-color: #174EA6;\n",
              "      --disabled-fill-color: #AAA;\n",
              "      --disabled-bg-color: #DDD;\n",
              "  }\n",
              "\n",
              "  [theme=dark] .colab-df-quickchart {\n",
              "      --bg-color: #3B4455;\n",
              "      --fill-color: #D2E3FC;\n",
              "      --hover-bg-color: #434B5C;\n",
              "      --hover-fill-color: #FFFFFF;\n",
              "      --disabled-bg-color: #3B4455;\n",
              "      --disabled-fill-color: #666;\n",
              "  }\n",
              "\n",
              "  .colab-df-quickchart {\n",
              "    background-color: var(--bg-color);\n",
              "    border: none;\n",
              "    border-radius: 50%;\n",
              "    cursor: pointer;\n",
              "    display: none;\n",
              "    fill: var(--fill-color);\n",
              "    height: 32px;\n",
              "    padding: 0;\n",
              "    width: 32px;\n",
              "  }\n",
              "\n",
              "  .colab-df-quickchart:hover {\n",
              "    background-color: var(--hover-bg-color);\n",
              "    box-shadow: 0 1px 2px rgba(60, 64, 67, 0.3), 0 1px 3px 1px rgba(60, 64, 67, 0.15);\n",
              "    fill: var(--button-hover-fill-color);\n",
              "  }\n",
              "\n",
              "  .colab-df-quickchart-complete:disabled,\n",
              "  .colab-df-quickchart-complete:disabled:hover {\n",
              "    background-color: var(--disabled-bg-color);\n",
              "    fill: var(--disabled-fill-color);\n",
              "    box-shadow: none;\n",
              "  }\n",
              "\n",
              "  .colab-df-spinner {\n",
              "    border: 2px solid var(--fill-color);\n",
              "    border-color: transparent;\n",
              "    border-bottom-color: var(--fill-color);\n",
              "    animation:\n",
              "      spin 1s steps(1) infinite;\n",
              "  }\n",
              "\n",
              "  @keyframes spin {\n",
              "    0% {\n",
              "      border-color: transparent;\n",
              "      border-bottom-color: var(--fill-color);\n",
              "      border-left-color: var(--fill-color);\n",
              "    }\n",
              "    20% {\n",
              "      border-color: transparent;\n",
              "      border-left-color: var(--fill-color);\n",
              "      border-top-color: var(--fill-color);\n",
              "    }\n",
              "    30% {\n",
              "      border-color: transparent;\n",
              "      border-left-color: var(--fill-color);\n",
              "      border-top-color: var(--fill-color);\n",
              "      border-right-color: var(--fill-color);\n",
              "    }\n",
              "    40% {\n",
              "      border-color: transparent;\n",
              "      border-right-color: var(--fill-color);\n",
              "      border-top-color: var(--fill-color);\n",
              "    }\n",
              "    60% {\n",
              "      border-color: transparent;\n",
              "      border-right-color: var(--fill-color);\n",
              "    }\n",
              "    80% {\n",
              "      border-color: transparent;\n",
              "      border-right-color: var(--fill-color);\n",
              "      border-bottom-color: var(--fill-color);\n",
              "    }\n",
              "    90% {\n",
              "      border-color: transparent;\n",
              "      border-bottom-color: var(--fill-color);\n",
              "    }\n",
              "  }\n",
              "</style>\n",
              "\n",
              "  <script>\n",
              "    async function quickchart(key) {\n",
              "      const quickchartButtonEl =\n",
              "        document.querySelector('#' + key + ' button');\n",
              "      quickchartButtonEl.disabled = true;  // To prevent multiple clicks.\n",
              "      quickchartButtonEl.classList.add('colab-df-spinner');\n",
              "      try {\n",
              "        const charts = await google.colab.kernel.invokeFunction(\n",
              "            'suggestCharts', [key], {});\n",
              "      } catch (error) {\n",
              "        console.error('Error during call to suggestCharts:', error);\n",
              "      }\n",
              "      quickchartButtonEl.classList.remove('colab-df-spinner');\n",
              "      quickchartButtonEl.classList.add('colab-df-quickchart-complete');\n",
              "    }\n",
              "    (() => {\n",
              "      let quickchartButtonEl =\n",
              "        document.querySelector('#df-94a2d348-fa12-4103-89c8-33109b731ac4 button');\n",
              "      quickchartButtonEl.style.display =\n",
              "        google.colab.kernel.accessAllowed ? 'block' : 'none';\n",
              "    })();\n",
              "  </script>\n",
              "</div>\n",
              "    </div>\n",
              "  </div>\n"
            ],
            "application/vnd.google.colaboratory.intrinsic+json": {
              "type": "dataframe"
            }
          },
          "metadata": {},
          "execution_count": 186
        }
      ],
      "source": [
        "df = df.head(958)\n",
        "df.tail()"
      ]
    },
    {
      "cell_type": "markdown",
      "metadata": {
        "id": "fKEeZnG2ZDat"
      },
      "source": [
        "###❓**Нагенерировали кучу признаков. Как теперь их отобрать?**"
      ]
    },
    {
      "cell_type": "code",
      "execution_count": null,
      "metadata": {
        "id": "mEFTPd90ZC9r"
      },
      "outputs": [],
      "source": [
        "import sklearn\n",
        "from sklearn.feature_selection import SelectKBest, mutual_info_regression, mutual_info_classif\n",
        "from sklearn.preprocessing import StandardScaler"
      ]
    },
    {
      "cell_type": "code",
      "execution_count": null,
      "metadata": {
        "id": "7XljuwMebtkx"
      },
      "outputs": [],
      "source": [
        "import matplotlib.pyplot as plt"
      ]
    },
    {
      "cell_type": "code",
      "execution_count": null,
      "metadata": {
        "colab": {
          "base_uri": "https://localhost:8080/"
        },
        "id": "3HwR7bD2aKEn",
        "outputId": "3dcf2c5c-520c-423e-f93a-f5766db5a73f"
      },
      "outputs": [
        {
          "output_type": "execute_result",
          "data": {
            "text/plain": [
              "(1190, 530)"
            ]
          },
          "metadata": {},
          "execution_count": 12
        }
      ],
      "source": [
        "ndf = df.drop('SMILES', axis=1)\n",
        "ndf['logBB'] = sdf['logBB']\n",
        "ndf.shape\n",
        "#25%*528=132 50%=265 75=397\n",
        "#25%*902=226 50%=451 75=677\n",
        "#1414/2 707"
      ]
    },
    {
      "cell_type": "code",
      "execution_count": null,
      "metadata": {
        "id": "4TQ01ChNZ5Jn"
      },
      "outputs": [],
      "source": [
        "def select_features(X, y):\n",
        "    fs = SelectKBest(score_func=mutual_info_regression, k=265)\n",
        "    fs.fit(X, y)\n",
        "    X_fs = fs.transform(X)\n",
        "    return X_fs, fs"
      ]
    },
    {
      "cell_type": "markdown",
      "metadata": {
        "id": "uI65YVsHk6sm"
      },
      "source": [
        "![image.png](data:image/png;base64,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)"
      ]
    },
    {
      "cell_type": "markdown",
      "metadata": {
        "id": "6SFCAKaVk9dG"
      },
      "source": [
        "**❗*Критерий взаимной информации*: хорош тем, что улавливает любые виды зависимости (линейная, нелинейная и т.п.)**"
      ]
    },
    {
      "cell_type": "markdown",
      "metadata": {
        "id": "Mu4aaLd0llum"
      },
      "source": [
        "Есть еще [F-classif](https://scikit-learn.org/stable/modules/generated/sklearn.feature_selection.f_classif.html#sklearn.feature_selection.f_classif), [chi2](https://scikit-learn.org/stable/modules/generated/sklearn.feature_selection.chi2.html#sklearn.feature_selection.chi2) и другие"
      ]
    },
    {
      "cell_type": "markdown",
      "metadata": {
        "id": "Uit3nijf8jcT"
      },
      "source": [
        "**❗❗Для задачи регрессии существует своя адаптация этих критериев: [f_regression](https://scikit-learn.org/stable/modules/generated/sklearn.feature_selection.f_regression.html), [mutual_info_regression](https://scikit-learn.org/stable/modules/generated/sklearn.feature_selection.mutual_info_regression.html)**\n"
      ]
    },
    {
      "cell_type": "code",
      "execution_count": null,
      "metadata": {
        "id": "1oIy8REYbDVd"
      },
      "outputs": [],
      "source": [
        "X = ndf.iloc[:, :-1].values\n",
        "y = ndf.iloc[:, -1].values"
      ]
    },
    {
      "cell_type": "code",
      "execution_count": null,
      "metadata": {
        "id": "Ubj_NNRXbKbM"
      },
      "outputs": [],
      "source": [
        "X_fs, fs = select_features(X, y)"
      ]
    },
    {
      "cell_type": "code",
      "execution_count": null,
      "metadata": {
        "id": "ZXPHBfxcdyO-"
      },
      "outputs": [],
      "source": [
        "cols_idxs = fs.get_support(indices=True) # получаем индексы тех столбцов, которые мы отобрали\n",
        "ndf = ndf.iloc[:, cols_idxs]"
      ]
    },
    {
      "cell_type": "code",
      "execution_count": null,
      "metadata": {
        "colab": {
          "base_uri": "https://localhost:8080/",
          "height": 256
        },
        "id": "9wccM5r_d3cW",
        "outputId": "c2f51e04-2c80-4e39-cd6c-17e87826bb07"
      },
      "outputs": [
        {
          "output_type": "execute_result",
          "data": {
            "text/plain": [
              "   #HBA  #ROTB  #ALERTS  MlogP     #MR  #NHOH  #AromaticCarbocycles  \\\n",
              "0   6.0    4.0      0.0   3.08  113.51    1.0                   1.0   \n",
              "1   3.0    0.0      0.0   3.41   86.45    1.0                   2.0   \n",
              "2   1.0    0.0      0.0   3.39   73.53    2.0                   2.0   \n",
              "3   3.0    5.0      0.0   3.35  119.46    2.0                   2.0   \n",
              "4   2.0    0.0      0.0   3.08   83.27    0.0                   2.0   \n",
              "\n",
              "   #AromaticHeterocycles  #Heteroatoms  Morgan3  ...  A_500  A_501  A_502  \\\n",
              "0                    2.0           8.0     2.84  ...    1.0    1.0    0.0   \n",
              "1                    0.0           3.0     2.86  ...    1.0    0.0    0.0   \n",
              "2                    0.0           3.0     1.72  ...    0.0    0.0    0.0   \n",
              "3                    2.0           8.0     2.50  ...    1.0    1.0    0.0   \n",
              "4                    0.0           2.0     2.55  ...    0.0    0.0    0.0   \n",
              "\n",
              "   A_503  A_505  A_506  A_508  A_509  A_511  A_512  \n",
              "0    1.0    1.0    1.0    1.0    1.0    1.0    1.0  \n",
              "1    1.0    0.0    0.0    0.0    1.0    0.0    0.0  \n",
              "2    1.0    0.0    1.0    1.0    1.0    0.0    0.0  \n",
              "3    0.0    0.0    0.0    1.0    0.0    0.0    1.0  \n",
              "4    1.0    0.0    0.0    1.0    1.0    1.0    0.0  \n",
              "\n",
              "[5 rows x 397 columns]"
            ],
            "text/html": [
              "\n",
              "  <div id=\"df-1a793128-f9e5-4129-89d6-9e16d349e063\" class=\"colab-df-container\">\n",
              "    <div>\n",
              "<style scoped>\n",
              "    .dataframe tbody tr th:only-of-type {\n",
              "        vertical-align: middle;\n",
              "    }\n",
              "\n",
              "    .dataframe tbody tr th {\n",
              "        vertical-align: top;\n",
              "    }\n",
              "\n",
              "    .dataframe thead th {\n",
              "        text-align: right;\n",
              "    }\n",
              "</style>\n",
              "<table border=\"1\" class=\"dataframe\">\n",
              "  <thead>\n",
              "    <tr style=\"text-align: right;\">\n",
              "      <th></th>\n",
              "      <th>#HBA</th>\n",
              "      <th>#ROTB</th>\n",
              "      <th>#ALERTS</th>\n",
              "      <th>MlogP</th>\n",
              "      <th>#MR</th>\n",
              "      <th>#NHOH</th>\n",
              "      <th>#AromaticCarbocycles</th>\n",
              "      <th>#AromaticHeterocycles</th>\n",
              "      <th>#Heteroatoms</th>\n",
              "      <th>Morgan3</th>\n",
              "      <th>...</th>\n",
              "      <th>A_500</th>\n",
              "      <th>A_501</th>\n",
              "      <th>A_502</th>\n",
              "      <th>A_503</th>\n",
              "      <th>A_505</th>\n",
              "      <th>A_506</th>\n",
              "      <th>A_508</th>\n",
              "      <th>A_509</th>\n",
              "      <th>A_511</th>\n",
              "      <th>A_512</th>\n",
              "    </tr>\n",
              "  </thead>\n",
              "  <tbody>\n",
              "    <tr>\n",
              "      <th>0</th>\n",
              "      <td>6.0</td>\n",
              "      <td>4.0</td>\n",
              "      <td>0.0</td>\n",
              "      <td>3.08</td>\n",
              "      <td>113.51</td>\n",
              "      <td>1.0</td>\n",
              "      <td>1.0</td>\n",
              "      <td>2.0</td>\n",
              "      <td>8.0</td>\n",
              "      <td>2.84</td>\n",
              "      <td>...</td>\n",
              "      <td>1.0</td>\n",
              "      <td>1.0</td>\n",
              "      <td>0.0</td>\n",
              "      <td>1.0</td>\n",
              "      <td>1.0</td>\n",
              "      <td>1.0</td>\n",
              "      <td>1.0</td>\n",
              "      <td>1.0</td>\n",
              "      <td>1.0</td>\n",
              "      <td>1.0</td>\n",
              "    </tr>\n",
              "    <tr>\n",
              "      <th>1</th>\n",
              "      <td>3.0</td>\n",
              "      <td>0.0</td>\n",
              "      <td>0.0</td>\n",
              "      <td>3.41</td>\n",
              "      <td>86.45</td>\n",
              "      <td>1.0</td>\n",
              "      <td>2.0</td>\n",
              "      <td>0.0</td>\n",
              "      <td>3.0</td>\n",
              "      <td>2.86</td>\n",
              "      <td>...</td>\n",
              "      <td>1.0</td>\n",
              "      <td>0.0</td>\n",
              "      <td>0.0</td>\n",
              "      <td>1.0</td>\n",
              "      <td>0.0</td>\n",
              "      <td>0.0</td>\n",
              "      <td>0.0</td>\n",
              "      <td>1.0</td>\n",
              "      <td>0.0</td>\n",
              "      <td>0.0</td>\n",
              "    </tr>\n",
              "    <tr>\n",
              "      <th>2</th>\n",
              "      <td>1.0</td>\n",
              "      <td>0.0</td>\n",
              "      <td>0.0</td>\n",
              "      <td>3.39</td>\n",
              "      <td>73.53</td>\n",
              "      <td>2.0</td>\n",
              "      <td>2.0</td>\n",
              "      <td>0.0</td>\n",
              "      <td>3.0</td>\n",
              "      <td>1.72</td>\n",
              "      <td>...</td>\n",
              "      <td>0.0</td>\n",
              "      <td>0.0</td>\n",
              "      <td>0.0</td>\n",
              "      <td>1.0</td>\n",
              "      <td>0.0</td>\n",
              "      <td>1.0</td>\n",
              "      <td>1.0</td>\n",
              "      <td>1.0</td>\n",
              "      <td>0.0</td>\n",
              "      <td>0.0</td>\n",
              "    </tr>\n",
              "    <tr>\n",
              "      <th>3</th>\n",
              "      <td>3.0</td>\n",
              "      <td>5.0</td>\n",
              "      <td>0.0</td>\n",
              "      <td>3.35</td>\n",
              "      <td>119.46</td>\n",
              "      <td>2.0</td>\n",
              "      <td>2.0</td>\n",
              "      <td>2.0</td>\n",
              "      <td>8.0</td>\n",
              "      <td>2.50</td>\n",
              "      <td>...</td>\n",
              "      <td>1.0</td>\n",
              "      <td>1.0</td>\n",
              "      <td>0.0</td>\n",
              "      <td>0.0</td>\n",
              "      <td>0.0</td>\n",
              "      <td>0.0</td>\n",
              "      <td>1.0</td>\n",
              "      <td>0.0</td>\n",
              "      <td>0.0</td>\n",
              "      <td>1.0</td>\n",
              "    </tr>\n",
              "    <tr>\n",
              "      <th>4</th>\n",
              "      <td>2.0</td>\n",
              "      <td>0.0</td>\n",
              "      <td>0.0</td>\n",
              "      <td>3.08</td>\n",
              "      <td>83.27</td>\n",
              "      <td>0.0</td>\n",
              "      <td>2.0</td>\n",
              "      <td>0.0</td>\n",
              "      <td>2.0</td>\n",
              "      <td>2.55</td>\n",
              "      <td>...</td>\n",
              "      <td>0.0</td>\n",
              "      <td>0.0</td>\n",
              "      <td>0.0</td>\n",
              "      <td>1.0</td>\n",
              "      <td>0.0</td>\n",
              "      <td>0.0</td>\n",
              "      <td>1.0</td>\n",
              "      <td>1.0</td>\n",
              "      <td>1.0</td>\n",
              "      <td>0.0</td>\n",
              "    </tr>\n",
              "  </tbody>\n",
              "</table>\n",
              "<p>5 rows × 397 columns</p>\n",
              "</div>\n",
              "    <div class=\"colab-df-buttons\">\n",
              "\n",
              "  <div class=\"colab-df-container\">\n",
              "    <button class=\"colab-df-convert\" onclick=\"convertToInteractive('df-1a793128-f9e5-4129-89d6-9e16d349e063')\"\n",
              "            title=\"Convert this dataframe to an interactive table.\"\n",
              "            style=\"display:none;\">\n",
              "\n",
              "  <svg xmlns=\"http://www.w3.org/2000/svg\" height=\"24px\" viewBox=\"0 -960 960 960\">\n",
              "    <path d=\"M120-120v-720h720v720H120Zm60-500h600v-160H180v160Zm220 220h160v-160H400v160Zm0 220h160v-160H400v160ZM180-400h160v-160H180v160Zm440 0h160v-160H620v160ZM180-180h160v-160H180v160Zm440 0h160v-160H620v160Z\"/>\n",
              "  </svg>\n",
              "    </button>\n",
              "\n",
              "  <style>\n",
              "    .colab-df-container {\n",
              "      display:flex;\n",
              "      gap: 12px;\n",
              "    }\n",
              "\n",
              "    .colab-df-convert {\n",
              "      background-color: #E8F0FE;\n",
              "      border: none;\n",
              "      border-radius: 50%;\n",
              "      cursor: pointer;\n",
              "      display: none;\n",
              "      fill: #1967D2;\n",
              "      height: 32px;\n",
              "      padding: 0 0 0 0;\n",
              "      width: 32px;\n",
              "    }\n",
              "\n",
              "    .colab-df-convert:hover {\n",
              "      background-color: #E2EBFA;\n",
              "      box-shadow: 0px 1px 2px rgba(60, 64, 67, 0.3), 0px 1px 3px 1px rgba(60, 64, 67, 0.15);\n",
              "      fill: #174EA6;\n",
              "    }\n",
              "\n",
              "    .colab-df-buttons div {\n",
              "      margin-bottom: 4px;\n",
              "    }\n",
              "\n",
              "    [theme=dark] .colab-df-convert {\n",
              "      background-color: #3B4455;\n",
              "      fill: #D2E3FC;\n",
              "    }\n",
              "\n",
              "    [theme=dark] .colab-df-convert:hover {\n",
              "      background-color: #434B5C;\n",
              "      box-shadow: 0px 1px 3px 1px rgba(0, 0, 0, 0.15);\n",
              "      filter: drop-shadow(0px 1px 2px rgba(0, 0, 0, 0.3));\n",
              "      fill: #FFFFFF;\n",
              "    }\n",
              "  </style>\n",
              "\n",
              "    <script>\n",
              "      const buttonEl =\n",
              "        document.querySelector('#df-1a793128-f9e5-4129-89d6-9e16d349e063 button.colab-df-convert');\n",
              "      buttonEl.style.display =\n",
              "        google.colab.kernel.accessAllowed ? 'block' : 'none';\n",
              "\n",
              "      async function convertToInteractive(key) {\n",
              "        const element = document.querySelector('#df-1a793128-f9e5-4129-89d6-9e16d349e063');\n",
              "        const dataTable =\n",
              "          await google.colab.kernel.invokeFunction('convertToInteractive',\n",
              "                                                    [key], {});\n",
              "        if (!dataTable) return;\n",
              "\n",
              "        const docLinkHtml = 'Like what you see? Visit the ' +\n",
              "          '<a target=\"_blank\" href=https://colab.research.google.com/notebooks/data_table.ipynb>data table notebook</a>'\n",
              "          + ' to learn more about interactive tables.';\n",
              "        element.innerHTML = '';\n",
              "        dataTable['output_type'] = 'display_data';\n",
              "        await google.colab.output.renderOutput(dataTable, element);\n",
              "        const docLink = document.createElement('div');\n",
              "        docLink.innerHTML = docLinkHtml;\n",
              "        element.appendChild(docLink);\n",
              "      }\n",
              "    </script>\n",
              "  </div>\n",
              "\n",
              "\n",
              "<div id=\"df-f37eb564-e6c3-487d-b8ad-ea1db4629c72\">\n",
              "  <button class=\"colab-df-quickchart\" onclick=\"quickchart('df-f37eb564-e6c3-487d-b8ad-ea1db4629c72')\"\n",
              "            title=\"Suggest charts\"\n",
              "            style=\"display:none;\">\n",
              "\n",
              "<svg xmlns=\"http://www.w3.org/2000/svg\" height=\"24px\"viewBox=\"0 0 24 24\"\n",
              "     width=\"24px\">\n",
              "    <g>\n",
              "        <path d=\"M19 3H5c-1.1 0-2 .9-2 2v14c0 1.1.9 2 2 2h14c1.1 0 2-.9 2-2V5c0-1.1-.9-2-2-2zM9 17H7v-7h2v7zm4 0h-2V7h2v10zm4 0h-2v-4h2v4z\"/>\n",
              "    </g>\n",
              "</svg>\n",
              "  </button>\n",
              "\n",
              "<style>\n",
              "  .colab-df-quickchart {\n",
              "      --bg-color: #E8F0FE;\n",
              "      --fill-color: #1967D2;\n",
              "      --hover-bg-color: #E2EBFA;\n",
              "      --hover-fill-color: #174EA6;\n",
              "      --disabled-fill-color: #AAA;\n",
              "      --disabled-bg-color: #DDD;\n",
              "  }\n",
              "\n",
              "  [theme=dark] .colab-df-quickchart {\n",
              "      --bg-color: #3B4455;\n",
              "      --fill-color: #D2E3FC;\n",
              "      --hover-bg-color: #434B5C;\n",
              "      --hover-fill-color: #FFFFFF;\n",
              "      --disabled-bg-color: #3B4455;\n",
              "      --disabled-fill-color: #666;\n",
              "  }\n",
              "\n",
              "  .colab-df-quickchart {\n",
              "    background-color: var(--bg-color);\n",
              "    border: none;\n",
              "    border-radius: 50%;\n",
              "    cursor: pointer;\n",
              "    display: none;\n",
              "    fill: var(--fill-color);\n",
              "    height: 32px;\n",
              "    padding: 0;\n",
              "    width: 32px;\n",
              "  }\n",
              "\n",
              "  .colab-df-quickchart:hover {\n",
              "    background-color: var(--hover-bg-color);\n",
              "    box-shadow: 0 1px 2px rgba(60, 64, 67, 0.3), 0 1px 3px 1px rgba(60, 64, 67, 0.15);\n",
              "    fill: var(--button-hover-fill-color);\n",
              "  }\n",
              "\n",
              "  .colab-df-quickchart-complete:disabled,\n",
              "  .colab-df-quickchart-complete:disabled:hover {\n",
              "    background-color: var(--disabled-bg-color);\n",
              "    fill: var(--disabled-fill-color);\n",
              "    box-shadow: none;\n",
              "  }\n",
              "\n",
              "  .colab-df-spinner {\n",
              "    border: 2px solid var(--fill-color);\n",
              "    border-color: transparent;\n",
              "    border-bottom-color: var(--fill-color);\n",
              "    animation:\n",
              "      spin 1s steps(1) infinite;\n",
              "  }\n",
              "\n",
              "  @keyframes spin {\n",
              "    0% {\n",
              "      border-color: transparent;\n",
              "      border-bottom-color: var(--fill-color);\n",
              "      border-left-color: var(--fill-color);\n",
              "    }\n",
              "    20% {\n",
              "      border-color: transparent;\n",
              "      border-left-color: var(--fill-color);\n",
              "      border-top-color: var(--fill-color);\n",
              "    }\n",
              "    30% {\n",
              "      border-color: transparent;\n",
              "      border-left-color: var(--fill-color);\n",
              "      border-top-color: var(--fill-color);\n",
              "      border-right-color: var(--fill-color);\n",
              "    }\n",
              "    40% {\n",
              "      border-color: transparent;\n",
              "      border-right-color: var(--fill-color);\n",
              "      border-top-color: var(--fill-color);\n",
              "    }\n",
              "    60% {\n",
              "      border-color: transparent;\n",
              "      border-right-color: var(--fill-color);\n",
              "    }\n",
              "    80% {\n",
              "      border-color: transparent;\n",
              "      border-right-color: var(--fill-color);\n",
              "      border-bottom-color: var(--fill-color);\n",
              "    }\n",
              "    90% {\n",
              "      border-color: transparent;\n",
              "      border-bottom-color: var(--fill-color);\n",
              "    }\n",
              "  }\n",
              "</style>\n",
              "\n",
              "  <script>\n",
              "    async function quickchart(key) {\n",
              "      const quickchartButtonEl =\n",
              "        document.querySelector('#' + key + ' button');\n",
              "      quickchartButtonEl.disabled = true;  // To prevent multiple clicks.\n",
              "      quickchartButtonEl.classList.add('colab-df-spinner');\n",
              "      try {\n",
              "        const charts = await google.colab.kernel.invokeFunction(\n",
              "            'suggestCharts', [key], {});\n",
              "      } catch (error) {\n",
              "        console.error('Error during call to suggestCharts:', error);\n",
              "      }\n",
              "      quickchartButtonEl.classList.remove('colab-df-spinner');\n",
              "      quickchartButtonEl.classList.add('colab-df-quickchart-complete');\n",
              "    }\n",
              "    (() => {\n",
              "      let quickchartButtonEl =\n",
              "        document.querySelector('#df-f37eb564-e6c3-487d-b8ad-ea1db4629c72 button');\n",
              "      quickchartButtonEl.style.display =\n",
              "        google.colab.kernel.accessAllowed ? 'block' : 'none';\n",
              "    })();\n",
              "  </script>\n",
              "</div>\n",
              "    </div>\n",
              "  </div>\n"
            ],
            "application/vnd.google.colaboratory.intrinsic+json": {
              "type": "dataframe",
              "variable_name": "ndf"
            }
          },
          "metadata": {},
          "execution_count": 17
        }
      ],
      "source": [
        "ndf.head()"
      ]
    },
    {
      "cell_type": "code",
      "execution_count": null,
      "metadata": {
        "colab": {
          "base_uri": "https://localhost:8080/"
        },
        "id": "STAzUTGgc41B",
        "outputId": "27540793-7ded-40a9-a7fb-9f0379fc8576"
      },
      "outputs": [
        {
          "output_type": "stream",
          "name": "stdout",
          "text": [
            "<class 'pandas.core.frame.DataFrame'>\n",
            "RangeIndex: 1190 entries, 0 to 1189\n",
            "Columns: 132 entries, #HBA to A_512\n",
            "dtypes: float64(132)\n",
            "memory usage: 1.2 MB\n"
          ]
        }
      ],
      "source": [
        "ndf.info()"
      ]
    },
    {
      "cell_type": "markdown",
      "metadata": {
        "id": "xYZE06EkN4Y5"
      },
      "source": [
        "# Linreg"
      ]
    },
    {
      "cell_type": "code",
      "execution_count": null,
      "metadata": {
        "id": "JWi-Zj1Qo7Qt"
      },
      "outputs": [],
      "source": [
        "from sklearn.linear_model import LinearRegression\n",
        "\n",
        "from sklearn.model_selection import train_test_split, KFold, cross_validate, GridSearchCV\n",
        "from sklearn.metrics import make_scorer, r2_score, mean_absolute_error, mean_squared_error\n",
        "from sklearn.preprocessing import StandardScaler"
      ]
    },
    {
      "cell_type": "code",
      "execution_count": null,
      "metadata": {
        "id": "v4eYs9ZkoyTf"
      },
      "outputs": [],
      "source": [
        "ndf['logBB'] = sdf['logBB']\n",
        "split = KFold(n_splits=5, random_state=41, shuffle=True)\n",
        "scores= {\n",
        "         \"Q2\": \"r2\", # коэффициент корреляции\n",
        "         \"MSE\": make_scorer(mean_squared_error, squared=False) # иногда используют корень из MSE, т.к. его легче дифференцировать\n",
        "         }\n",
        "X = ndf.iloc[:, :-1].values # обучающие признаки\n",
        "y = ndf.iloc[:, -1].values # целевая переменная"
      ]
    },
    {
      "cell_type": "code",
      "execution_count": null,
      "metadata": {
        "id": "iskNjURXoP7h"
      },
      "outputs": [],
      "source": [
        "from sklearn.linear_model import Lasso\n",
        "lasso_model = Lasso()\n",
        "scorer = make_scorer(mean_squared_error, greater_is_better=False, squared=False) # определим RMSE как метрику оценки\n"
      ]
    },
    {
      "cell_type": "code",
      "execution_count": null,
      "metadata": {
        "id": "R9NZSaRxoZOg"
      },
      "outputs": [],
      "source": [
        "lasso_parameters = {\n",
        "    'alpha': [0.05,0.1,0.00001],\n",
        "     'fit_intercept': [True, False],\n",
        "    'tol':[0.00001,0.001,0.0001],\n",
        "}\n",
        "#были убраны тип селекции и соответствующий рандом стейт, так как грид серч почему-то предпочитал выбирать рандом с очень большой толерантностью и значением альфа, что приводило к низким итоговым результатам."
      ]
    },
    {
      "cell_type": "code",
      "execution_count": null,
      "metadata": {
        "colab": {
          "base_uri": "https://localhost:8080/"
        },
        "id": "4gRpMbydocPM",
        "outputId": "5ce79e06-2698-4b5d-d63a-1328430f7c88"
      },
      "outputs": [
        {
          "data": {
            "text/plain": [
              "{'alpha': 0.1, 'fit_intercept': False, 'tol': 1e-05}"
            ]
          },
          "execution_count": 173,
          "metadata": {},
          "output_type": "execute_result"
        }
      ],
      "source": [
        "grid_search = GridSearchCV(estimator=lasso_model, param_grid=lasso_parameters, scoring=scorer, cv=5)\n",
        "grid_search.fit(X, y) # выполним поиск по сетке\n",
        "grid_search.best_params_"
      ]
    },
    {
      "cell_type": "code",
      "execution_count": null,
      "metadata": {
        "colab": {
          "base_uri": "https://localhost:8080/"
        },
        "id": "kzOpqKxUof8H",
        "outputId": "baa00a2a-7e89-4325-a3a2-7715c320c1e9"
      },
      "outputs": [
        {
          "name": "stdout",
          "output_type": "stream",
          "text": [
            "On cross-validation:\n",
            "Mean RMSE score is 0.632 ± 0.015\n",
            "Mean Q2 score is 0.029 ± 0.029\n"
          ]
        }
      ],
      "source": [
        "lasso_model = Lasso(alpha=0.1, fit_intercept=False, tol=0.00001)\n",
        "cv_scores = cross_validate(lasso_model, X, y, scoring=scores, cv=split)\n",
        "print(f\"On cross-validation:\")\n",
        "print(f\"Mean RMSE score is {cv_scores['test_MSE'].mean().round(3)} ± {cv_scores['test_MSE'].std().round(3)}\")\n",
        "print(f\"Mean Q2 score is {cv_scores['test_Q2'].mean().round(3)} ± {cv_scores['test_Q2'].std().round(3)}\")"
      ]
    },
    {
      "cell_type": "code",
      "execution_count": null,
      "metadata": {
        "colab": {
          "base_uri": "https://localhost:8080/"
        },
        "id": "BpvIQYlXokBU",
        "outputId": "2d20ac83-5495-471a-afca-b56819872315"
      },
      "outputs": [
        {
          "name": "stdout",
          "output_type": "stream",
          "text": [
            "R2: 0.047\n"
          ]
        }
      ],
      "source": [
        "lasso_model.fit(X, y) # обучаем модель на всем датасете\n",
        "y_pred = lasso_model.predict(X) # делаем предсказание\n",
        "print(f\"R2: {r2_score(y, y_pred).round(3)}\") # вычисляем корреляцию"
      ]
    },
    {
      "cell_type": "code",
      "execution_count": null,
      "metadata": {
        "id": "MfnAuG3CuFJk"
      },
      "outputs": [],
      "source": [
        "#avalon25 {'alpha': 0.021,'fit_intercept': True,'tol': 0.08} RMSE 0.524 Q2 0.343 R2 0.395\n",
        "#avalon50 {'alpha': 0.0012,'fit_intercept': False,'tol': 0.08} RMSE 0.516 Q2 0.363 R2 0.419\n",
        "#avalon75 {'alpha': 0.0013,'fit_intercept': True,'tol': 0.01} RMSE 0.481 Q2 0.443 R2 0.715\n",
        "#pubchem25 {'alpha': 0.0001,'fit_intercept': False,'tol': 0.009} RMSE 0.63 Q2 0.033 R2 0.052\n",
        "#pubchem50 {'alpha': 0.05,'fit_intercept': False,'tol': 0.0001} RMSE 0.631 Q2 0.032 R2 0.053\n",
        "#pubchem75 {'alpha': 0.05,'fit_intercept': False,'tol': 0.009} RMSE 0.627 Q2 0.043 R2 0.062\n",
        "# avalon+pubchem {'alpha': 0.1,'fit_intercept': False,'tol': 0.00001} RMSE 0.632 Q2 0.029 R2 0.047"
      ]
    },
    {
      "cell_type": "markdown",
      "metadata": {
        "id": "WpAak4MtOB07"
      },
      "source": [
        "\n",
        "\n",
        "# Knn"
      ]
    },
    {
      "cell_type": "code",
      "execution_count": null,
      "metadata": {
        "id": "JwU_06raALH3"
      },
      "outputs": [],
      "source": [
        "import sklearn\n",
        "from sklearn.neighbors import KNeighborsRegressor\n",
        "from sklearn.preprocessing import StandardScaler, MinMaxScaler\n",
        "from sklearn.model_selection import train_test_split, KFold, cross_validate, GridSearchCV\n",
        "from sklearn.metrics import make_scorer, r2_score, mean_squared_error"
      ]
    },
    {
      "cell_type": "code",
      "execution_count": null,
      "metadata": {
        "id": "dXEFrG82AunB"
      },
      "outputs": [],
      "source": [
        "split = KFold(n_splits=5, random_state=41, shuffle=True)\n",
        "scores= {\n",
        "         \"Q2\": \"r2\",\n",
        "         \"MSE\": make_scorer(mean_squared_error, squared=False)\n",
        "         }"
      ]
    },
    {
      "cell_type": "code",
      "execution_count": null,
      "metadata": {
        "id": "kKcnD2Ymu5Jw"
      },
      "outputs": [],
      "source": [
        "ndf['logBB'] = sdf['logBB']\n",
        "X = ndf.iloc[:, :-1].values\n",
        "y = ndf.iloc[:, -1].values"
      ]
    },
    {
      "cell_type": "code",
      "execution_count": null,
      "metadata": {
        "id": "04S3P1NyA2KA"
      },
      "outputs": [],
      "source": [
        "X_train, X_test, y_train, y_test = X, X, y, y"
      ]
    },
    {
      "cell_type": "code",
      "execution_count": null,
      "metadata": {
        "id": "5uOWHpm3A423"
      },
      "outputs": [],
      "source": [
        "scaler = StandardScaler().fit(X_train)\n",
        "X_train = scaler.transform(X_train)\n",
        "X_test = scaler.transform(X_test)"
      ]
    },
    {
      "cell_type": "code",
      "execution_count": null,
      "metadata": {
        "id": "4Ucye_vqA_SP"
      },
      "outputs": [],
      "source": [
        "model = KNeighborsRegressor()"
      ]
    },
    {
      "cell_type": "code",
      "execution_count": null,
      "metadata": {
        "id": "1LE8xkQpBFKK"
      },
      "outputs": [],
      "source": [
        "parameters = {\n",
        "    'n_neighbors': [3, 10, 7],\n",
        "}"
      ]
    },
    {
      "cell_type": "code",
      "execution_count": null,
      "metadata": {
        "id": "sJIdlSs7BH6_"
      },
      "outputs": [],
      "source": [
        "rmse_mod = sklearn.metrics.make_scorer(mean_squared_error, greater_is_better=False, squared=False)"
      ]
    },
    {
      "cell_type": "code",
      "execution_count": null,
      "metadata": {
        "id": "513Nl6eNBNO3"
      },
      "outputs": [],
      "source": [
        "grid_search = GridSearchCV(\n",
        "    estimator=model,\n",
        "    param_grid=parameters,\n",
        "    # scoring='neg_mean_squared_error',\n",
        "    scoring=rmse_mod,\n",
        "    verbose=3)"
      ]
    },
    {
      "cell_type": "code",
      "execution_count": null,
      "metadata": {
        "colab": {
          "base_uri": "https://localhost:8080/",
          "height": 395
        },
        "id": "p29X_pJgBRnA",
        "outputId": "2c14b0c1-cf21-4ac0-d5ea-bf41ae99edef"
      },
      "outputs": [
        {
          "name": "stdout",
          "output_type": "stream",
          "text": [
            "Fitting 5 folds for each of 3 candidates, totalling 15 fits\n",
            "[CV 1/5] END ....................n_neighbors=3;, score=-0.452 total time=   0.0s\n",
            "[CV 2/5] END ....................n_neighbors=3;, score=-0.555 total time=   0.0s\n",
            "[CV 3/5] END ....................n_neighbors=3;, score=-0.598 total time=   0.0s\n",
            "[CV 4/5] END ....................n_neighbors=3;, score=-0.537 total time=   0.0s\n",
            "[CV 5/5] END ....................n_neighbors=3;, score=-0.632 total time=   0.0s\n",
            "[CV 1/5] END ...................n_neighbors=10;, score=-0.446 total time=   0.0s\n",
            "[CV 2/5] END ...................n_neighbors=10;, score=-0.550 total time=   0.0s\n",
            "[CV 3/5] END ...................n_neighbors=10;, score=-0.626 total time=   0.0s\n",
            "[CV 4/5] END ...................n_neighbors=10;, score=-0.574 total time=   0.0s\n",
            "[CV 5/5] END ...................n_neighbors=10;, score=-0.585 total time=   0.0s\n",
            "[CV 1/5] END ....................n_neighbors=7;, score=-0.441 total time=   0.0s\n",
            "[CV 2/5] END ....................n_neighbors=7;, score=-0.557 total time=   0.0s\n",
            "[CV 3/5] END ....................n_neighbors=7;, score=-0.617 total time=   0.0s\n",
            "[CV 4/5] END ....................n_neighbors=7;, score=-0.557 total time=   0.0s\n",
            "[CV 5/5] END ....................n_neighbors=7;, score=-0.588 total time=   0.0s\n"
          ]
        },
        {
          "data": {
            "text/html": [
              "<style>#sk-container-id-3 {color: black;background-color: white;}#sk-container-id-3 pre{padding: 0;}#sk-container-id-3 div.sk-toggleable {background-color: white;}#sk-container-id-3 label.sk-toggleable__label {cursor: pointer;display: block;width: 100%;margin-bottom: 0;padding: 0.3em;box-sizing: border-box;text-align: center;}#sk-container-id-3 label.sk-toggleable__label-arrow:before {content: \"▸\";float: left;margin-right: 0.25em;color: #696969;}#sk-container-id-3 label.sk-toggleable__label-arrow:hover:before {color: black;}#sk-container-id-3 div.sk-estimator:hover label.sk-toggleable__label-arrow:before {color: black;}#sk-container-id-3 div.sk-toggleable__content {max-height: 0;max-width: 0;overflow: hidden;text-align: left;background-color: #f0f8ff;}#sk-container-id-3 div.sk-toggleable__content pre {margin: 0.2em;color: black;border-radius: 0.25em;background-color: #f0f8ff;}#sk-container-id-3 input.sk-toggleable__control:checked~div.sk-toggleable__content {max-height: 200px;max-width: 100%;overflow: auto;}#sk-container-id-3 input.sk-toggleable__control:checked~label.sk-toggleable__label-arrow:before {content: \"▾\";}#sk-container-id-3 div.sk-estimator input.sk-toggleable__control:checked~label.sk-toggleable__label {background-color: #d4ebff;}#sk-container-id-3 div.sk-label input.sk-toggleable__control:checked~label.sk-toggleable__label {background-color: #d4ebff;}#sk-container-id-3 input.sk-hidden--visually {border: 0;clip: rect(1px 1px 1px 1px);clip: rect(1px, 1px, 1px, 1px);height: 1px;margin: -1px;overflow: hidden;padding: 0;position: absolute;width: 1px;}#sk-container-id-3 div.sk-estimator {font-family: monospace;background-color: #f0f8ff;border: 1px dotted black;border-radius: 0.25em;box-sizing: border-box;margin-bottom: 0.5em;}#sk-container-id-3 div.sk-estimator:hover {background-color: #d4ebff;}#sk-container-id-3 div.sk-parallel-item::after {content: \"\";width: 100%;border-bottom: 1px solid gray;flex-grow: 1;}#sk-container-id-3 div.sk-label:hover label.sk-toggleable__label {background-color: #d4ebff;}#sk-container-id-3 div.sk-serial::before {content: \"\";position: absolute;border-left: 1px solid gray;box-sizing: border-box;top: 0;bottom: 0;left: 50%;z-index: 0;}#sk-container-id-3 div.sk-serial {display: flex;flex-direction: column;align-items: center;background-color: white;padding-right: 0.2em;padding-left: 0.2em;position: relative;}#sk-container-id-3 div.sk-item {position: relative;z-index: 1;}#sk-container-id-3 div.sk-parallel {display: flex;align-items: stretch;justify-content: center;background-color: white;position: relative;}#sk-container-id-3 div.sk-item::before, #sk-container-id-3 div.sk-parallel-item::before {content: \"\";position: absolute;border-left: 1px solid gray;box-sizing: border-box;top: 0;bottom: 0;left: 50%;z-index: -1;}#sk-container-id-3 div.sk-parallel-item {display: flex;flex-direction: column;z-index: 1;position: relative;background-color: white;}#sk-container-id-3 div.sk-parallel-item:first-child::after {align-self: flex-end;width: 50%;}#sk-container-id-3 div.sk-parallel-item:last-child::after {align-self: flex-start;width: 50%;}#sk-container-id-3 div.sk-parallel-item:only-child::after {width: 0;}#sk-container-id-3 div.sk-dashed-wrapped {border: 1px dashed gray;margin: 0 0.4em 0.5em 0.4em;box-sizing: border-box;padding-bottom: 0.4em;background-color: white;}#sk-container-id-3 div.sk-label label {font-family: monospace;font-weight: bold;display: inline-block;line-height: 1.2em;}#sk-container-id-3 div.sk-label-container {text-align: center;}#sk-container-id-3 div.sk-container {/* jupyter's `normalize.less` sets `[hidden] { display: none; }` but bootstrap.min.css set `[hidden] { display: none !important; }` so we also need the `!important` here to be able to override the default hidden behavior on the sphinx rendered scikit-learn.org. See: https://github.com/scikit-learn/scikit-learn/issues/21755 */display: inline-block !important;position: relative;}#sk-container-id-3 div.sk-text-repr-fallback {display: none;}</style><div id=\"sk-container-id-3\" class=\"sk-top-container\"><div class=\"sk-text-repr-fallback\"><pre>GridSearchCV(estimator=KNeighborsRegressor(),\n",
              "             param_grid={&#x27;n_neighbors&#x27;: [3, 10, 7]},\n",
              "             scoring=make_scorer(mean_squared_error, greater_is_better=False, squared=False),\n",
              "             verbose=3)</pre><b>In a Jupyter environment, please rerun this cell to show the HTML representation or trust the notebook. <br />On GitHub, the HTML representation is unable to render, please try loading this page with nbviewer.org.</b></div><div class=\"sk-container\" hidden><div class=\"sk-item sk-dashed-wrapped\"><div class=\"sk-label-container\"><div class=\"sk-label sk-toggleable\"><input class=\"sk-toggleable__control sk-hidden--visually\" id=\"sk-estimator-id-7\" type=\"checkbox\" ><label for=\"sk-estimator-id-7\" class=\"sk-toggleable__label sk-toggleable__label-arrow\">GridSearchCV</label><div class=\"sk-toggleable__content\"><pre>GridSearchCV(estimator=KNeighborsRegressor(),\n",
              "             param_grid={&#x27;n_neighbors&#x27;: [3, 10, 7]},\n",
              "             scoring=make_scorer(mean_squared_error, greater_is_better=False, squared=False),\n",
              "             verbose=3)</pre></div></div></div><div class=\"sk-parallel\"><div class=\"sk-parallel-item\"><div class=\"sk-item\"><div class=\"sk-label-container\"><div class=\"sk-label sk-toggleable\"><input class=\"sk-toggleable__control sk-hidden--visually\" id=\"sk-estimator-id-8\" type=\"checkbox\" ><label for=\"sk-estimator-id-8\" class=\"sk-toggleable__label sk-toggleable__label-arrow\">estimator: KNeighborsRegressor</label><div class=\"sk-toggleable__content\"><pre>KNeighborsRegressor()</pre></div></div></div><div class=\"sk-serial\"><div class=\"sk-item\"><div class=\"sk-estimator sk-toggleable\"><input class=\"sk-toggleable__control sk-hidden--visually\" id=\"sk-estimator-id-9\" type=\"checkbox\" ><label for=\"sk-estimator-id-9\" class=\"sk-toggleable__label sk-toggleable__label-arrow\">KNeighborsRegressor</label><div class=\"sk-toggleable__content\"><pre>KNeighborsRegressor()</pre></div></div></div></div></div></div></div></div></div></div>"
            ],
            "text/plain": [
              "GridSearchCV(estimator=KNeighborsRegressor(),\n",
              "             param_grid={'n_neighbors': [3, 10, 7]},\n",
              "             scoring=make_scorer(mean_squared_error, greater_is_better=False, squared=False),\n",
              "             verbose=3)"
            ]
          },
          "execution_count": 82,
          "metadata": {},
          "output_type": "execute_result"
        }
      ],
      "source": [
        "grid_search.fit(X, y)"
      ]
    },
    {
      "cell_type": "code",
      "execution_count": null,
      "metadata": {
        "colab": {
          "base_uri": "https://localhost:8080/"
        },
        "id": "OorHaWCKBfta",
        "outputId": "a69c0399-096d-4dba-ba4a-9d48278e08b2"
      },
      "outputs": [
        {
          "data": {
            "text/plain": [
              "{'n_neighbors': 7}"
            ]
          },
          "execution_count": 83,
          "metadata": {},
          "output_type": "execute_result"
        }
      ],
      "source": [
        "grid_search.best_params_"
      ]
    },
    {
      "cell_type": "code",
      "execution_count": null,
      "metadata": {
        "id": "IBg_tb3VBfy2"
      },
      "outputs": [],
      "source": [
        "model = KNeighborsRegressor(n_neighbors=3)"
      ]
    },
    {
      "cell_type": "code",
      "execution_count": null,
      "metadata": {
        "colab": {
          "base_uri": "https://localhost:8080/"
        },
        "id": "wRReE97WB474",
        "outputId": "7eb0e77a-ef4b-48a5-c10e-b4f6948f7fb9"
      },
      "outputs": [
        {
          "name": "stdout",
          "output_type": "stream",
          "text": [
            "On cross-validation:\n",
            "Mean RMSE score is 0.498 ± 0.035\n",
            "Mean Q2 score is 0.404 ± 0.079\n"
          ]
        }
      ],
      "source": [
        "cv_scores = cross_validate(model, X_train, y_train, scoring=scores, cv=split)\n",
        "print(f\"On cross-validation:\")\n",
        "print(f\"Mean RMSE score is {cv_scores['test_MSE'].mean().round(3)} ± {cv_scores['test_MSE'].std().round(3)}\")\n",
        "print(f\"Mean Q2 score is {cv_scores['test_Q2'].mean().round(3)} ± {cv_scores['test_Q2'].std().round(3)}\")"
      ]
    },
    {
      "cell_type": "code",
      "execution_count": null,
      "metadata": {
        "colab": {
          "base_uri": "https://localhost:8080/"
        },
        "id": "cDpvFcNgB7_3",
        "outputId": "5941a04e-6e4b-4dc4-9ac4-f522abb1611b"
      },
      "outputs": [
        {
          "name": "stdout",
          "output_type": "stream",
          "text": [
            "R2: 0.771\n"
          ]
        }
      ],
      "source": [
        "model.fit(X_train, y_train)\n",
        "y_pred = model.predict(X_test)\n",
        "\n",
        "print(f\"R2: {r2_score(y_test, y_pred).round(3)}\")"
      ]
    },
    {
      "cell_type": "markdown",
      "metadata": {
        "id": "YqYRCGJGvGKd"
      },
      "source": [
        "avalon25 3n RMSE 0.214 Q2 0.782 R2 0.91 New:0,494 0,415 0,766\n",
        "\n",
        "avalon50 3n RMSE 0.222 Q2 0.767 R2 0.904 New: 0,485 0,437 0,779\n",
        "\n",
        "avalon75 3n RMSE 0.225 Q2 0.759 R2 0.904 New:0,498 0,404 0,771\n",
        "\n",
        "pubchem25 10n RMSE 0.647 Q2 -0.02 R2 0.185\n",
        "\n",
        "pubchem50 10n RMSE 0.653 Q2 -0.038 R2 0.176\n",
        "\n",
        "pubchem75 10n RMSE 0.65 Q2 -0.03 R2 0.175\n",
        "\n",
        "avalon+pubchem 10n RMSE 0.648 Q2 -0.025 R2 0.187"
      ]
    },
    {
      "cell_type": "markdown",
      "metadata": {
        "id": "5Tu8_jCuOH0L"
      },
      "source": [
        "# Tree"
      ]
    },
    {
      "cell_type": "code",
      "execution_count": null,
      "metadata": {
        "id": "_8jZwmFXqD9r"
      },
      "outputs": [],
      "source": [
        "import sklearn\n",
        "from sklearn.tree import DecisionTreeRegressor\n",
        "from sklearn.preprocessing import StandardScaler, MinMaxScaler\n",
        "from sklearn.model_selection import train_test_split, KFold, cross_validate, GridSearchCV\n",
        "from sklearn.metrics import make_scorer, r2_score, mean_squared_error"
      ]
    },
    {
      "cell_type": "code",
      "execution_count": null,
      "metadata": {
        "id": "z2HE-Fn9JGos"
      },
      "outputs": [],
      "source": [
        "split = KFold(n_splits=5, random_state=41, shuffle=True)\n",
        "scores= {\n",
        "         \"Q2\": \"r2\",\n",
        "         \"MSE\": make_scorer(mean_squared_error, squared=False)\n",
        "         }"
      ]
    },
    {
      "cell_type": "code",
      "execution_count": null,
      "metadata": {
        "id": "VmXDGovmJXod"
      },
      "outputs": [],
      "source": [
        "ndf['logBB'] = sdf['logBB']\n",
        "X = ndf.iloc[:, :-1].values\n",
        "y = ndf.iloc[:, -1].values\n",
        "X_train, X_test, y_train, y_test = X, X, y, y"
      ]
    },
    {
      "cell_type": "code",
      "execution_count": null,
      "metadata": {
        "id": "8u3CS0KlJhNW"
      },
      "outputs": [],
      "source": [
        "scaler = StandardScaler().fit(X_train)\n",
        "X_train = scaler.transform(X_train)\n",
        "X_test = scaler.transform(X_test)"
      ]
    },
    {
      "cell_type": "code",
      "execution_count": null,
      "metadata": {
        "id": "sOQzonhMJm4T"
      },
      "outputs": [],
      "source": [
        "model = DecisionTreeRegressor()"
      ]
    },
    {
      "cell_type": "code",
      "execution_count": null,
      "metadata": {
        "id": "cw9akIJaKXLV"
      },
      "outputs": [],
      "source": [
        "parameters = {\n",
        "    'min_samples_leaf':[1,2,3],\n",
        "    'random_state':[None,1,2],\n",
        "}"
      ]
    },
    {
      "cell_type": "code",
      "execution_count": null,
      "metadata": {
        "id": "Ci0pkt_VMCKs"
      },
      "outputs": [],
      "source": [
        "rmse_mod = sklearn.metrics.make_scorer(mean_squared_error, greater_is_better=False, squared=False)\n",
        "grid_search = GridSearchCV(\n",
        "    estimator=model,\n",
        "    param_grid=parameters,\n",
        "    # scoring='neg_mean_squared_error',\n",
        "    scoring=rmse_mod,\n",
        "    verbose=3)"
      ]
    },
    {
      "cell_type": "code",
      "execution_count": null,
      "metadata": {
        "colab": {
          "base_uri": "https://localhost:8080/",
          "height": 916
        },
        "id": "x2t6bALCMQZ9",
        "outputId": "a6fc9626-bd25-4c01-d189-5d66dda01af7"
      },
      "outputs": [
        {
          "name": "stdout",
          "output_type": "stream",
          "text": [
            "Fitting 5 folds for each of 9 candidates, totalling 45 fits\n",
            "[CV 1/5] END min_samples_leaf=1, random_state=None;, score=-0.559 total time=   0.1s\n",
            "[CV 2/5] END min_samples_leaf=1, random_state=None;, score=-0.769 total time=   0.1s\n",
            "[CV 3/5] END min_samples_leaf=1, random_state=None;, score=-0.762 total time=   0.1s\n",
            "[CV 4/5] END min_samples_leaf=1, random_state=None;, score=-0.730 total time=   0.1s\n",
            "[CV 5/5] END min_samples_leaf=1, random_state=None;, score=-0.652 total time=   0.1s\n",
            "[CV 1/5] END min_samples_leaf=1, random_state=1;, score=-0.571 total time=   0.1s\n",
            "[CV 2/5] END min_samples_leaf=1, random_state=1;, score=-0.741 total time=   0.1s\n",
            "[CV 3/5] END min_samples_leaf=1, random_state=1;, score=-0.796 total time=   0.1s\n",
            "[CV 4/5] END min_samples_leaf=1, random_state=1;, score=-0.788 total time=   0.1s\n",
            "[CV 5/5] END min_samples_leaf=1, random_state=1;, score=-0.626 total time=   0.1s\n",
            "[CV 1/5] END min_samples_leaf=1, random_state=2;, score=-0.571 total time=   0.1s\n",
            "[CV 2/5] END min_samples_leaf=1, random_state=2;, score=-0.726 total time=   0.1s\n",
            "[CV 3/5] END min_samples_leaf=1, random_state=2;, score=-0.742 total time=   0.1s\n",
            "[CV 4/5] END min_samples_leaf=1, random_state=2;, score=-0.716 total time=   0.1s\n",
            "[CV 5/5] END min_samples_leaf=1, random_state=2;, score=-0.635 total time=   0.1s\n",
            "[CV 1/5] END min_samples_leaf=2, random_state=None;, score=-0.551 total time=   0.1s\n",
            "[CV 2/5] END min_samples_leaf=2, random_state=None;, score=-0.757 total time=   0.1s\n",
            "[CV 3/5] END min_samples_leaf=2, random_state=None;, score=-0.752 total time=   0.1s\n",
            "[CV 4/5] END min_samples_leaf=2, random_state=None;, score=-0.760 total time=   0.1s\n",
            "[CV 5/5] END min_samples_leaf=2, random_state=None;, score=-0.594 total time=   0.1s\n",
            "[CV 1/5] END min_samples_leaf=2, random_state=1;, score=-0.534 total time=   0.1s\n",
            "[CV 2/5] END min_samples_leaf=2, random_state=1;, score=-0.743 total time=   0.1s\n",
            "[CV 3/5] END min_samples_leaf=2, random_state=1;, score=-0.711 total time=   0.1s\n",
            "[CV 4/5] END min_samples_leaf=2, random_state=1;, score=-0.790 total time=   0.1s\n",
            "[CV 5/5] END min_samples_leaf=2, random_state=1;, score=-0.576 total time=   0.1s\n",
            "[CV 1/5] END min_samples_leaf=2, random_state=2;, score=-0.528 total time=   0.1s\n",
            "[CV 2/5] END min_samples_leaf=2, random_state=2;, score=-0.776 total time=   0.1s\n",
            "[CV 3/5] END min_samples_leaf=2, random_state=2;, score=-0.720 total time=   0.1s\n",
            "[CV 4/5] END min_samples_leaf=2, random_state=2;, score=-0.709 total time=   0.1s\n",
            "[CV 5/5] END min_samples_leaf=2, random_state=2;, score=-0.621 total time=   0.1s\n",
            "[CV 1/5] END min_samples_leaf=3, random_state=None;, score=-0.587 total time=   0.1s\n",
            "[CV 2/5] END min_samples_leaf=3, random_state=None;, score=-0.751 total time=   0.1s\n",
            "[CV 3/5] END min_samples_leaf=3, random_state=None;, score=-0.710 total time=   0.1s\n",
            "[CV 4/5] END min_samples_leaf=3, random_state=None;, score=-0.761 total time=   0.2s\n",
            "[CV 5/5] END min_samples_leaf=3, random_state=None;, score=-0.603 total time=   0.1s\n",
            "[CV 1/5] END min_samples_leaf=3, random_state=1;, score=-0.557 total time=   0.1s\n",
            "[CV 2/5] END min_samples_leaf=3, random_state=1;, score=-0.729 total time=   0.1s\n",
            "[CV 3/5] END min_samples_leaf=3, random_state=1;, score=-0.718 total time=   0.2s\n",
            "[CV 4/5] END min_samples_leaf=3, random_state=1;, score=-0.775 total time=   0.1s\n",
            "[CV 5/5] END min_samples_leaf=3, random_state=1;, score=-0.622 total time=   0.1s\n",
            "[CV 1/5] END min_samples_leaf=3, random_state=2;, score=-0.578 total time=   0.1s\n",
            "[CV 2/5] END min_samples_leaf=3, random_state=2;, score=-0.749 total time=   0.1s\n",
            "[CV 3/5] END min_samples_leaf=3, random_state=2;, score=-0.692 total time=   0.1s\n",
            "[CV 4/5] END min_samples_leaf=3, random_state=2;, score=-0.763 total time=   0.1s\n",
            "[CV 5/5] END min_samples_leaf=3, random_state=2;, score=-0.604 total time=   0.1s\n"
          ]
        },
        {
          "data": {
            "text/html": [
              "<style>#sk-container-id-7 {color: black;background-color: white;}#sk-container-id-7 pre{padding: 0;}#sk-container-id-7 div.sk-toggleable {background-color: white;}#sk-container-id-7 label.sk-toggleable__label {cursor: pointer;display: block;width: 100%;margin-bottom: 0;padding: 0.3em;box-sizing: border-box;text-align: center;}#sk-container-id-7 label.sk-toggleable__label-arrow:before {content: \"▸\";float: left;margin-right: 0.25em;color: #696969;}#sk-container-id-7 label.sk-toggleable__label-arrow:hover:before {color: black;}#sk-container-id-7 div.sk-estimator:hover label.sk-toggleable__label-arrow:before {color: black;}#sk-container-id-7 div.sk-toggleable__content {max-height: 0;max-width: 0;overflow: hidden;text-align: left;background-color: #f0f8ff;}#sk-container-id-7 div.sk-toggleable__content pre {margin: 0.2em;color: black;border-radius: 0.25em;background-color: #f0f8ff;}#sk-container-id-7 input.sk-toggleable__control:checked~div.sk-toggleable__content {max-height: 200px;max-width: 100%;overflow: auto;}#sk-container-id-7 input.sk-toggleable__control:checked~label.sk-toggleable__label-arrow:before {content: \"▾\";}#sk-container-id-7 div.sk-estimator input.sk-toggleable__control:checked~label.sk-toggleable__label {background-color: #d4ebff;}#sk-container-id-7 div.sk-label input.sk-toggleable__control:checked~label.sk-toggleable__label {background-color: #d4ebff;}#sk-container-id-7 input.sk-hidden--visually {border: 0;clip: rect(1px 1px 1px 1px);clip: rect(1px, 1px, 1px, 1px);height: 1px;margin: -1px;overflow: hidden;padding: 0;position: absolute;width: 1px;}#sk-container-id-7 div.sk-estimator {font-family: monospace;background-color: #f0f8ff;border: 1px dotted black;border-radius: 0.25em;box-sizing: border-box;margin-bottom: 0.5em;}#sk-container-id-7 div.sk-estimator:hover {background-color: #d4ebff;}#sk-container-id-7 div.sk-parallel-item::after {content: \"\";width: 100%;border-bottom: 1px solid gray;flex-grow: 1;}#sk-container-id-7 div.sk-label:hover label.sk-toggleable__label {background-color: #d4ebff;}#sk-container-id-7 div.sk-serial::before {content: \"\";position: absolute;border-left: 1px solid gray;box-sizing: border-box;top: 0;bottom: 0;left: 50%;z-index: 0;}#sk-container-id-7 div.sk-serial {display: flex;flex-direction: column;align-items: center;background-color: white;padding-right: 0.2em;padding-left: 0.2em;position: relative;}#sk-container-id-7 div.sk-item {position: relative;z-index: 1;}#sk-container-id-7 div.sk-parallel {display: flex;align-items: stretch;justify-content: center;background-color: white;position: relative;}#sk-container-id-7 div.sk-item::before, #sk-container-id-7 div.sk-parallel-item::before {content: \"\";position: absolute;border-left: 1px solid gray;box-sizing: border-box;top: 0;bottom: 0;left: 50%;z-index: -1;}#sk-container-id-7 div.sk-parallel-item {display: flex;flex-direction: column;z-index: 1;position: relative;background-color: white;}#sk-container-id-7 div.sk-parallel-item:first-child::after {align-self: flex-end;width: 50%;}#sk-container-id-7 div.sk-parallel-item:last-child::after {align-self: flex-start;width: 50%;}#sk-container-id-7 div.sk-parallel-item:only-child::after {width: 0;}#sk-container-id-7 div.sk-dashed-wrapped {border: 1px dashed gray;margin: 0 0.4em 0.5em 0.4em;box-sizing: border-box;padding-bottom: 0.4em;background-color: white;}#sk-container-id-7 div.sk-label label {font-family: monospace;font-weight: bold;display: inline-block;line-height: 1.2em;}#sk-container-id-7 div.sk-label-container {text-align: center;}#sk-container-id-7 div.sk-container {/* jupyter's `normalize.less` sets `[hidden] { display: none; }` but bootstrap.min.css set `[hidden] { display: none !important; }` so we also need the `!important` here to be able to override the default hidden behavior on the sphinx rendered scikit-learn.org. See: https://github.com/scikit-learn/scikit-learn/issues/21755 */display: inline-block !important;position: relative;}#sk-container-id-7 div.sk-text-repr-fallback {display: none;}</style><div id=\"sk-container-id-7\" class=\"sk-top-container\"><div class=\"sk-text-repr-fallback\"><pre>GridSearchCV(estimator=DecisionTreeRegressor(),\n",
              "             param_grid={&#x27;min_samples_leaf&#x27;: [1, 2, 3],\n",
              "                         &#x27;random_state&#x27;: [None, 1, 2]},\n",
              "             scoring=make_scorer(mean_squared_error, greater_is_better=False, squared=False),\n",
              "             verbose=3)</pre><b>In a Jupyter environment, please rerun this cell to show the HTML representation or trust the notebook. <br />On GitHub, the HTML representation is unable to render, please try loading this page with nbviewer.org.</b></div><div class=\"sk-container\" hidden><div class=\"sk-item sk-dashed-wrapped\"><div class=\"sk-label-container\"><div class=\"sk-label sk-toggleable\"><input class=\"sk-toggleable__control sk-hidden--visually\" id=\"sk-estimator-id-19\" type=\"checkbox\" ><label for=\"sk-estimator-id-19\" class=\"sk-toggleable__label sk-toggleable__label-arrow\">GridSearchCV</label><div class=\"sk-toggleable__content\"><pre>GridSearchCV(estimator=DecisionTreeRegressor(),\n",
              "             param_grid={&#x27;min_samples_leaf&#x27;: [1, 2, 3],\n",
              "                         &#x27;random_state&#x27;: [None, 1, 2]},\n",
              "             scoring=make_scorer(mean_squared_error, greater_is_better=False, squared=False),\n",
              "             verbose=3)</pre></div></div></div><div class=\"sk-parallel\"><div class=\"sk-parallel-item\"><div class=\"sk-item\"><div class=\"sk-label-container\"><div class=\"sk-label sk-toggleable\"><input class=\"sk-toggleable__control sk-hidden--visually\" id=\"sk-estimator-id-20\" type=\"checkbox\" ><label for=\"sk-estimator-id-20\" class=\"sk-toggleable__label sk-toggleable__label-arrow\">estimator: DecisionTreeRegressor</label><div class=\"sk-toggleable__content\"><pre>DecisionTreeRegressor()</pre></div></div></div><div class=\"sk-serial\"><div class=\"sk-item\"><div class=\"sk-estimator sk-toggleable\"><input class=\"sk-toggleable__control sk-hidden--visually\" id=\"sk-estimator-id-21\" type=\"checkbox\" ><label for=\"sk-estimator-id-21\" class=\"sk-toggleable__label sk-toggleable__label-arrow\">DecisionTreeRegressor</label><div class=\"sk-toggleable__content\"><pre>DecisionTreeRegressor()</pre></div></div></div></div></div></div></div></div></div></div>"
            ],
            "text/plain": [
              "GridSearchCV(estimator=DecisionTreeRegressor(),\n",
              "             param_grid={'min_samples_leaf': [1, 2, 3],\n",
              "                         'random_state': [None, 1, 2]},\n",
              "             scoring=make_scorer(mean_squared_error, greater_is_better=False, squared=False),\n",
              "             verbose=3)"
            ]
          },
          "execution_count": 152,
          "metadata": {},
          "output_type": "execute_result"
        }
      ],
      "source": [
        "grid_search.fit(X, y)"
      ]
    },
    {
      "cell_type": "code",
      "execution_count": null,
      "metadata": {
        "colab": {
          "base_uri": "https://localhost:8080/"
        },
        "id": "PWmGkQHMMVvQ",
        "outputId": "df16263b-ce78-46a0-f09e-91d0c3e1f527"
      },
      "outputs": [
        {
          "data": {
            "text/plain": [
              "{'min_samples_leaf': 2, 'random_state': 2}"
            ]
          },
          "execution_count": 153,
          "metadata": {},
          "output_type": "execute_result"
        }
      ],
      "source": [
        "grid_search.best_params_"
      ]
    },
    {
      "cell_type": "code",
      "execution_count": null,
      "metadata": {
        "id": "BvlMp4sSMZZ9"
      },
      "outputs": [],
      "source": [
        "model = DecisionTreeRegressor(min_samples_leaf=2,random_state=2)"
      ]
    },
    {
      "cell_type": "code",
      "execution_count": null,
      "metadata": {
        "colab": {
          "base_uri": "https://localhost:8080/"
        },
        "id": "PgJ-iEYpMco7",
        "outputId": "bd50ecbc-cc75-4ef0-d170-229fd623cf0a"
      },
      "outputs": [
        {
          "name": "stdout",
          "output_type": "stream",
          "text": [
            "On cross-validation:\n",
            "Mean RMSE score is 0.63 ± 0.025\n",
            "Mean Q2 score is 0.033 ± 0.082\n"
          ]
        }
      ],
      "source": [
        "cv_scores = cross_validate(model, X_train, y_train, scoring=scores, cv=split)\n",
        "print(f\"On cross-validation:\")\n",
        "print(f\"Mean RMSE score is {cv_scores['test_MSE'].mean().round(3)} ± {cv_scores['test_MSE'].std().round(3)}\")\n",
        "print(f\"Mean Q2 score is {cv_scores['test_Q2'].mean().round(3)} ± {cv_scores['test_Q2'].std().round(3)}\")"
      ]
    },
    {
      "cell_type": "code",
      "execution_count": null,
      "metadata": {
        "colab": {
          "base_uri": "https://localhost:8080/"
        },
        "id": "5Gg3ufskMlmH",
        "outputId": "19da671b-d226-43c0-8a01-8c9eb7c0dbf7"
      },
      "outputs": [
        {
          "name": "stdout",
          "output_type": "stream",
          "text": [
            "R2: 0.975\n"
          ]
        }
      ],
      "source": [
        "model.fit(X_train, y_train)\n",
        "y_pred = model.predict(X_test)\n",
        "\n",
        "print(f\"R2: {r2_score(y_test, y_pred).round(3)}\")"
      ]
    },
    {
      "cell_type": "code",
      "execution_count": null,
      "metadata": {
        "id": "vmtTv7DiMH-j"
      },
      "outputs": [],
      "source": [
        "'''avalon25 msl=3 rmse 0.502 q2 0.396 r2 0.925\n",
        "avalon50 msl=1 rmse 0.522 q2 0.345 r2 0.991\n",
        "avalon75 msl=2 rmse 0.518 q2 0.359 r2 0.97\n",
        "pubchem25 msl=3 rmse 0.823 q2 -0.653 r2 0.846\n",
        "pubchem50 msl=3 rs=1 rmse 0.814 q2 -0.614 r2 0.844\n",
        "pubchem75 msl=2 rmse 0.859 q2 -0.801 r2 0.938\n",
        "avalon+pubchem msl=2 rs=2 rmse 0.63 q2 0.033 r2 0.975'''"
      ]
    },
    {
      "cell_type": "markdown",
      "metadata": {
        "id": "qH3YAehu34_P"
      },
      "source": [
        "# ensemble forest\n"
      ]
    },
    {
      "cell_type": "code",
      "execution_count": null,
      "metadata": {
        "id": "z9snyr694XBL"
      },
      "outputs": [],
      "source": [
        "import sklearn\n",
        "from sklearn.ensemble import RandomForestRegressor\n",
        "from sklearn.preprocessing import StandardScaler, MinMaxScaler\n",
        "from sklearn.model_selection import train_test_split, KFold, cross_validate, GridSearchCV\n",
        "from sklearn.metrics import make_scorer, r2_score, mean_squared_error"
      ]
    },
    {
      "cell_type": "code",
      "execution_count": null,
      "metadata": {
        "id": "Z4TAYSg15Bey"
      },
      "outputs": [],
      "source": [
        "split = KFold(n_splits=5, random_state=41, shuffle=True)\n",
        "scores= {\n",
        "         \"Q2\": \"r2\",\n",
        "         \"MSE\": make_scorer(mean_squared_error, squared=False)\n",
        "         }"
      ]
    },
    {
      "cell_type": "code",
      "execution_count": null,
      "metadata": {
        "id": "8hlNcTfj5ESy"
      },
      "outputs": [],
      "source": [
        "ndf['logBB'] = sdf['logBB']\n",
        "X = ndf.iloc[:, :-1].values\n",
        "y = ndf.iloc[:, -1].values\n",
        "X_train, X_test, y_train, y_test = X, X, y, y"
      ]
    },
    {
      "cell_type": "code",
      "execution_count": null,
      "metadata": {
        "id": "SskTLv5r5PC9"
      },
      "outputs": [],
      "source": [
        "scaler = StandardScaler().fit(X_train)\n",
        "X_train = scaler.transform(X_train)\n",
        "X_test = scaler.transform(X_test)\n",
        "model = RandomForestRegressor()"
      ]
    },
    {
      "cell_type": "code",
      "execution_count": null,
      "metadata": {
        "id": "uHs5Xtum5XD8"
      },
      "outputs": [],
      "source": [
        "parameters = {\n",
        "    'n_estimators':[200,100],\n",
        "    'min_samples_leaf':[1,2],\n",
        "}"
      ]
    },
    {
      "cell_type": "code",
      "execution_count": null,
      "metadata": {
        "id": "Jvcqjnrm5Z0G"
      },
      "outputs": [],
      "source": [
        "rmse_mod = sklearn.metrics.make_scorer(mean_squared_error, greater_is_better=False, squared=False)\n",
        "grid_search = GridSearchCV(\n",
        "    estimator=model,\n",
        "    param_grid=parameters,\n",
        "    # scoring='neg_mean_squared_error',\n",
        "    scoring=rmse_mod,\n",
        "    verbose=3)"
      ]
    },
    {
      "cell_type": "code",
      "execution_count": null,
      "metadata": {
        "colab": {
          "base_uri": "https://localhost:8080/",
          "height": 482
        },
        "id": "E_wJH_Tb5cNM",
        "outputId": "63e67441-c4b2-406d-8070-46c539570f2d"
      },
      "outputs": [
        {
          "name": "stdout",
          "output_type": "stream",
          "text": [
            "Fitting 5 folds for each of 4 candidates, totalling 20 fits\n",
            "[CV 1/5] END min_samples_leaf=1, n_estimators=200;, score=-0.447 total time=  11.2s\n",
            "[CV 2/5] END min_samples_leaf=1, n_estimators=200;, score=-0.509 total time=  10.9s\n",
            "[CV 3/5] END min_samples_leaf=1, n_estimators=200;, score=-0.544 total time=  10.5s\n",
            "[CV 4/5] END min_samples_leaf=1, n_estimators=200;, score=-0.610 total time=  11.4s\n",
            "[CV 5/5] END min_samples_leaf=1, n_estimators=200;, score=-0.358 total time=  10.7s\n",
            "[CV 1/5] END min_samples_leaf=1, n_estimators=100;, score=-0.439 total time=   5.0s\n",
            "[CV 2/5] END min_samples_leaf=1, n_estimators=100;, score=-0.514 total time=   6.1s\n",
            "[CV 3/5] END min_samples_leaf=1, n_estimators=100;, score=-0.544 total time=   4.8s\n",
            "[CV 4/5] END min_samples_leaf=1, n_estimators=100;, score=-0.618 total time=   5.8s\n",
            "[CV 5/5] END min_samples_leaf=1, n_estimators=100;, score=-0.370 total time=   5.0s\n",
            "[CV 1/5] END min_samples_leaf=2, n_estimators=200;, score=-0.441 total time=   8.7s\n",
            "[CV 2/5] END min_samples_leaf=2, n_estimators=200;, score=-0.512 total time=   7.8s\n",
            "[CV 3/5] END min_samples_leaf=2, n_estimators=200;, score=-0.543 total time=   8.7s\n",
            "[CV 4/5] END min_samples_leaf=2, n_estimators=200;, score=-0.614 total time=   7.5s\n",
            "[CV 5/5] END min_samples_leaf=2, n_estimators=200;, score=-0.356 total time=   8.6s\n",
            "[CV 1/5] END min_samples_leaf=2, n_estimators=100;, score=-0.448 total time=   4.1s\n",
            "[CV 2/5] END min_samples_leaf=2, n_estimators=100;, score=-0.513 total time=   5.6s\n",
            "[CV 3/5] END min_samples_leaf=2, n_estimators=100;, score=-0.549 total time=   3.8s\n",
            "[CV 4/5] END min_samples_leaf=2, n_estimators=100;, score=-0.614 total time=   3.8s\n",
            "[CV 5/5] END min_samples_leaf=2, n_estimators=100;, score=-0.362 total time=   4.7s\n"
          ]
        },
        {
          "data": {
            "text/html": [
              "<style>#sk-container-id-10 {color: black;background-color: white;}#sk-container-id-10 pre{padding: 0;}#sk-container-id-10 div.sk-toggleable {background-color: white;}#sk-container-id-10 label.sk-toggleable__label {cursor: pointer;display: block;width: 100%;margin-bottom: 0;padding: 0.3em;box-sizing: border-box;text-align: center;}#sk-container-id-10 label.sk-toggleable__label-arrow:before {content: \"▸\";float: left;margin-right: 0.25em;color: #696969;}#sk-container-id-10 label.sk-toggleable__label-arrow:hover:before {color: black;}#sk-container-id-10 div.sk-estimator:hover label.sk-toggleable__label-arrow:before {color: black;}#sk-container-id-10 div.sk-toggleable__content {max-height: 0;max-width: 0;overflow: hidden;text-align: left;background-color: #f0f8ff;}#sk-container-id-10 div.sk-toggleable__content pre {margin: 0.2em;color: black;border-radius: 0.25em;background-color: #f0f8ff;}#sk-container-id-10 input.sk-toggleable__control:checked~div.sk-toggleable__content {max-height: 200px;max-width: 100%;overflow: auto;}#sk-container-id-10 input.sk-toggleable__control:checked~label.sk-toggleable__label-arrow:before {content: \"▾\";}#sk-container-id-10 div.sk-estimator input.sk-toggleable__control:checked~label.sk-toggleable__label {background-color: #d4ebff;}#sk-container-id-10 div.sk-label input.sk-toggleable__control:checked~label.sk-toggleable__label {background-color: #d4ebff;}#sk-container-id-10 input.sk-hidden--visually {border: 0;clip: rect(1px 1px 1px 1px);clip: rect(1px, 1px, 1px, 1px);height: 1px;margin: -1px;overflow: hidden;padding: 0;position: absolute;width: 1px;}#sk-container-id-10 div.sk-estimator {font-family: monospace;background-color: #f0f8ff;border: 1px dotted black;border-radius: 0.25em;box-sizing: border-box;margin-bottom: 0.5em;}#sk-container-id-10 div.sk-estimator:hover {background-color: #d4ebff;}#sk-container-id-10 div.sk-parallel-item::after {content: \"\";width: 100%;border-bottom: 1px solid gray;flex-grow: 1;}#sk-container-id-10 div.sk-label:hover label.sk-toggleable__label {background-color: #d4ebff;}#sk-container-id-10 div.sk-serial::before {content: \"\";position: absolute;border-left: 1px solid gray;box-sizing: border-box;top: 0;bottom: 0;left: 50%;z-index: 0;}#sk-container-id-10 div.sk-serial {display: flex;flex-direction: column;align-items: center;background-color: white;padding-right: 0.2em;padding-left: 0.2em;position: relative;}#sk-container-id-10 div.sk-item {position: relative;z-index: 1;}#sk-container-id-10 div.sk-parallel {display: flex;align-items: stretch;justify-content: center;background-color: white;position: relative;}#sk-container-id-10 div.sk-item::before, #sk-container-id-10 div.sk-parallel-item::before {content: \"\";position: absolute;border-left: 1px solid gray;box-sizing: border-box;top: 0;bottom: 0;left: 50%;z-index: -1;}#sk-container-id-10 div.sk-parallel-item {display: flex;flex-direction: column;z-index: 1;position: relative;background-color: white;}#sk-container-id-10 div.sk-parallel-item:first-child::after {align-self: flex-end;width: 50%;}#sk-container-id-10 div.sk-parallel-item:last-child::after {align-self: flex-start;width: 50%;}#sk-container-id-10 div.sk-parallel-item:only-child::after {width: 0;}#sk-container-id-10 div.sk-dashed-wrapped {border: 1px dashed gray;margin: 0 0.4em 0.5em 0.4em;box-sizing: border-box;padding-bottom: 0.4em;background-color: white;}#sk-container-id-10 div.sk-label label {font-family: monospace;font-weight: bold;display: inline-block;line-height: 1.2em;}#sk-container-id-10 div.sk-label-container {text-align: center;}#sk-container-id-10 div.sk-container {/* jupyter's `normalize.less` sets `[hidden] { display: none; }` but bootstrap.min.css set `[hidden] { display: none !important; }` so we also need the `!important` here to be able to override the default hidden behavior on the sphinx rendered scikit-learn.org. See: https://github.com/scikit-learn/scikit-learn/issues/21755 */display: inline-block !important;position: relative;}#sk-container-id-10 div.sk-text-repr-fallback {display: none;}</style><div id=\"sk-container-id-10\" class=\"sk-top-container\"><div class=\"sk-text-repr-fallback\"><pre>GridSearchCV(estimator=RandomForestRegressor(),\n",
              "             param_grid={&#x27;min_samples_leaf&#x27;: [1, 2],\n",
              "                         &#x27;n_estimators&#x27;: [200, 100]},\n",
              "             scoring=make_scorer(mean_squared_error, greater_is_better=False, squared=False),\n",
              "             verbose=3)</pre><b>In a Jupyter environment, please rerun this cell to show the HTML representation or trust the notebook. <br />On GitHub, the HTML representation is unable to render, please try loading this page with nbviewer.org.</b></div><div class=\"sk-container\" hidden><div class=\"sk-item sk-dashed-wrapped\"><div class=\"sk-label-container\"><div class=\"sk-label sk-toggleable\"><input class=\"sk-toggleable__control sk-hidden--visually\" id=\"sk-estimator-id-28\" type=\"checkbox\" ><label for=\"sk-estimator-id-28\" class=\"sk-toggleable__label sk-toggleable__label-arrow\">GridSearchCV</label><div class=\"sk-toggleable__content\"><pre>GridSearchCV(estimator=RandomForestRegressor(),\n",
              "             param_grid={&#x27;min_samples_leaf&#x27;: [1, 2],\n",
              "                         &#x27;n_estimators&#x27;: [200, 100]},\n",
              "             scoring=make_scorer(mean_squared_error, greater_is_better=False, squared=False),\n",
              "             verbose=3)</pre></div></div></div><div class=\"sk-parallel\"><div class=\"sk-parallel-item\"><div class=\"sk-item\"><div class=\"sk-label-container\"><div class=\"sk-label sk-toggleable\"><input class=\"sk-toggleable__control sk-hidden--visually\" id=\"sk-estimator-id-29\" type=\"checkbox\" ><label for=\"sk-estimator-id-29\" class=\"sk-toggleable__label sk-toggleable__label-arrow\">estimator: RandomForestRegressor</label><div class=\"sk-toggleable__content\"><pre>RandomForestRegressor()</pre></div></div></div><div class=\"sk-serial\"><div class=\"sk-item\"><div class=\"sk-estimator sk-toggleable\"><input class=\"sk-toggleable__control sk-hidden--visually\" id=\"sk-estimator-id-30\" type=\"checkbox\" ><label for=\"sk-estimator-id-30\" class=\"sk-toggleable__label sk-toggleable__label-arrow\">RandomForestRegressor</label><div class=\"sk-toggleable__content\"><pre>RandomForestRegressor()</pre></div></div></div></div></div></div></div></div></div></div>"
            ],
            "text/plain": [
              "GridSearchCV(estimator=RandomForestRegressor(),\n",
              "             param_grid={'min_samples_leaf': [1, 2],\n",
              "                         'n_estimators': [200, 100]},\n",
              "             scoring=make_scorer(mean_squared_error, greater_is_better=False, squared=False),\n",
              "             verbose=3)"
            ]
          },
          "execution_count": 137,
          "metadata": {},
          "output_type": "execute_result"
        }
      ],
      "source": [
        "grid_search.fit(X, y)"
      ]
    },
    {
      "cell_type": "code",
      "execution_count": null,
      "metadata": {
        "colab": {
          "base_uri": "https://localhost:8080/"
        },
        "id": "fwA410cE5gpR",
        "outputId": "c9317a2a-40ac-4e8e-ec67-b93dc6b02b4f"
      },
      "outputs": [
        {
          "data": {
            "text/plain": [
              "{'min_samples_leaf': 2, 'n_estimators': 200}"
            ]
          },
          "execution_count": 138,
          "metadata": {},
          "output_type": "execute_result"
        }
      ],
      "source": [
        "grid_search.best_params_"
      ]
    },
    {
      "cell_type": "code",
      "execution_count": null,
      "metadata": {
        "id": "IhlOyuII5kOm"
      },
      "outputs": [],
      "source": [
        "model = RandomForestRegressor(min_samples_leaf=2,n_estimators=200)"
      ]
    },
    {
      "cell_type": "code",
      "execution_count": null,
      "metadata": {
        "colab": {
          "base_uri": "https://localhost:8080/"
        },
        "id": "tCBL11YI5nsA",
        "outputId": "31222a07-79f7-4a6d-f12b-9204c1f13d56"
      },
      "outputs": [
        {
          "name": "stdout",
          "output_type": "stream",
          "text": [
            "On cross-validation:\n",
            "Mean RMSE score is 0.451 ± 0.019\n",
            "Mean Q2 score is 0.504 ± 0.05\n"
          ]
        }
      ],
      "source": [
        "cv_scores = cross_validate(model, X_train, y_train, scoring=scores, cv=split)\n",
        "print(f\"On cross-validation:\")\n",
        "print(f\"Mean RMSE score is {cv_scores['test_MSE'].mean().round(3)} ± {cv_scores['test_MSE'].std().round(3)}\")\n",
        "print(f\"Mean Q2 score is {cv_scores['test_Q2'].mean().round(3)} ± {cv_scores['test_Q2'].std().round(3)}\")"
      ]
    },
    {
      "cell_type": "code",
      "execution_count": null,
      "metadata": {
        "colab": {
          "base_uri": "https://localhost:8080/"
        },
        "id": "WHkHQJQK5qo9",
        "outputId": "1c2f5c03-444f-4138-de4b-5a77080f793b"
      },
      "outputs": [
        {
          "name": "stdout",
          "output_type": "stream",
          "text": [
            "R2: 0.916\n"
          ]
        }
      ],
      "source": [
        "model.fit(X_train, y_train)\n",
        "y_pred = model.predict(X_test)\n",
        "\n",
        "print(f\"R2: {r2_score(y_test, y_pred).round(3)}\")"
      ]
    },
    {
      "cell_type": "markdown",
      "metadata": {
        "id": "CLt7-x-V5tvQ"
      },
      "source": [
        "avalon25 default 0.39 0.636 0.945\n",
        "avalon50 est=200 0.391 0.634 0.948\n",
        "avalon75 est=300 0.388 0.639 0.948\n",
        "pubchem25 est=200 0.622 0.055 0.871\n",
        "pubchem50 est=200 sl=2 0.614 0.081 0.831\n",
        "pubchem75 est=200 0.613 0.083 0.873\n",
        "avalon+pubchem est=200 sl=2 0.451 0.504 0.916"
      ]
    },
    {
      "cell_type": "markdown",
      "metadata": {
        "id": "JSPw02Gk97da"
      },
      "source": [
        "# lgbm gradient"
      ]
    },
    {
      "cell_type": "code",
      "execution_count": null,
      "metadata": {
        "id": "i-P-io2R941J"
      },
      "outputs": [],
      "source": [
        "import sklearn\n",
        "import lightgbm\n",
        "from lightgbm import LGBMRegressor\n",
        "from sklearn.preprocessing import StandardScaler, MinMaxScaler\n",
        "from sklearn.model_selection import train_test_split, KFold, cross_validate, GridSearchCV\n",
        "from sklearn.metrics import make_scorer, r2_score, mean_squared_error"
      ]
    },
    {
      "cell_type": "code",
      "execution_count": null,
      "metadata": {
        "id": "63D2xMMoDZZt"
      },
      "outputs": [],
      "source": [
        "split = KFold(n_splits=5, random_state=41, shuffle=True)\n",
        "scores= {\n",
        "         \"Q2\": \"r2\",\n",
        "         \"MSE\": make_scorer(mean_squared_error, squared=False)\n",
        "         }"
      ]
    },
    {
      "cell_type": "code",
      "execution_count": null,
      "metadata": {
        "id": "oIP4Nd4_Db8R"
      },
      "outputs": [],
      "source": [
        "ndf['logBB'] = sdf['logBB']\n",
        "X = ndf.iloc[:, :-1].values\n",
        "y = ndf.iloc[:, -1].values\n",
        "X_train, X_test, y_train, y_test = X, X, y, y"
      ]
    },
    {
      "cell_type": "code",
      "execution_count": null,
      "metadata": {
        "id": "tBDE7ODsDeUi"
      },
      "outputs": [],
      "source": [
        "scaler = StandardScaler().fit(X_train)\n",
        "X_train = scaler.transform(X_train)\n",
        "X_test = scaler.transform(X_test)\n",
        "model = LGBMRegressor()"
      ]
    },
    {
      "cell_type": "code",
      "execution_count": null,
      "metadata": {
        "id": "PYx_0PHWTKHZ"
      },
      "outputs": [],
      "source": [
        "parameters = {\n",
        "    'n_estimators':[200,100,300],\n",
        "    'min_child_samples':[1,2],\n",
        "}"
      ]
    },
    {
      "cell_type": "code",
      "execution_count": null,
      "metadata": {
        "id": "7AJkVHq7TMXE"
      },
      "outputs": [],
      "source": [
        "rmse_mod = sklearn.metrics.make_scorer(mean_squared_error, greater_is_better=False, squared=False)\n",
        "grid_search = GridSearchCV(\n",
        "    estimator=model,\n",
        "    param_grid=parameters,\n",
        "    # scoring='neg_mean_squared_error',\n",
        "    scoring=rmse_mod,\n",
        "    verbose=3)"
      ]
    },
    {
      "cell_type": "code",
      "execution_count": null,
      "metadata": {
        "id": "UGazJC8HTRU_",
        "colab": {
          "base_uri": "https://localhost:8080/",
          "height": 1000
        },
        "outputId": "dbaca63a-ab67-48da-dee4-4097a2d06f8d"
      },
      "outputs": [
        {
          "output_type": "stream",
          "name": "stdout",
          "text": [
            "Fitting 5 folds for each of 6 candidates, totalling 30 fits\n",
            "[LightGBM] [Info] Auto-choosing row-wise multi-threading, the overhead of testing was 0.004334 seconds.\n",
            "You can set `force_row_wise=true` to remove the overhead.\n",
            "And if memory is not enough, you can set `force_col_wise=true`.\n",
            "[LightGBM] [Info] Total Bins 1925\n",
            "[LightGBM] [Info] Number of data points in the train set: 952, number of used features: 265\n",
            "[LightGBM] [Info] Start training from score -0.112426\n",
            "[CV 1/5] END min_child_samples=1, n_estimators=200;, score=-0.308 total time=   0.4s\n",
            "[LightGBM] [Info] Auto-choosing row-wise multi-threading, the overhead of testing was 0.002314 seconds.\n",
            "You can set `force_row_wise=true` to remove the overhead.\n",
            "And if memory is not enough, you can set `force_col_wise=true`.\n",
            "[LightGBM] [Info] Total Bins 1950\n",
            "[LightGBM] [Info] Number of data points in the train set: 952, number of used features: 265\n",
            "[LightGBM] [Info] Start training from score -0.095956\n",
            "[CV 2/5] END min_child_samples=1, n_estimators=200;, score=-0.417 total time=   0.4s\n",
            "[LightGBM] [Info] Auto-choosing row-wise multi-threading, the overhead of testing was 0.003256 seconds.\n",
            "You can set `force_row_wise=true` to remove the overhead.\n",
            "And if memory is not enough, you can set `force_col_wise=true`.\n",
            "[LightGBM] [Info] Total Bins 1938\n",
            "[LightGBM] [Info] Number of data points in the train set: 952, number of used features: 265\n",
            "[LightGBM] [Info] Start training from score -0.025683\n",
            "[CV 3/5] END min_child_samples=1, n_estimators=200;, score=-0.411 total time=   0.4s\n",
            "[LightGBM] [Info] Auto-choosing row-wise multi-threading, the overhead of testing was 0.003549 seconds.\n",
            "You can set `force_row_wise=true` to remove the overhead.\n",
            "And if memory is not enough, you can set `force_col_wise=true`.\n",
            "[LightGBM] [Info] Total Bins 1951\n",
            "[LightGBM] [Info] Number of data points in the train set: 952, number of used features: 265\n",
            "[LightGBM] [Info] Start training from score 0.012710\n",
            "[CV 4/5] END min_child_samples=1, n_estimators=200;, score=-0.395 total time=   0.4s\n",
            "[LightGBM] [Info] Auto-choosing row-wise multi-threading, the overhead of testing was 0.003413 seconds.\n",
            "You can set `force_row_wise=true` to remove the overhead.\n",
            "And if memory is not enough, you can set `force_col_wise=true`.\n",
            "[LightGBM] [Info] Total Bins 1957\n",
            "[LightGBM] [Info] Number of data points in the train set: 952, number of used features: 265\n",
            "[LightGBM] [Info] Start training from score -0.175662\n",
            "[CV 5/5] END min_child_samples=1, n_estimators=200;, score=-0.436 total time=   0.4s\n",
            "[LightGBM] [Info] Auto-choosing row-wise multi-threading, the overhead of testing was 0.003311 seconds.\n",
            "You can set `force_row_wise=true` to remove the overhead.\n",
            "And if memory is not enough, you can set `force_col_wise=true`.\n",
            "[LightGBM] [Info] Total Bins 1925\n",
            "[LightGBM] [Info] Number of data points in the train set: 952, number of used features: 265\n",
            "[LightGBM] [Info] Start training from score -0.112426\n",
            "[CV 1/5] END min_child_samples=1, n_estimators=100;, score=-0.307 total time=   0.2s\n",
            "[LightGBM] [Info] Auto-choosing row-wise multi-threading, the overhead of testing was 0.002314 seconds.\n",
            "You can set `force_row_wise=true` to remove the overhead.\n",
            "And if memory is not enough, you can set `force_col_wise=true`.\n",
            "[LightGBM] [Info] Total Bins 1950\n",
            "[LightGBM] [Info] Number of data points in the train set: 952, number of used features: 265\n",
            "[LightGBM] [Info] Start training from score -0.095956\n",
            "[CV 2/5] END min_child_samples=1, n_estimators=100;, score=-0.419 total time=   0.2s\n",
            "[LightGBM] [Info] Auto-choosing row-wise multi-threading, the overhead of testing was 0.003187 seconds.\n",
            "You can set `force_row_wise=true` to remove the overhead.\n",
            "And if memory is not enough, you can set `force_col_wise=true`.\n",
            "[LightGBM] [Info] Total Bins 1938\n",
            "[LightGBM] [Info] Number of data points in the train set: 952, number of used features: 265\n",
            "[LightGBM] [Info] Start training from score -0.025683\n",
            "[CV 3/5] END min_child_samples=1, n_estimators=100;, score=-0.412 total time=   0.2s\n",
            "[LightGBM] [Info] Auto-choosing row-wise multi-threading, the overhead of testing was 0.003619 seconds.\n",
            "You can set `force_row_wise=true` to remove the overhead.\n",
            "And if memory is not enough, you can set `force_col_wise=true`.\n",
            "[LightGBM] [Info] Total Bins 1951\n",
            "[LightGBM] [Info] Number of data points in the train set: 952, number of used features: 265\n",
            "[LightGBM] [Info] Start training from score 0.012710\n",
            "[CV 4/5] END min_child_samples=1, n_estimators=100;, score=-0.392 total time=   0.2s\n",
            "[LightGBM] [Info] Auto-choosing row-wise multi-threading, the overhead of testing was 0.003144 seconds.\n",
            "You can set `force_row_wise=true` to remove the overhead.\n",
            "And if memory is not enough, you can set `force_col_wise=true`.\n",
            "[LightGBM] [Info] Total Bins 1957\n",
            "[LightGBM] [Info] Number of data points in the train set: 952, number of used features: 265\n",
            "[LightGBM] [Info] Start training from score -0.175662\n",
            "[CV 5/5] END min_child_samples=1, n_estimators=100;, score=-0.441 total time=   0.2s\n",
            "[LightGBM] [Info] Auto-choosing row-wise multi-threading, the overhead of testing was 0.003600 seconds.\n",
            "You can set `force_row_wise=true` to remove the overhead.\n",
            "And if memory is not enough, you can set `force_col_wise=true`.\n",
            "[LightGBM] [Info] Total Bins 1925\n",
            "[LightGBM] [Info] Number of data points in the train set: 952, number of used features: 265\n",
            "[LightGBM] [Info] Start training from score -0.112426\n",
            "[CV 1/5] END min_child_samples=1, n_estimators=300;, score=-0.309 total time=   0.5s\n",
            "[LightGBM] [Info] Auto-choosing row-wise multi-threading, the overhead of testing was 0.003005 seconds.\n",
            "You can set `force_row_wise=true` to remove the overhead.\n",
            "And if memory is not enough, you can set `force_col_wise=true`.\n",
            "[LightGBM] [Info] Total Bins 1950\n",
            "[LightGBM] [Info] Number of data points in the train set: 952, number of used features: 265\n",
            "[LightGBM] [Info] Start training from score -0.095956\n",
            "[CV 2/5] END min_child_samples=1, n_estimators=300;, score=-0.417 total time=   0.5s\n",
            "[LightGBM] [Info] Auto-choosing row-wise multi-threading, the overhead of testing was 0.003220 seconds.\n",
            "You can set `force_row_wise=true` to remove the overhead.\n",
            "And if memory is not enough, you can set `force_col_wise=true`.\n",
            "[LightGBM] [Info] Total Bins 1938\n",
            "[LightGBM] [Info] Number of data points in the train set: 952, number of used features: 265\n",
            "[LightGBM] [Info] Start training from score -0.025683\n",
            "[CV 3/5] END min_child_samples=1, n_estimators=300;, score=-0.411 total time=   0.5s\n",
            "[LightGBM] [Info] Auto-choosing row-wise multi-threading, the overhead of testing was 0.003523 seconds.\n",
            "You can set `force_row_wise=true` to remove the overhead.\n",
            "And if memory is not enough, you can set `force_col_wise=true`.\n",
            "[LightGBM] [Info] Total Bins 1951\n",
            "[LightGBM] [Info] Number of data points in the train set: 952, number of used features: 265\n",
            "[LightGBM] [Info] Start training from score 0.012710\n",
            "[CV 4/5] END min_child_samples=1, n_estimators=300;, score=-0.396 total time=   0.5s\n",
            "[LightGBM] [Info] Auto-choosing row-wise multi-threading, the overhead of testing was 0.004675 seconds.\n",
            "You can set `force_row_wise=true` to remove the overhead.\n",
            "And if memory is not enough, you can set `force_col_wise=true`.\n",
            "[LightGBM] [Info] Total Bins 1957\n",
            "[LightGBM] [Info] Number of data points in the train set: 952, number of used features: 265\n",
            "[LightGBM] [Info] Start training from score -0.175662\n",
            "[CV 5/5] END min_child_samples=1, n_estimators=300;, score=-0.436 total time=   0.5s\n",
            "[LightGBM] [Info] Auto-choosing row-wise multi-threading, the overhead of testing was 0.003128 seconds.\n",
            "You can set `force_row_wise=true` to remove the overhead.\n",
            "And if memory is not enough, you can set `force_col_wise=true`.\n",
            "[LightGBM] [Info] Total Bins 1925\n",
            "[LightGBM] [Info] Number of data points in the train set: 952, number of used features: 265\n",
            "[LightGBM] [Info] Start training from score -0.112426\n",
            "[CV 1/5] END min_child_samples=2, n_estimators=200;, score=-0.301 total time=   0.4s\n",
            "[LightGBM] [Info] Auto-choosing row-wise multi-threading, the overhead of testing was 0.002360 seconds.\n",
            "You can set `force_row_wise=true` to remove the overhead.\n",
            "And if memory is not enough, you can set `force_col_wise=true`.\n",
            "[LightGBM] [Info] Total Bins 1950\n",
            "[LightGBM] [Info] Number of data points in the train set: 952, number of used features: 265\n",
            "[LightGBM] [Info] Start training from score -0.095956\n",
            "[CV 2/5] END min_child_samples=2, n_estimators=200;, score=-0.417 total time=   0.4s\n",
            "[LightGBM] [Info] Auto-choosing row-wise multi-threading, the overhead of testing was 0.003252 seconds.\n",
            "You can set `force_row_wise=true` to remove the overhead.\n",
            "And if memory is not enough, you can set `force_col_wise=true`.\n",
            "[LightGBM] [Info] Total Bins 1938\n",
            "[LightGBM] [Info] Number of data points in the train set: 952, number of used features: 265\n",
            "[LightGBM] [Info] Start training from score -0.025683\n",
            "[CV 3/5] END min_child_samples=2, n_estimators=200;, score=-0.423 total time=   0.3s\n",
            "[LightGBM] [Info] Auto-choosing row-wise multi-threading, the overhead of testing was 0.003389 seconds.\n",
            "You can set `force_row_wise=true` to remove the overhead.\n",
            "And if memory is not enough, you can set `force_col_wise=true`.\n",
            "[LightGBM] [Info] Total Bins 1951\n",
            "[LightGBM] [Info] Number of data points in the train set: 952, number of used features: 265\n",
            "[LightGBM] [Info] Start training from score 0.012710\n",
            "[CV 4/5] END min_child_samples=2, n_estimators=200;, score=-0.384 total time=   0.4s\n",
            "[LightGBM] [Info] Auto-choosing row-wise multi-threading, the overhead of testing was 0.003439 seconds.\n",
            "You can set `force_row_wise=true` to remove the overhead.\n",
            "And if memory is not enough, you can set `force_col_wise=true`.\n",
            "[LightGBM] [Info] Total Bins 1957\n",
            "[LightGBM] [Info] Number of data points in the train set: 952, number of used features: 265\n",
            "[LightGBM] [Info] Start training from score -0.175662\n",
            "[CV 5/5] END min_child_samples=2, n_estimators=200;, score=-0.438 total time=   0.3s\n",
            "[LightGBM] [Info] Auto-choosing row-wise multi-threading, the overhead of testing was 0.002929 seconds.\n",
            "You can set `force_row_wise=true` to remove the overhead.\n",
            "And if memory is not enough, you can set `force_col_wise=true`.\n",
            "[LightGBM] [Info] Total Bins 1925\n",
            "[LightGBM] [Info] Number of data points in the train set: 952, number of used features: 265\n",
            "[LightGBM] [Info] Start training from score -0.112426\n",
            "[CV 1/5] END min_child_samples=2, n_estimators=100;, score=-0.302 total time=   0.2s\n",
            "[LightGBM] [Info] Auto-choosing row-wise multi-threading, the overhead of testing was 0.002445 seconds.\n",
            "You can set `force_row_wise=true` to remove the overhead.\n",
            "And if memory is not enough, you can set `force_col_wise=true`.\n",
            "[LightGBM] [Info] Total Bins 1950\n",
            "[LightGBM] [Info] Number of data points in the train set: 952, number of used features: 265\n",
            "[LightGBM] [Info] Start training from score -0.095956\n",
            "[CV 2/5] END min_child_samples=2, n_estimators=100;, score=-0.418 total time=   0.2s\n",
            "[LightGBM] [Info] Auto-choosing row-wise multi-threading, the overhead of testing was 0.003182 seconds.\n",
            "You can set `force_row_wise=true` to remove the overhead.\n",
            "And if memory is not enough, you can set `force_col_wise=true`.\n",
            "[LightGBM] [Info] Total Bins 1938\n",
            "[LightGBM] [Info] Number of data points in the train set: 952, number of used features: 265\n",
            "[LightGBM] [Info] Start training from score -0.025683\n",
            "[CV 3/5] END min_child_samples=2, n_estimators=100;, score=-0.423 total time=   0.2s\n",
            "[LightGBM] [Info] Auto-choosing row-wise multi-threading, the overhead of testing was 0.003524 seconds.\n",
            "You can set `force_row_wise=true` to remove the overhead.\n",
            "And if memory is not enough, you can set `force_col_wise=true`.\n",
            "[LightGBM] [Info] Total Bins 1951\n",
            "[LightGBM] [Info] Number of data points in the train set: 952, number of used features: 265\n",
            "[LightGBM] [Info] Start training from score 0.012710\n",
            "[CV 4/5] END min_child_samples=2, n_estimators=100;, score=-0.382 total time=   0.2s\n",
            "[LightGBM] [Info] Auto-choosing row-wise multi-threading, the overhead of testing was 0.003665 seconds.\n",
            "You can set `force_row_wise=true` to remove the overhead.\n",
            "And if memory is not enough, you can set `force_col_wise=true`.\n",
            "[LightGBM] [Info] Total Bins 1957\n",
            "[LightGBM] [Info] Number of data points in the train set: 952, number of used features: 265\n",
            "[LightGBM] [Info] Start training from score -0.175662\n",
            "[CV 5/5] END min_child_samples=2, n_estimators=100;, score=-0.440 total time=   0.2s\n",
            "[LightGBM] [Info] Auto-choosing row-wise multi-threading, the overhead of testing was 0.002886 seconds.\n",
            "You can set `force_row_wise=true` to remove the overhead.\n",
            "And if memory is not enough, you can set `force_col_wise=true`.\n",
            "[LightGBM] [Info] Total Bins 1925\n",
            "[LightGBM] [Info] Number of data points in the train set: 952, number of used features: 265\n",
            "[LightGBM] [Info] Start training from score -0.112426\n",
            "[CV 1/5] END min_child_samples=2, n_estimators=300;, score=-0.301 total time=   0.5s\n",
            "[LightGBM] [Info] Auto-choosing row-wise multi-threading, the overhead of testing was 0.002526 seconds.\n",
            "You can set `force_row_wise=true` to remove the overhead.\n",
            "And if memory is not enough, you can set `force_col_wise=true`.\n",
            "[LightGBM] [Info] Total Bins 1950\n",
            "[LightGBM] [Info] Number of data points in the train set: 952, number of used features: 265\n",
            "[LightGBM] [Info] Start training from score -0.095956\n",
            "[CV 2/5] END min_child_samples=2, n_estimators=300;, score=-0.417 total time=   0.5s\n",
            "[LightGBM] [Info] Auto-choosing row-wise multi-threading, the overhead of testing was 0.003135 seconds.\n",
            "You can set `force_row_wise=true` to remove the overhead.\n",
            "And if memory is not enough, you can set `force_col_wise=true`.\n",
            "[LightGBM] [Info] Total Bins 1938\n",
            "[LightGBM] [Info] Number of data points in the train set: 952, number of used features: 265\n",
            "[LightGBM] [Info] Start training from score -0.025683\n",
            "[CV 3/5] END min_child_samples=2, n_estimators=300;, score=-0.423 total time=   0.5s\n",
            "[LightGBM] [Info] Auto-choosing row-wise multi-threading, the overhead of testing was 0.003558 seconds.\n",
            "You can set `force_row_wise=true` to remove the overhead.\n",
            "And if memory is not enough, you can set `force_col_wise=true`.\n",
            "[LightGBM] [Info] Total Bins 1951\n",
            "[LightGBM] [Info] Number of data points in the train set: 952, number of used features: 265\n",
            "[LightGBM] [Info] Start training from score 0.012710\n",
            "[CV 4/5] END min_child_samples=2, n_estimators=300;, score=-0.385 total time=   0.7s\n",
            "[LightGBM] [Info] Auto-choosing row-wise multi-threading, the overhead of testing was 0.004522 seconds.\n",
            "You can set `force_row_wise=true` to remove the overhead.\n",
            "And if memory is not enough, you can set `force_col_wise=true`.\n",
            "[LightGBM] [Info] Total Bins 1957\n",
            "[LightGBM] [Info] Number of data points in the train set: 952, number of used features: 265\n",
            "[LightGBM] [Info] Start training from score -0.175662\n",
            "[CV 5/5] END min_child_samples=2, n_estimators=300;, score=-0.437 total time=   0.8s\n",
            "[LightGBM] [Info] Auto-choosing row-wise multi-threading, the overhead of testing was 0.005581 seconds.\n",
            "You can set `force_row_wise=true` to remove the overhead.\n",
            "And if memory is not enough, you can set `force_col_wise=true`.\n",
            "[LightGBM] [Info] Total Bins 1981\n",
            "[LightGBM] [Info] Number of data points in the train set: 1190, number of used features: 265\n",
            "[LightGBM] [Info] Start training from score -0.079403\n"
          ]
        },
        {
          "output_type": "execute_result",
          "data": {
            "text/plain": [
              "GridSearchCV(estimator=LGBMRegressor(),\n",
              "             param_grid={'min_child_samples': [1, 2],\n",
              "                         'n_estimators': [200, 100, 300]},\n",
              "             scoring=make_scorer(mean_squared_error, greater_is_better=False, squared=False),\n",
              "             verbose=3)"
            ],
            "text/html": [
              "<style>#sk-container-id-3 {color: black;background-color: white;}#sk-container-id-3 pre{padding: 0;}#sk-container-id-3 div.sk-toggleable {background-color: white;}#sk-container-id-3 label.sk-toggleable__label {cursor: pointer;display: block;width: 100%;margin-bottom: 0;padding: 0.3em;box-sizing: border-box;text-align: center;}#sk-container-id-3 label.sk-toggleable__label-arrow:before {content: \"▸\";float: left;margin-right: 0.25em;color: #696969;}#sk-container-id-3 label.sk-toggleable__label-arrow:hover:before {color: black;}#sk-container-id-3 div.sk-estimator:hover label.sk-toggleable__label-arrow:before {color: black;}#sk-container-id-3 div.sk-toggleable__content {max-height: 0;max-width: 0;overflow: hidden;text-align: left;background-color: #f0f8ff;}#sk-container-id-3 div.sk-toggleable__content pre {margin: 0.2em;color: black;border-radius: 0.25em;background-color: #f0f8ff;}#sk-container-id-3 input.sk-toggleable__control:checked~div.sk-toggleable__content {max-height: 200px;max-width: 100%;overflow: auto;}#sk-container-id-3 input.sk-toggleable__control:checked~label.sk-toggleable__label-arrow:before {content: \"▾\";}#sk-container-id-3 div.sk-estimator input.sk-toggleable__control:checked~label.sk-toggleable__label {background-color: #d4ebff;}#sk-container-id-3 div.sk-label input.sk-toggleable__control:checked~label.sk-toggleable__label {background-color: #d4ebff;}#sk-container-id-3 input.sk-hidden--visually {border: 0;clip: rect(1px 1px 1px 1px);clip: rect(1px, 1px, 1px, 1px);height: 1px;margin: -1px;overflow: hidden;padding: 0;position: absolute;width: 1px;}#sk-container-id-3 div.sk-estimator {font-family: monospace;background-color: #f0f8ff;border: 1px dotted black;border-radius: 0.25em;box-sizing: border-box;margin-bottom: 0.5em;}#sk-container-id-3 div.sk-estimator:hover {background-color: #d4ebff;}#sk-container-id-3 div.sk-parallel-item::after {content: \"\";width: 100%;border-bottom: 1px solid gray;flex-grow: 1;}#sk-container-id-3 div.sk-label:hover label.sk-toggleable__label {background-color: #d4ebff;}#sk-container-id-3 div.sk-serial::before {content: \"\";position: absolute;border-left: 1px solid gray;box-sizing: border-box;top: 0;bottom: 0;left: 50%;z-index: 0;}#sk-container-id-3 div.sk-serial {display: flex;flex-direction: column;align-items: center;background-color: white;padding-right: 0.2em;padding-left: 0.2em;position: relative;}#sk-container-id-3 div.sk-item {position: relative;z-index: 1;}#sk-container-id-3 div.sk-parallel {display: flex;align-items: stretch;justify-content: center;background-color: white;position: relative;}#sk-container-id-3 div.sk-item::before, #sk-container-id-3 div.sk-parallel-item::before {content: \"\";position: absolute;border-left: 1px solid gray;box-sizing: border-box;top: 0;bottom: 0;left: 50%;z-index: -1;}#sk-container-id-3 div.sk-parallel-item {display: flex;flex-direction: column;z-index: 1;position: relative;background-color: white;}#sk-container-id-3 div.sk-parallel-item:first-child::after {align-self: flex-end;width: 50%;}#sk-container-id-3 div.sk-parallel-item:last-child::after {align-self: flex-start;width: 50%;}#sk-container-id-3 div.sk-parallel-item:only-child::after {width: 0;}#sk-container-id-3 div.sk-dashed-wrapped {border: 1px dashed gray;margin: 0 0.4em 0.5em 0.4em;box-sizing: border-box;padding-bottom: 0.4em;background-color: white;}#sk-container-id-3 div.sk-label label {font-family: monospace;font-weight: bold;display: inline-block;line-height: 1.2em;}#sk-container-id-3 div.sk-label-container {text-align: center;}#sk-container-id-3 div.sk-container {/* jupyter's `normalize.less` sets `[hidden] { display: none; }` but bootstrap.min.css set `[hidden] { display: none !important; }` so we also need the `!important` here to be able to override the default hidden behavior on the sphinx rendered scikit-learn.org. See: https://github.com/scikit-learn/scikit-learn/issues/21755 */display: inline-block !important;position: relative;}#sk-container-id-3 div.sk-text-repr-fallback {display: none;}</style><div id=\"sk-container-id-3\" class=\"sk-top-container\"><div class=\"sk-text-repr-fallback\"><pre>GridSearchCV(estimator=LGBMRegressor(),\n",
              "             param_grid={&#x27;min_child_samples&#x27;: [1, 2],\n",
              "                         &#x27;n_estimators&#x27;: [200, 100, 300]},\n",
              "             scoring=make_scorer(mean_squared_error, greater_is_better=False, squared=False),\n",
              "             verbose=3)</pre><b>In a Jupyter environment, please rerun this cell to show the HTML representation or trust the notebook. <br />On GitHub, the HTML representation is unable to render, please try loading this page with nbviewer.org.</b></div><div class=\"sk-container\" hidden><div class=\"sk-item sk-dashed-wrapped\"><div class=\"sk-label-container\"><div class=\"sk-label sk-toggleable\"><input class=\"sk-toggleable__control sk-hidden--visually\" id=\"sk-estimator-id-7\" type=\"checkbox\" ><label for=\"sk-estimator-id-7\" class=\"sk-toggleable__label sk-toggleable__label-arrow\">GridSearchCV</label><div class=\"sk-toggleable__content\"><pre>GridSearchCV(estimator=LGBMRegressor(),\n",
              "             param_grid={&#x27;min_child_samples&#x27;: [1, 2],\n",
              "                         &#x27;n_estimators&#x27;: [200, 100, 300]},\n",
              "             scoring=make_scorer(mean_squared_error, greater_is_better=False, squared=False),\n",
              "             verbose=3)</pre></div></div></div><div class=\"sk-parallel\"><div class=\"sk-parallel-item\"><div class=\"sk-item\"><div class=\"sk-label-container\"><div class=\"sk-label sk-toggleable\"><input class=\"sk-toggleable__control sk-hidden--visually\" id=\"sk-estimator-id-8\" type=\"checkbox\" ><label for=\"sk-estimator-id-8\" class=\"sk-toggleable__label sk-toggleable__label-arrow\">estimator: LGBMRegressor</label><div class=\"sk-toggleable__content\"><pre>LGBMRegressor()</pre></div></div></div><div class=\"sk-serial\"><div class=\"sk-item\"><div class=\"sk-estimator sk-toggleable\"><input class=\"sk-toggleable__control sk-hidden--visually\" id=\"sk-estimator-id-9\" type=\"checkbox\" ><label for=\"sk-estimator-id-9\" class=\"sk-toggleable__label sk-toggleable__label-arrow\">LGBMRegressor</label><div class=\"sk-toggleable__content\"><pre>LGBMRegressor()</pre></div></div></div></div></div></div></div></div></div></div>"
            ]
          },
          "metadata": {},
          "execution_count": 56
        }
      ],
      "source": [
        "grid_search.fit(X, y)"
      ]
    },
    {
      "cell_type": "code",
      "execution_count": null,
      "metadata": {
        "colab": {
          "base_uri": "https://localhost:8080/"
        },
        "id": "3CUTF6XpT5ae",
        "outputId": "d4b0a736-ac6e-4c73-9816-00c461755d90"
      },
      "outputs": [
        {
          "output_type": "execute_result",
          "data": {
            "text/plain": [
              "{'min_child_samples': 2, 'n_estimators': 300}"
            ]
          },
          "metadata": {},
          "execution_count": 57
        }
      ],
      "source": [
        "grid_search.best_params_"
      ]
    },
    {
      "cell_type": "code",
      "execution_count": null,
      "metadata": {
        "id": "56IUsgUnT8fE"
      },
      "outputs": [],
      "source": [
        "model = LGBMRegressor(min_child_samples=1,n_estimators=200)"
      ]
    },
    {
      "cell_type": "code",
      "execution_count": null,
      "metadata": {
        "colab": {
          "base_uri": "https://localhost:8080/"
        },
        "id": "JVtV05IoT_NE",
        "outputId": "b57ea64d-cbff-4652-8510-913a5f1a4772"
      },
      "outputs": [
        {
          "output_type": "stream",
          "name": "stdout",
          "text": [
            "[LightGBM] [Info] Auto-choosing row-wise multi-threading, the overhead of testing was 0.002849 seconds.\n",
            "You can set `force_row_wise=true` to remove the overhead.\n",
            "And if memory is not enough, you can set `force_col_wise=true`.\n",
            "[LightGBM] [Info] Total Bins 2155\n",
            "[LightGBM] [Info] Number of data points in the train set: 952, number of used features: 265\n",
            "[LightGBM] [Info] Start training from score -0.072605\n",
            "[LightGBM] [Info] Auto-choosing row-wise multi-threading, the overhead of testing was 0.002403 seconds.\n",
            "You can set `force_row_wise=true` to remove the overhead.\n",
            "And if memory is not enough, you can set `force_col_wise=true`.\n",
            "[LightGBM] [Info] Total Bins 2165\n",
            "[LightGBM] [Info] Number of data points in the train set: 952, number of used features: 265\n",
            "[LightGBM] [Info] Start training from score -0.070399\n",
            "[LightGBM] [Info] Auto-choosing row-wise multi-threading, the overhead of testing was 0.002633 seconds.\n",
            "You can set `force_row_wise=true` to remove the overhead.\n",
            "And if memory is not enough, you can set `force_col_wise=true`.\n",
            "[LightGBM] [Info] Total Bins 2161\n",
            "[LightGBM] [Info] Number of data points in the train set: 952, number of used features: 265\n",
            "[LightGBM] [Info] Start training from score -0.086481\n",
            "[LightGBM] [Info] Auto-choosing row-wise multi-threading, the overhead of testing was 0.002509 seconds.\n",
            "You can set `force_row_wise=true` to remove the overhead.\n",
            "And if memory is not enough, you can set `force_col_wise=true`.\n",
            "[LightGBM] [Info] Total Bins 2157\n",
            "[LightGBM] [Info] Number of data points in the train set: 952, number of used features: 265\n",
            "[LightGBM] [Info] Start training from score -0.070126\n",
            "[LightGBM] [Info] Auto-choosing row-wise multi-threading, the overhead of testing was 0.002659 seconds.\n",
            "You can set `force_row_wise=true` to remove the overhead.\n",
            "And if memory is not enough, you can set `force_col_wise=true`.\n",
            "[LightGBM] [Info] Total Bins 2166\n",
            "[LightGBM] [Info] Number of data points in the train set: 952, number of used features: 265\n",
            "[LightGBM] [Info] Start training from score -0.097405\n",
            "On cross-validation:\n",
            "Mean RMSE score is 0.354 ± 0.018\n",
            "Mean Q2 score is 0.7 ± 0.027\n"
          ]
        }
      ],
      "source": [
        "\n",
        "cv_scores = cross_validate(model, X_train, y_train, scoring=scores, cv=split)\n",
        "print(f\"On cross-validation:\")\n",
        "print(f\"Mean RMSE score is {cv_scores['test_MSE'].mean().round(3)} ± {cv_scores['test_MSE'].std().round(3)}\")\n",
        "print(f\"Mean Q2 score is {cv_scores['test_Q2'].mean().round(3)} ± {cv_scores['test_Q2'].std().round(3)}\")"
      ]
    },
    {
      "cell_type": "code",
      "source": [
        "import matplotlib.pyplot as plt"
      ],
      "metadata": {
        "id": "qRuBMo6FQPEK"
      },
      "execution_count": null,
      "outputs": []
    },
    {
      "cell_type": "code",
      "execution_count": null,
      "metadata": {
        "colab": {
          "base_uri": "https://localhost:8080/",
          "height": 740
        },
        "id": "LO54ZT4vUBw0",
        "outputId": "15664dc4-7b3a-438d-e0c7-d8a0718df782"
      },
      "outputs": [
        {
          "output_type": "stream",
          "name": "stdout",
          "text": [
            "[LightGBM] [Info] Auto-choosing row-wise multi-threading, the overhead of testing was 0.001985 seconds.\n",
            "You can set `force_row_wise=true` to remove the overhead.\n",
            "And if memory is not enough, you can set `force_col_wise=true`.\n",
            "[LightGBM] [Info] Total Bins 2206\n",
            "[LightGBM] [Info] Number of data points in the train set: 1190, number of used features: 265\n",
            "[LightGBM] [Info] Start training from score -0.079403\n",
            "R2: 0.99\n"
          ]
        },
        {
          "output_type": "execute_result",
          "data": {
            "text/plain": [
              "<function matplotlib.pyplot.show(close=None, block=None)>"
            ],
            "text/html": [
              "<div style=\"max-width:800px; border: 1px solid var(--colab-border-color);\"><style>\n",
              "      pre.function-repr-contents {\n",
              "        overflow-x: auto;\n",
              "        padding: 8px 12px;\n",
              "        max-height: 500px;\n",
              "      }\n",
              "\n",
              "      pre.function-repr-contents.function-repr-contents-collapsed {\n",
              "        cursor: pointer;\n",
              "        max-height: 100px;\n",
              "      }\n",
              "    </style>\n",
              "    <pre style=\"white-space: initial; background:\n",
              "         var(--colab-secondary-surface-color); padding: 8px 12px;\n",
              "         border-bottom: 1px solid var(--colab-border-color);\"><b>matplotlib.pyplot.show</b><br/>def show(*args, **kwargs)</pre><pre class=\"function-repr-contents function-repr-contents-collapsed\" style=\"\"><a class=\"filepath\" style=\"display:none\" href=\"#\">/usr/local/lib/python3.10/dist-packages/matplotlib/pyplot.py</a>Display all open figures.\n",
              "\n",
              "Parameters\n",
              "----------\n",
              "block : bool, optional\n",
              "    Whether to wait for all figures to be closed before returning.\n",
              "\n",
              "    If `True` block and run the GUI main loop until all figure windows\n",
              "    are closed.\n",
              "\n",
              "    If `False` ensure that all figure windows are displayed and return\n",
              "    immediately.  In this case, you are responsible for ensuring\n",
              "    that the event loop is running to have responsive figures.\n",
              "\n",
              "    Defaults to True in non-interactive mode and to False in interactive\n",
              "    mode (see `.pyplot.isinteractive`).\n",
              "\n",
              "See Also\n",
              "--------\n",
              "ion : Enable interactive mode, which shows / updates the figure after\n",
              "      every plotting command, so that calling ``show()`` is not necessary.\n",
              "ioff : Disable interactive mode.\n",
              "savefig : Save the figure to an image file instead of showing it on screen.\n",
              "\n",
              "Notes\n",
              "-----\n",
              "**Saving figures to file and showing a window at the same time**\n",
              "\n",
              "If you want an image file as well as a user interface window, use\n",
              "`.pyplot.savefig` before `.pyplot.show`. At the end of (a blocking)\n",
              "``show()`` the figure is closed and thus unregistered from pyplot. Calling\n",
              "`.pyplot.savefig` afterwards would save a new and thus empty figure. This\n",
              "limitation of command order does not apply if the show is non-blocking or\n",
              "if you keep a reference to the figure and use `.Figure.savefig`.\n",
              "\n",
              "**Auto-show in jupyter notebooks**\n",
              "\n",
              "The jupyter backends (activated via ``%matplotlib inline``,\n",
              "``%matplotlib notebook``, or ``%matplotlib widget``), call ``show()`` at\n",
              "the end of every cell by default. Thus, you usually don&#x27;t have to call it\n",
              "explicitly there.</pre>\n",
              "      <script>\n",
              "      if (google.colab.kernel.accessAllowed && google.colab.files && google.colab.files.view) {\n",
              "        for (const element of document.querySelectorAll('.filepath')) {\n",
              "          element.style.display = 'block'\n",
              "          element.onclick = (event) => {\n",
              "            event.preventDefault();\n",
              "            event.stopPropagation();\n",
              "            google.colab.files.view(element.textContent, 401);\n",
              "          };\n",
              "        }\n",
              "      }\n",
              "      for (const element of document.querySelectorAll('.function-repr-contents')) {\n",
              "        element.onclick = (event) => {\n",
              "          event.preventDefault();\n",
              "          event.stopPropagation();\n",
              "          element.classList.toggle('function-repr-contents-collapsed');\n",
              "        };\n",
              "      }\n",
              "      </script>\n",
              "      </div>"
            ]
          },
          "metadata": {},
          "execution_count": 63
        },
        {
          "output_type": "display_data",
          "data": {
            "text/plain": [
              "<Figure size 640x480 with 1 Axes>"
            ],
            "image/png": "[encoded data removed]"
          },
          "metadata": {}
        }
      ],
      "source": [
        "model.fit(X_train, y_train)\n",
        "y_pred = model.predict(X_test)\n",
        "\n",
        "print(f\"R2: {r2_score(y_test, y_pred).round(3)}\")\n",
        "plt.xlabel('logBB experimental')\n",
        "plt.ylabel('logBB predicted')\n",
        "plt.scatter(y_test,y_pred,s=4)\n",
        "plt.show"
      ]
    },
    {
      "cell_type": "markdown",
      "source": [
        "avalon25 est=200 mcs = 2 0.386 0.643 0.989\n",
        "avalon50 est=200 mcs = 2 0.385 0.645 0.989\n",
        "avalon75 est=300 mcs=1 0.381 0.652 0.99\n",
        "pubchem25 est=100 mcs = 1 0.641 0.001 0.944\n",
        "pubchem50 est=100 mcs =2 0.649 0.026 0.953\n",
        "pubchem75 est=100 mcs = 1 0.655 0.046 0.957\n",
        "avalon+pubchem est=100 mcs=2 0.647 0.02 0.967"
      ],
      "metadata": {
        "id": "19nZH2wSY8ya"
      }
    },
    {
      "cell_type": "markdown",
      "source": [
        "# nn regression"
      ],
      "metadata": {
        "id": "C0gd5mixTxJt"
      }
    },
    {
      "cell_type": "code",
      "execution_count": null,
      "metadata": {
        "id": "3MpS7hm3G-6U"
      },
      "outputs": [],
      "source": [
        "import numpy as np\n",
        "import pandas as pd\n",
        "import matplotlib.pyplot as plt\n",
        "import seaborn as sns\n",
        "\n",
        "# pytorch modelues\n",
        "import torch\n",
        "from torch import nn\n",
        "from torch.utils.data import DataLoader\n",
        "\n",
        "# sklearn modelues\n",
        "from sklearn.preprocessing import StandardScaler\n",
        "from sklearn.model_selection import train_test_split, KFold\n",
        "from sklearn.feature_selection import SelectKBest, f_regression\n",
        "from sklearn.metrics import r2_score"
      ]
    },
    {
      "cell_type": "code",
      "execution_count": null,
      "metadata": {
        "id": "-nilxNIEUZFa"
      },
      "outputs": [],
      "source": [
        "ndf['logBB'] = sdf['logBB']\n",
        "X = ndf.iloc[:, :-1]\n",
        "y = ndf.iloc[:, -1]\n",
        "X_train, X_test, y_train, y_test = X, X, y, y\n",
        "# split into train and test\n",
        "# X_train, X_test, y_train, y_test = train_test_split(X, y, test_size=0.2, shuffle=True, random_state=42)\n",
        "\n",
        "# print(f\"{X_train.shape[0]} molecules in train, {X_test.shape[0]} molecules in test\")"
      ]
    },
    {
      "cell_type": "code",
      "source": [
        "DEVICE = \"cuda\" if torch.cuda.is_available() else \"cpu\"\n",
        "print(f\"Using device: {DEVICE}\")"
      ],
      "metadata": {
        "colab": {
          "base_uri": "https://localhost:8080/"
        },
        "id": "m4pqNvp3Hk59",
        "outputId": "0116c6cc-28bd-4d13-f16f-1476ba02c9b2"
      },
      "execution_count": null,
      "outputs": [
        {
          "output_type": "stream",
          "name": "stdout",
          "text": [
            "Using device: cuda\n"
          ]
        }
      ]
    },
    {
      "cell_type": "code",
      "source": [
        "# dataset class to supply data for NN\n",
        "class logBBDataset(torch.utils.data.Dataset):\n",
        "\n",
        "  def __init__(self, X, y):\n",
        "    if not torch.is_tensor(X) and not torch.is_tensor(y):\n",
        "      self.X = torch.tensor(X, dtype=torch.float32)\n",
        "      self.y = torch.tensor(y, dtype=torch.float32)\n",
        "\n",
        "  def __len__(self):\n",
        "      return len(self.X)\n",
        "\n",
        "  def __getitem__(self, i):\n",
        "      return self.X[i], self.y[i]"
      ],
      "metadata": {
        "id": "SQfbU1ZkHnMb"
      },
      "execution_count": null,
      "outputs": []
    },
    {
      "cell_type": "code",
      "source": [
        "# class trainer allows to train model and save learning history as well as best parameters\n",
        "class Trainer:\n",
        "    def __init__(self, model, epochs, criterion,\n",
        "                 optimizer, trainloader,\n",
        "                 validloader, device, metric,\n",
        "                 validate=True, scheduler=None,\n",
        "                 verbose=2):\n",
        "        self.model = model.to(device)\n",
        "        self.epochs = epochs\n",
        "        self.criterion = criterion\n",
        "        self.optimizer = optimizer\n",
        "        self.trainloader = trainloader\n",
        "        self.validloader = validloader\n",
        "        self.device = device\n",
        "        self.metric = metric\n",
        "        self.validate = validate\n",
        "        self.verbose = verbose\n",
        "        self.scheduler = scheduler\n",
        "\n",
        "        # learning history\n",
        "        self.train_mse_losses = []\n",
        "        self.valid_mse_losses = []\n",
        "\n",
        "        self.train_r2_metrics = []\n",
        "        self.valid_r2_metrics = []\n",
        "\n",
        "        # save best [(MSE, R2) on train, (MSE, R2) on validation]\n",
        "        self.best_metrics = [(0, 0), (0, 0)]\n",
        "\n",
        "    def fit(self, epochs=None):\n",
        "        if epochs is None: # if no new epocks are passed use value at initiation\n",
        "            epochs = self.epochs\n",
        "\n",
        "        for epoch in range(epochs):\n",
        "            train_loss, train_metric = self._train(self.trainloader) # train net\n",
        "\n",
        "            # save metric and loss\n",
        "            self.train_mse_losses.append(train_loss)\n",
        "            self.train_r2_metrics.append(train_metric)\n",
        "\n",
        "            # validate the net\n",
        "            if self.validate:\n",
        "              val_loss, val_metric = self._validate(self.validloader)\n",
        "              self.valid_mse_losses.append(val_loss)\n",
        "              self.valid_r2_metrics.append(val_metric)\n",
        "\n",
        "              # in case we use sheduler update it\n",
        "              if self.scheduler is not None:\n",
        "                  self.scheduler.step(val_loss)\n",
        "            else:\n",
        "              val_loss = \"NO\"\n",
        "\n",
        "            # check and update best metrics based on R2\n",
        "            if (self.best_metrics[0][1] < train_metric) and (self.best_metrics[1][1] < val_metric):\n",
        "              self.best_metrics = [(train_loss, train_metric), (val_loss, val_metric)]\n",
        "\n",
        "            if self.verbose > 0:\n",
        "              print()\n",
        "              print(f\"Epoch {epoch+1} out of {epochs}: Train loss = {train_loss}, validation loss = {val_loss} \\n\\\n",
        "                                        Train metric = {train_metric}, validation metric = {val_metric}\")\n",
        "              print()\n",
        "\n",
        "        return self\n",
        "\n",
        "    def _train(self, loader):\n",
        "        self.model.train() # train state\n",
        "        epoch_loss, n_samples = 0, 0\n",
        "        epoch_preds = []\n",
        "        epoch_targets = []\n",
        "        for i, (inputs, targets) in enumerate(loader):\n",
        "            inputs, targets = inputs.to(self.device), targets.to(self.device) # move data to device\n",
        "            n = targets.shape[0]\n",
        "            n_samples += n\n",
        "            targets = targets.view(targets.shape[0],1) # reshape targets to match net output\n",
        "            out = self.model(inputs) # get predictions\n",
        "            loss = torch.sqrt(self.criterion(out, targets)) #calculate loss\n",
        "            epoch_loss += loss.item() * n # accumulate loss\n",
        "            self.optimizer.zero_grad()\n",
        "            loss.backward() # back propagation\n",
        "\n",
        "            if self.verbose > 1:\n",
        "                print(f\"\\rTraining: batch {i+1} out of {len(loader)}\", end=\"\")\n",
        "\n",
        "            self.optimizer.step() # change weights\n",
        "\n",
        "            # get predictions and target values from this epoch\n",
        "            epoch_preds += list(out.detach().cpu().numpy())\n",
        "            epoch_targets += list(targets.detach().cpu().numpy())\n",
        "\n",
        "            self._clear_vram(inputs, targets, out) # clear RAM\n",
        "\n",
        "        epoch_loss = epoch_loss/n_samples # calculate overall loss\n",
        "        epoch_metric = self.metric(epoch_targets, epoch_preds) # get train metric\n",
        "        if self.verbose > 1:\n",
        "          print(\"\\n\", end=\"\")\n",
        "\n",
        "        return epoch_loss, epoch_metric\n",
        "\n",
        "    def _validate(self, loader):\n",
        "        self.model.eval() # eval state\n",
        "        epoch_loss, n_samples = 0, 0\n",
        "        epoch_preds = []\n",
        "        epoch_targets = []\n",
        "        with torch.no_grad():\n",
        "            for i, (inputs, targets) in enumerate(loader):\n",
        "                inputs, targets = inputs.to(self.device), targets.to(self.device) # move data to evice\n",
        "                n = targets.shape[0]\n",
        "                n_samples += n\n",
        "                targets = targets.view(targets.shape[0],1) # reshape targets to match net output\n",
        "                out = self.model(inputs) # get logits\n",
        "                loss = torch.sqrt(self.criterion(out, targets)) # get loss\n",
        "\n",
        "                if self.verbose > 1:\n",
        "                    print(f\"\\rValidation: batch {i+1} out of {len(loader)}\", end=\"\")\n",
        "\n",
        "                epoch_loss += loss.item() * n # accumulate loss\n",
        "\n",
        "                epoch_preds += list(out.detach().cpu().numpy())\n",
        "                epoch_targets += list(targets.detach().cpu().numpy())\n",
        "\n",
        "                self._clear_vram(inputs, targets, out) # clear RAM\n",
        "\n",
        "        epoch_loss = epoch_loss/n_samples # get validation loss\n",
        "        epoch_metric = self.metric(epoch_targets, epoch_preds) # get validation metric\n",
        "        if self.verbose > 1:\n",
        "          print(\"\\n\", end=\"\")\n",
        "\n",
        "        return epoch_loss, epoch_metric\n",
        "\n",
        "    def _clear_vram(self, inputs, labels, outputs): # method to clear ram\n",
        "        inputs = inputs.to(\"cpu\")\n",
        "        labels = labels.to(\"cpu\")\n",
        "        outputs = outputs.to(\"cpu\")\n",
        "        del inputs, labels, outputs\n",
        "        torch.cuda.empty_cache()"
      ],
      "metadata": {
        "id": "hAtLUeclNbcc"
      },
      "execution_count": null,
      "outputs": []
    },
    {
      "cell_type": "code",
      "source": [
        "class logBB_Net(nn.Module):\n",
        "    def __init__(self, n_input_features, n_input_layer, n_inner_layer):\n",
        "        super().__init__()\n",
        "\n",
        "        self.regressor = nn.Sequential(\n",
        "            nn.Linear(in_features=n_input_features, out_features=n_input_layer),\n",
        "            #nn.Dropout(0.5),\n",
        "            nn.LeakyReLU(),\n",
        "\n",
        "            nn.Linear(in_features=n_input_layer, out_features=n_inner_layer),\n",
        "            #nn.Dropout(0.5),\n",
        "            nn.LeakyReLU(),\n",
        "            nn.Linear(in_features=n_input_layer, out_features=n_inner_layer),\n",
        "            #nn.Dropout(0.5),\n",
        "            nn.LeakyReLU(),\n",
        "            nn.Linear(in_features=n_input_layer, out_features=n_inner_layer),\n",
        "            #nn.Dropout(0.5),\n",
        "            nn.LeakyReLU(),\n",
        "\n",
        "            nn.Linear(in_features=n_inner_layer, out_features=1)\n",
        "        )\n",
        "\n",
        "    def forward(self, x):\n",
        "      return self.regressor(x)"
      ],
      "metadata": {
        "id": "cu4n4JpsNn9c"
      },
      "execution_count": null,
      "outputs": []
    },
    {
      "cell_type": "code",
      "source": [
        "# initiate model\n",
        "def initiate_model():\n",
        "  logBB_net = logBB_Net(n_input_features=397, n_input_layer=350, n_inner_layer=350)\n",
        "\n",
        "  # define some other parameters\n",
        "  n_epochs = 100\n",
        "  criterion = nn.MSELoss() # criterion for training\n",
        "  optimizer = torch.optim.Adam(logBB_net.parameters(), lr=3e-4) # define optimizer with lr\n",
        "  return logBB_net, n_epochs, criterion, optimizer\n",
        "\n",
        "\n",
        "\n"
      ],
      "metadata": {
        "id": "CtuLY5iLN3T1"
      },
      "execution_count": null,
      "outputs": []
    },
    {
      "cell_type": "code",
      "source": [
        "kf = KFold(n_splits=5, shuffle=True, random_state=41)"
      ],
      "metadata": {
        "id": "TveNbG0DRkcM"
      },
      "execution_count": null,
      "outputs": []
    },
    {
      "cell_type": "code",
      "source": [
        "q2_scores = []\n",
        "rmse_scores = []"
      ],
      "metadata": {
        "id": "NTODybIjSvnu"
      },
      "execution_count": null,
      "outputs": []
    },
    {
      "cell_type": "code",
      "source": [
        "\n",
        "for i, (train_index, val_index) in enumerate(kf.split(X)):\n",
        "    X_train, X_test = X.iloc[train_index], X.iloc[val_index]\n",
        "    y_train, y_test = y.iloc[train_index], y.iloc[val_index]\n",
        "    # X_train, X_test, y_train, y_test = train_test_split(X, y, test_size=0.2, shuffle=True)\n",
        "\n",
        "    scaler = StandardScaler().fit(X_train)\n",
        "    X_train_sc = scaler.transform(X_train)\n",
        "    X_test_sc = scaler.transform(X_test)\n",
        "    X_sc = scaler.transform(X)\n",
        "    #print(y_train)\n",
        "    # initiate datasets\n",
        "    train_data = logBBDataset(X_train_sc, y_train.to_numpy())\n",
        "    test_data = logBBDataset(X_test_sc, y_test.to_numpy())\n",
        "    fin_data = logBBDataset(X_sc, y.to_numpy())\n",
        "\n",
        "    trainloader = DataLoader(train_data, batch_size=10, shuffle=True)\n",
        "    testloader = DataLoader(test_data, batch_size=10, shuffle=False)\n",
        "    finloader = DataLoader(fin_data, batch_size=10, shuffle=False)\n",
        "\n",
        "    logBB_net, n_epochs, criterion, optimizer = initiate_model()\n",
        "    # initiate trainer\n",
        "    trainer = Trainer(logBB_net, n_epochs, criterion,\n",
        "                  optimizer, trainloader, testloader,\n",
        "                  DEVICE, r2_score, verbose=0)\n",
        "\n",
        "    # train model\n",
        "    trainer.fit()\n",
        "\n",
        "    print(\"Best scores achieved:\")\n",
        "    print(f\"On training set: Q2 {round(trainer.best_metrics[0][1], 2)}, RMSE {round(trainer.best_metrics[0][0], 2)}\")\n",
        "    print(f\"On test set: Q2 {round(trainer.best_metrics[1][1], 2)}, RMSE {round(trainer.best_metrics[1][0], 2)}\")\n",
        "    q2_scores.append(round(trainer.best_metrics[1][1], 2))\n",
        "    rmse_scores.append(round(trainer.best_metrics[1][0], 2))\n",
        "\n",
        "\n",
        "    fig, axes = plt.subplots(1, 2, figsize=(10, 5))\n",
        "    axes = axes.flatten()\n",
        "\n",
        "    sns.lineplot(y=trainer.train_mse_losses, x=range(1, n_epochs + 1), label=\"Train\", ax=axes[0])\n",
        "    sns.lineplot(y=trainer.valid_mse_losses, x=range(1, n_epochs + 1), label=\"Validation\", ax=axes[0])\n",
        "    axes[0].set_title('RMSE loss')\n",
        "\n",
        "    sns.lineplot(y=trainer.train_r2_metrics, x=range(1, n_epochs + 1), label=\"Train\", ax=axes[1])\n",
        "    sns.lineplot(y=trainer.valid_r2_metrics, x=range(1, n_epochs + 1), label=\"Validation\", ax=axes[1])\n",
        "    axes[1].set_title('Q2 metric')\n",
        "\n",
        "    plt.show()\n",
        "\n"
      ],
      "metadata": {
        "colab": {
          "base_uri": "https://localhost:8080/",
          "height": 1000
        },
        "id": "PadLgTVrZxD0",
        "outputId": "9dfa815a-4de0-4521-8b1e-b8a8cd13266e"
      },
      "execution_count": null,
      "outputs": [
        {
          "output_type": "stream",
          "name": "stdout",
          "text": [
            "Best scores achieved:\n",
            "On training set: Q2 0.98, RMSE 0.08\n",
            "On test set: Q2 0.81, RMSE 0.27\n"
          ]
        },
        {
          "output_type": "display_data",
          "data": {
            "text/plain": [
              "<Figure size 1000x500 with 2 Axes>"
            ],
            "image/png": "[encoded data removed]"
          },
          "metadata": {}
        },
        {
          "output_type": "stream",
          "name": "stdout",
          "text": [
            "Best scores achieved:\n",
            "On training set: Q2 0.99, RMSE 0.06\n",
            "On test set: Q2 0.7, RMSE 0.32\n"
          ]
        },
        {
          "output_type": "display_data",
          "data": {
            "text/plain": [
              "<Figure size 1000x500 with 2 Axes>"
            ],
            "image/png": "[encoded data removed]"
          },
          "metadata": {}
        },
        {
          "output_type": "stream",
          "name": "stdout",
          "text": [
            "Best scores achieved:\n",
            "On training set: Q2 0.99, RMSE 0.07\n",
            "On test set: Q2 0.63, RMSE 0.37\n"
          ]
        },
        {
          "output_type": "display_data",
          "data": {
            "text/plain": [
              "<Figure size 1000x500 with 2 Axes>"
            ],
            "image/png": "[encoded data removed]"
          },
          "metadata": {}
        },
        {
          "output_type": "stream",
          "name": "stdout",
          "text": [
            "Best scores achieved:\n",
            "On training set: Q2 0.96, RMSE 0.12\n",
            "On test set: Q2 0.68, RMSE 0.37\n"
          ]
        },
        {
          "output_type": "display_data",
          "data": {
            "text/plain": [
              "<Figure size 1000x500 with 2 Axes>"
            ],
            "image/png": "[encoded data removed]"
          },
          "metadata": {}
        },
        {
          "output_type": "stream",
          "name": "stdout",
          "text": [
            "Best scores achieved:\n",
            "On training set: Q2 0.98, RMSE 0.07\n",
            "On test set: Q2 0.65, RMSE 0.33\n"
          ]
        },
        {
          "output_type": "display_data",
          "data": {
            "text/plain": [
              "<Figure size 1000x500 with 2 Axes>"
            ],
            "image/png": "[encoded data removed]"
          },
          "metadata": {}
        }
      ]
    },
    {
      "cell_type": "code",
      "source": [
        "np.mean(np.array(q2_scores))\n"
      ],
      "metadata": {
        "colab": {
          "base_uri": "https://localhost:8080/"
        },
        "id": "LakfvJlBV-ju",
        "outputId": "fc34eed7-c75a-468b-e399-544630e134d8"
      },
      "execution_count": null,
      "outputs": [
        {
          "output_type": "execute_result",
          "data": {
            "text/plain": [
              "0.6940000000000001"
            ]
          },
          "metadata": {},
          "execution_count": 90
        }
      ]
    },
    {
      "cell_type": "code",
      "source": [
        "np.std(np.array(q2_scores))\n"
      ],
      "metadata": {
        "id": "ZocWRXtwthm-",
        "outputId": "18cb2705-61a3-4bb6-dc27-0c1242d3a5c6",
        "colab": {
          "base_uri": "https://localhost:8080/"
        }
      },
      "execution_count": null,
      "outputs": [
        {
          "output_type": "execute_result",
          "data": {
            "text/plain": [
              "0.06280127387243034"
            ]
          },
          "metadata": {},
          "execution_count": 91
        }
      ]
    },
    {
      "cell_type": "code",
      "source": [
        "np.mean(np.array(rmse_scores))\n"
      ],
      "metadata": {
        "id": "KAl97CtFtjWA",
        "outputId": "8adbbcc5-3375-4d3c-cc08-c293ca483f42",
        "colab": {
          "base_uri": "https://localhost:8080/"
        }
      },
      "execution_count": null,
      "outputs": [
        {
          "output_type": "execute_result",
          "data": {
            "text/plain": [
              "0.332"
            ]
          },
          "metadata": {},
          "execution_count": 92
        }
      ]
    },
    {
      "cell_type": "code",
      "source": [
        "np.std(np.array(rmse_scores))"
      ],
      "metadata": {
        "id": "kliG9K-JtlQ4",
        "outputId": "316b0afb-9dca-4af5-f5ed-171af8507da6",
        "colab": {
          "base_uri": "https://localhost:8080/"
        }
      },
      "execution_count": null,
      "outputs": [
        {
          "output_type": "execute_result",
          "data": {
            "text/plain": [
              "0.0370944739819828"
            ]
          },
          "metadata": {},
          "execution_count": 93
        }
      ]
    },
    {
      "cell_type": "markdown",
      "source": [
        "# avalon25\n",
        "350 без дропаутов лики рилу 0,619 0,369\n",
        "\n",
        "450 хуже чем 350 0,618 0,372\n",
        "\n",
        "250 хуже чем 350 0,617 0,371\n",
        "\n",
        "300 хуже чем 350 0,616 0,371\n",
        "\n",
        "320 хуже чем 350 0,564 0,394\n",
        "\n",
        "370 хуже чем 350 0,568 0,396\n",
        "\n",
        "дропауты 0,619 0,369\n",
        "\n",
        "дропауты 0,5 0,606 0,378\n",
        "\n",
        "хардсигмоид 0,548 0,409\n",
        "\n",
        "elu 0,549 0,408\n",
        "\n",
        "prelu 0.569 0.398\n",
        "\n",
        "SELU 0.57 0.397\n",
        "\n",
        "CELU 0.579 0.392\n",
        "\n",
        "GELU 0.584 0.389\n",
        "\n",
        "**avalon50**\n",
        "0.652 0.35"
      ],
      "metadata": {
        "id": "OFn0XKTmsaoK"
      }
    }
  ],
  "metadata": {
    "colab": {
      "collapsed_sections": [
        "kgTt1fPVohAH",
        "Jo2hqR_rW1vK",
        "aU1pAIaqfHI5",
        "8h8_VsvFjbpl",
        "LkIKvC0freh4",
        "4cxRSfHCw94Y",
        "xYZE06EkN4Y5",
        "WpAak4MtOB07",
        "5Tu8_jCuOH0L",
        "qH3YAehu34_P",
        "JSPw02Gk97da"
      ],
      "provenance": [],
      "include_colab_link": true
    },
    "kernelspec": {
      "display_name": "Python 3",
      "name": "python3"
    },
    "language_info": {
      "name": "python"
    }
  },
  "nbformat": 4,
  "nbformat_minor": 0
}